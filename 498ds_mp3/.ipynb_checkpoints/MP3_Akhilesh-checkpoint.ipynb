{
 "cells": [
  {
   "cell_type": "code",
   "execution_count": 2,
   "metadata": {
    "collapsed": true
   },
   "outputs": [],
   "source": [
    "import pandas as pd\n",
    "import numpy as np\n",
    "import pyshark"
   ]
  },
  {
   "cell_type": "code",
   "execution_count": 4,
   "metadata": {
    "collapsed": true
   },
   "outputs": [],
   "source": [
    "http = pyshark.FileCapture('http.pcap', keep_packets = True)\n",
    "http2 = pyshark.FileCapture('http2.pcap', keep_packets = True)\n",
    "dns = pyshark.FileCapture('dns.pcap', keep_packets = True)"
   ]
  },
  {
   "cell_type": "code",
   "execution_count": 12,
   "metadata": {
    "collapsed": true
   },
   "outputs": [],
   "source": [
    "try:\n",
    "    i = 0\n",
    "    while True:\n",
    "        http[i]\n",
    "        i += 1\n",
    "except KeyError:\n",
    "    pass\n",
    "\n",
    "try:\n",
    "    i = 0\n",
    "    while True:\n",
    "        http2[i]\n",
    "        i += 1\n",
    "except KeyError:\n",
    "    pass\n",
    "\n",
    "try:\n",
    "    i = 0\n",
    "    while True:\n",
    "        dns[i]\n",
    "        i += 1\n",
    "except KeyError:\n",
    "    pass"
   ]
  },
  {
   "cell_type": "code",
   "execution_count": 22,
   "metadata": {},
   "outputs": [
    {
     "data": {
      "text/plain": [
       "['',\n",
       " 'DATA_LAYER',\n",
       " '__class__',\n",
       " '__delattr__',\n",
       " '__dict__',\n",
       " '__dir__',\n",
       " '__doc__',\n",
       " '__eq__',\n",
       " '__format__',\n",
       " '__ge__',\n",
       " '__getattr__',\n",
       " '__getattribute__',\n",
       " '__getstate__',\n",
       " '__gt__',\n",
       " '__hash__',\n",
       " '__init__',\n",
       " '__init_subclass__',\n",
       " '__le__',\n",
       " '__lt__',\n",
       " '__module__',\n",
       " '__ne__',\n",
       " '__new__',\n",
       " '__reduce__',\n",
       " '__reduce_ex__',\n",
       " '__repr__',\n",
       " '__setattr__',\n",
       " '__setstate__',\n",
       " '__sizeof__',\n",
       " '__str__',\n",
       " '__subclasshook__',\n",
       " '__weakref__',\n",
       " '_all_fields',\n",
       " '_field_prefix',\n",
       " '_get_all_field_lines',\n",
       " '_get_all_fields_with_alternates',\n",
       " '_get_field_or_layer_repr',\n",
       " '_get_field_repr',\n",
       " '_layer_name',\n",
       " '_sanitize_field_name',\n",
       " '_ws_expert',\n",
       " '_ws_expert_group',\n",
       " '_ws_expert_message',\n",
       " '_ws_expert_severity',\n",
       " 'ack',\n",
       " 'ack_raw',\n",
       " 'analysis',\n",
       " 'analysis_ack_rtt',\n",
       " 'analysis_acks_frame',\n",
       " 'checksum',\n",
       " 'checksum_status',\n",
       " 'connection_sack',\n",
       " 'dstport',\n",
       " 'field_names',\n",
       " 'flags',\n",
       " 'flags_ack',\n",
       " 'flags_cwr',\n",
       " 'flags_ecn',\n",
       " 'flags_fin',\n",
       " 'flags_ns',\n",
       " 'flags_push',\n",
       " 'flags_res',\n",
       " 'flags_reset',\n",
       " 'flags_str',\n",
       " 'flags_syn',\n",
       " 'flags_urg',\n",
       " 'get',\n",
       " 'get_field',\n",
       " 'get_field_by_showname',\n",
       " 'get_field_value',\n",
       " 'hdr_len',\n",
       " 'layer_name',\n",
       " 'len',\n",
       " 'nxtseq',\n",
       " 'option_kind',\n",
       " 'option_len',\n",
       " 'options',\n",
       " 'options_mss',\n",
       " 'options_mss_val',\n",
       " 'port',\n",
       " 'pretty_print',\n",
       " 'raw_mode',\n",
       " 'seq',\n",
       " 'seq_raw',\n",
       " 'srcport',\n",
       " 'stream',\n",
       " 'time_delta',\n",
       " 'time_relative',\n",
       " 'urgent_pointer',\n",
       " 'window_size',\n",
       " 'window_size_value']"
      ]
     },
     "execution_count": 22,
     "metadata": {},
     "output_type": "execute_result"
    }
   ],
   "source": [
    "dir(http[1][2])"
   ]
  },
  {
   "cell_type": "code",
   "execution_count": 13,
   "metadata": {},
   "outputs": [
    {
     "name": "stdout",
     "output_type": "stream",
     "text": [
      "604 420 3761\n"
     ]
    }
   ],
   "source": [
    "print(len(http), len(http2), len(dns))"
   ]
  },
  {
   "cell_type": "code",
   "execution_count": 17,
   "metadata": {},
   "outputs": [
    {
     "data": {
      "text/plain": [
       "<TCP Packet>"
      ]
     },
     "execution_count": 17,
     "metadata": {},
     "output_type": "execute_result"
    }
   ],
   "source": [
    "ETH = 0\n",
    "IP = 1\n",
    "TCP = 2\n",
    "http_list = []\n",
    "for pkt in http:\n",
    "    pkt_time_stamp = pkt.sniff_time.timestamp()\n",
    "    pkt_length = len(pkt)\n",
    "    pkt_highest_layer = pkt[0]\n",
    "    d = {'timestamp': pkt_time_stamp, 'length':pkt_length, 'highest_layer':pkt_highest_layer}\n",
    "    http_list.append(d)\n",
    "    \n",
    "    "
   ]
  },
  {
   "cell_type": "code",
   "execution_count": null,
   "metadata": {
    "collapsed": true
   },
   "outputs": [],
   "source": []
  }
 ],
 "metadata": {
  "kernelspec": {
   "display_name": "Python 3",
   "language": "python",
   "name": "python3"
  },
  "language_info": {
   "codemirror_mode": {
    "name": "ipython",
    "version": 3
   },
   "file_extension": ".py",
   "mimetype": "text/x-python",
   "name": "python",
   "nbconvert_exporter": "python",
   "pygments_lexer": "ipython3",
   "version": "3.7.0"
  }
 },
 "nbformat": 4,
 "nbformat_minor": 4
}
