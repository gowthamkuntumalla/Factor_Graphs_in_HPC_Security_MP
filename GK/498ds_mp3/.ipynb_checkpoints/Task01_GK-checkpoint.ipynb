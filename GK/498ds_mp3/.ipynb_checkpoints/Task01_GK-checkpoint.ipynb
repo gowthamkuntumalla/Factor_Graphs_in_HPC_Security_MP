{
 "cells": [
  {
   "cell_type": "code",
   "execution_count": 6,
   "metadata": {
    "collapsed": true
   },
   "outputs": [],
   "source": [
    "import matplotlib.pyplot as plt\n",
    "import pandas as pd\n",
    "import os\n",
    "import pyshark\n",
    "from IPython.display import Image"
   ]
  },
  {
   "cell_type": "code",
   "execution_count": 11,
   "metadata": {},
   "outputs": [],
   "source": [
    "http = pyshark.FileCapture('Datasets/http.pcap', keep_packets=True)\n",
    "http2 = pyshark.FileCapture('Datasets/http2.pcap', keep_packets=True)\n",
    "dns = pyshark.FileCapture('Datasets/dns.pcap', keep_packets=True)\n"
   ]
  },
  {
   "cell_type": "code",
   "execution_count": 15,
   "metadata": {},
   "outputs": [],
   "source": [
    "def process_filecapture(file):\n",
    "    try:\n",
    "        i = 0\n",
    "        while True:\n",
    "            file[i]\n",
    "            i += 1\n",
    "    except KeyError:\n",
    "        pass\n",
    "\n",
    "process_filecapture(http)\n",
    "process_filecapture(http2)\n",
    "process_filecapture(dns)"
   ]
  },
  {
   "cell_type": "code",
   "execution_count": 19,
   "metadata": {},
   "outputs": [
    {
     "name": "stdout",
     "output_type": "stream",
     "text": [
      "604 420 3761\n"
     ]
    }
   ],
   "source": [
    "print(len(http), len(http2),len(dns))"
   ]
  },
  {
   "cell_type": "code",
   "execution_count": null,
   "metadata": {
    "collapsed": true
   },
   "outputs": [],
   "source": []
  }
 ],
 "metadata": {
  "kernelspec": {
   "display_name": "Python 3",
   "language": "python",
   "name": "python3"
  },
  "language_info": {
   "codemirror_mode": {
    "name": "ipython",
    "version": 3
   },
   "file_extension": ".py",
   "mimetype": "text/x-python",
   "name": "python",
   "nbconvert_exporter": "python",
   "pygments_lexer": "ipython3",
   "version": "3.7.7"
  }
 },
 "nbformat": 4,
 "nbformat_minor": 4
}
