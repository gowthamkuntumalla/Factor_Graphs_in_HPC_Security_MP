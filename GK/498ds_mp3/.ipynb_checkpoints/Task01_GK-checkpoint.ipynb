{
 "cells": [
  {
   "cell_type": "markdown",
   "metadata": {},
   "source": [
    "### somani4, gowtham4, mananm2 - MP3"
   ]
  },
  {
   "cell_type": "code",
   "execution_count": 14,
   "metadata": {
    "collapsed": true
   },
   "outputs": [],
   "source": [
    "import matplotlib.pyplot as plt\n",
    "import pandas as pd\n",
    "import os\n",
    "import pyshark\n",
    "from IPython.display import Image"
   ]
  },
  {
   "cell_type": "markdown",
   "metadata": {},
   "source": [
    "# Task 0"
   ]
  },
  {
   "cell_type": "markdown",
   "metadata": {},
   "source": [
    "### PCAP files"
   ]
  },
  {
   "cell_type": "code",
   "execution_count": 15,
   "metadata": {},
   "outputs": [],
   "source": [
    "http = pyshark.FileCapture('Datasets/http.pcap', keep_packets=True)\n",
    "http2 = pyshark.FileCapture('Datasets/http2.pcap', keep_packets=True)\n",
    "dns = pyshark.FileCapture('Datasets/dns.pcap', keep_packets=True)"
   ]
  },
  {
   "cell_type": "code",
   "execution_count": 16,
   "metadata": {},
   "outputs": [],
   "source": [
    "def process_filecapture(file):\n",
    "    try:\n",
    "        i = 0\n",
    "        while True:\n",
    "            file[i]\n",
    "            i += 1\n",
    "    except KeyError:\n",
    "        pass\n",
    "\n",
    "process_filecapture(http)\n",
    "process_filecapture(http2)\n",
    "process_filecapture(dns)\n"
   ]
  },
  {
   "cell_type": "code",
   "execution_count": 17,
   "metadata": {},
   "outputs": [
    {
     "name": "stdout",
     "output_type": "stream",
     "text": [
      "604 420 3761\n"
     ]
    }
   ],
   "source": [
    "print(len(http), len(http2),len(dns))"
   ]
  },
  {
   "cell_type": "code",
   "execution_count": 18,
   "metadata": {},
   "outputs": [
    {
     "data": {
      "text/plain": [
       "['__bool__',\n",
       " '__class__',\n",
       " '__contains__',\n",
       " '__delattr__',\n",
       " '__dict__',\n",
       " '__dir__',\n",
       " '__doc__',\n",
       " '__eq__',\n",
       " '__format__',\n",
       " '__ge__',\n",
       " '__getattr__',\n",
       " '__getattribute__',\n",
       " '__getitem__',\n",
       " '__getstate__',\n",
       " '__gt__',\n",
       " '__hash__',\n",
       " '__init__',\n",
       " '__init_subclass__',\n",
       " '__le__',\n",
       " '__len__',\n",
       " '__lt__',\n",
       " '__module__',\n",
       " '__ne__',\n",
       " '__new__',\n",
       " '__reduce__',\n",
       " '__reduce_ex__',\n",
       " '__repr__',\n",
       " '__setattr__',\n",
       " '__setstate__',\n",
       " '__sizeof__',\n",
       " '__str__',\n",
       " '__subclasshook__',\n",
       " '__weakref__',\n",
       " '_packet_string',\n",
       " 'captured_length',\n",
       " 'eth',\n",
       " 'frame_info',\n",
       " 'get_multiple_layers',\n",
       " 'get_raw_packet',\n",
       " 'highest_layer',\n",
       " 'interface_captured',\n",
       " 'ip',\n",
       " 'layers',\n",
       " 'length',\n",
       " 'number',\n",
       " 'pretty_print',\n",
       " 'show',\n",
       " 'sniff_time',\n",
       " 'sniff_timestamp',\n",
       " 'tcp',\n",
       " 'transport_layer']"
      ]
     },
     "execution_count": 18,
     "metadata": {},
     "output_type": "execute_result"
    }
   ],
   "source": [
    "## check attr and methods of pyshark captured packets\n",
    "# dir(http[0]['ip'])\n",
    "# dir(http[0]['tcp'])\n",
    "dir(http[0])"
   ]
  },
  {
   "cell_type": "code",
   "execution_count": 19,
   "metadata": {},
   "outputs": [
    {
     "data": {
      "text/html": [
       "<div>\n",
       "<style scoped>\n",
       "    .dataframe tbody tr th:only-of-type {\n",
       "        vertical-align: middle;\n",
       "    }\n",
       "\n",
       "    .dataframe tbody tr th {\n",
       "        vertical-align: top;\n",
       "    }\n",
       "\n",
       "    .dataframe thead th {\n",
       "        text-align: right;\n",
       "    }\n",
       "</style>\n",
       "<table border=\"1\" class=\"dataframe\">\n",
       "  <thead>\n",
       "    <tr style=\"text-align: right;\">\n",
       "      <th></th>\n",
       "      <th>timestamp</th>\n",
       "      <th>highest_layer</th>\n",
       "      <th>length</th>\n",
       "      <th>dest_ip</th>\n",
       "      <th>dest_port</th>\n",
       "    </tr>\n",
       "  </thead>\n",
       "  <tbody>\n",
       "    <tr>\n",
       "      <th>0</th>\n",
       "      <td>1.521395e+09</td>\n",
       "      <td>TCP</td>\n",
       "      <td>58</td>\n",
       "      <td>172.17.0.2</td>\n",
       "      <td>8080</td>\n",
       "    </tr>\n",
       "    <tr>\n",
       "      <th>1</th>\n",
       "      <td>1.521395e+09</td>\n",
       "      <td>TCP</td>\n",
       "      <td>58</td>\n",
       "      <td>10.0.2.2</td>\n",
       "      <td>55952</td>\n",
       "    </tr>\n",
       "    <tr>\n",
       "      <th>2</th>\n",
       "      <td>1.521395e+09</td>\n",
       "      <td>TCP</td>\n",
       "      <td>54</td>\n",
       "      <td>172.17.0.2</td>\n",
       "      <td>8080</td>\n",
       "    </tr>\n",
       "    <tr>\n",
       "      <th>3</th>\n",
       "      <td>1.521395e+09</td>\n",
       "      <td>HTTP</td>\n",
       "      <td>766</td>\n",
       "      <td>172.17.0.2</td>\n",
       "      <td>8080</td>\n",
       "    </tr>\n",
       "    <tr>\n",
       "      <th>4</th>\n",
       "      <td>1.521395e+09</td>\n",
       "      <td>TCP</td>\n",
       "      <td>54</td>\n",
       "      <td>10.0.2.2</td>\n",
       "      <td>55952</td>\n",
       "    </tr>\n",
       "  </tbody>\n",
       "</table>\n",
       "</div>"
      ],
      "text/plain": [
       "      timestamp highest_layer length     dest_ip dest_port\n",
       "0  1.521395e+09           TCP     58  172.17.0.2      8080\n",
       "1  1.521395e+09           TCP     58    10.0.2.2     55952\n",
       "2  1.521395e+09           TCP     54  172.17.0.2      8080\n",
       "3  1.521395e+09          HTTP    766  172.17.0.2      8080\n",
       "4  1.521395e+09           TCP     54    10.0.2.2     55952"
      ]
     },
     "execution_count": 19,
     "metadata": {},
     "output_type": "execute_result"
    }
   ],
   "source": [
    "df_data = []\n",
    "for pkt in http:\n",
    "    if len(pkt.layers) < 3:\n",
    "        continue\n",
    "    if pkt[2].layer_name != 'tcp':\n",
    "        continue\n",
    "    \n",
    "    d = {\n",
    "        'timestamp': pkt.sniff_time.timestamp(),\n",
    "        'highest_layer':pkt.highest_layer ,\n",
    "        'length': pkt.length,\n",
    "        'dest_ip': pkt['IP'].dst,\n",
    "        'dest_port': pkt['TCP'].dstport\n",
    "    }\n",
    "    df_data.append(d)\n",
    "\n",
    "df_http = pd.DataFrame(df_data)\n",
    "df_http.head()"
   ]
  },
  {
   "cell_type": "code",
   "execution_count": 20,
   "metadata": {},
   "outputs": [
    {
     "data": {
      "text/html": [
       "<div>\n",
       "<style scoped>\n",
       "    .dataframe tbody tr th:only-of-type {\n",
       "        vertical-align: middle;\n",
       "    }\n",
       "\n",
       "    .dataframe tbody tr th {\n",
       "        vertical-align: top;\n",
       "    }\n",
       "\n",
       "    .dataframe thead th {\n",
       "        text-align: right;\n",
       "    }\n",
       "</style>\n",
       "<table border=\"1\" class=\"dataframe\">\n",
       "  <thead>\n",
       "    <tr style=\"text-align: right;\">\n",
       "      <th></th>\n",
       "      <th>timestamp</th>\n",
       "      <th>highest_layer</th>\n",
       "      <th>length</th>\n",
       "      <th>dest_ip</th>\n",
       "      <th>dest_port</th>\n",
       "    </tr>\n",
       "  </thead>\n",
       "  <tbody>\n",
       "    <tr>\n",
       "      <th>0</th>\n",
       "      <td>1.553740e+09</td>\n",
       "      <td>TLS</td>\n",
       "      <td>55</td>\n",
       "      <td>74.125.124.95</td>\n",
       "      <td>443</td>\n",
       "    </tr>\n",
       "    <tr>\n",
       "      <th>1</th>\n",
       "      <td>1.553740e+09</td>\n",
       "      <td>TCP</td>\n",
       "      <td>66</td>\n",
       "      <td>10.194.59.155</td>\n",
       "      <td>61103</td>\n",
       "    </tr>\n",
       "    <tr>\n",
       "      <th>2</th>\n",
       "      <td>1.553740e+09</td>\n",
       "      <td>TLS</td>\n",
       "      <td>55</td>\n",
       "      <td>104.25.218.21</td>\n",
       "      <td>443</td>\n",
       "    </tr>\n",
       "    <tr>\n",
       "      <th>3</th>\n",
       "      <td>1.553740e+09</td>\n",
       "      <td>TCP</td>\n",
       "      <td>66</td>\n",
       "      <td>10.194.59.155</td>\n",
       "      <td>64299</td>\n",
       "    </tr>\n",
       "    <tr>\n",
       "      <th>4</th>\n",
       "      <td>1.553740e+09</td>\n",
       "      <td>TCP</td>\n",
       "      <td>55</td>\n",
       "      <td>151.101.184.193</td>\n",
       "      <td>80</td>\n",
       "    </tr>\n",
       "  </tbody>\n",
       "</table>\n",
       "</div>"
      ],
      "text/plain": [
       "      timestamp highest_layer length          dest_ip dest_port\n",
       "0  1.553740e+09           TLS     55    74.125.124.95       443\n",
       "1  1.553740e+09           TCP     66    10.194.59.155     61103\n",
       "2  1.553740e+09           TLS     55    104.25.218.21       443\n",
       "3  1.553740e+09           TCP     66    10.194.59.155     64299\n",
       "4  1.553740e+09           TCP     55  151.101.184.193        80"
      ]
     },
     "execution_count": 20,
     "metadata": {},
     "output_type": "execute_result"
    }
   ],
   "source": [
    "df_data = []\n",
    "for pkt in http2:\n",
    "    if len(pkt.layers) < 3:\n",
    "        continue\n",
    "    if pkt[2].layer_name != 'tcp':\n",
    "        continue\n",
    "    \n",
    "    d = {\n",
    "        'timestamp': pkt.sniff_time.timestamp(),\n",
    "        'highest_layer':pkt.highest_layer ,\n",
    "        'length': pkt.length,\n",
    "        'dest_ip': pkt['IP'].dst,\n",
    "        'dest_port': pkt['TCP'].dstport\n",
    "        \n",
    "    }\n",
    "    df_data.append(d)\n",
    "df_http2 = pd.DataFrame(df_data)\n",
    "df_http2.head()"
   ]
  },
  {
   "cell_type": "code",
   "execution_count": 21,
   "metadata": {},
   "outputs": [
    {
     "data": {
      "text/html": [
       "<div>\n",
       "<style scoped>\n",
       "    .dataframe tbody tr th:only-of-type {\n",
       "        vertical-align: middle;\n",
       "    }\n",
       "\n",
       "    .dataframe tbody tr th {\n",
       "        vertical-align: top;\n",
       "    }\n",
       "\n",
       "    .dataframe thead th {\n",
       "        text-align: right;\n",
       "    }\n",
       "</style>\n",
       "<table border=\"1\" class=\"dataframe\">\n",
       "  <thead>\n",
       "    <tr style=\"text-align: right;\">\n",
       "      <th></th>\n",
       "      <th>timestamp</th>\n",
       "      <th>highest_layer</th>\n",
       "      <th>length</th>\n",
       "      <th>dest_ip</th>\n",
       "      <th>source_ip</th>\n",
       "      <th>dest_port</th>\n",
       "      <th>source_port</th>\n",
       "    </tr>\n",
       "  </thead>\n",
       "  <tbody>\n",
       "    <tr>\n",
       "      <th>0</th>\n",
       "      <td>1.521397e+09</td>\n",
       "      <td>DNS</td>\n",
       "      <td>88</td>\n",
       "      <td>162.212.156.148</td>\n",
       "      <td>10.0.2.15</td>\n",
       "      <td>53</td>\n",
       "      <td>43204</td>\n",
       "    </tr>\n",
       "    <tr>\n",
       "      <th>1</th>\n",
       "      <td>1.521397e+09</td>\n",
       "      <td>DNS</td>\n",
       "      <td>93</td>\n",
       "      <td>10.0.2.15</td>\n",
       "      <td>162.212.156.148</td>\n",
       "      <td>43204</td>\n",
       "      <td>53</td>\n",
       "    </tr>\n",
       "    <tr>\n",
       "      <th>2</th>\n",
       "      <td>1.521397e+09</td>\n",
       "      <td>DNS</td>\n",
       "      <td>88</td>\n",
       "      <td>162.212.156.148</td>\n",
       "      <td>10.0.2.15</td>\n",
       "      <td>53</td>\n",
       "      <td>43204</td>\n",
       "    </tr>\n",
       "    <tr>\n",
       "      <th>3</th>\n",
       "      <td>1.521397e+09</td>\n",
       "      <td>DNS</td>\n",
       "      <td>93</td>\n",
       "      <td>10.0.2.15</td>\n",
       "      <td>162.212.156.148</td>\n",
       "      <td>43204</td>\n",
       "      <td>53</td>\n",
       "    </tr>\n",
       "    <tr>\n",
       "      <th>4</th>\n",
       "      <td>1.521397e+09</td>\n",
       "      <td>DNS</td>\n",
       "      <td>88</td>\n",
       "      <td>162.212.156.148</td>\n",
       "      <td>10.0.2.15</td>\n",
       "      <td>53</td>\n",
       "      <td>43204</td>\n",
       "    </tr>\n",
       "  </tbody>\n",
       "</table>\n",
       "</div>"
      ],
      "text/plain": [
       "      timestamp highest_layer length          dest_ip        source_ip  \\\n",
       "0  1.521397e+09           DNS     88  162.212.156.148        10.0.2.15   \n",
       "1  1.521397e+09           DNS     93        10.0.2.15  162.212.156.148   \n",
       "2  1.521397e+09           DNS     88  162.212.156.148        10.0.2.15   \n",
       "3  1.521397e+09           DNS     93        10.0.2.15  162.212.156.148   \n",
       "4  1.521397e+09           DNS     88  162.212.156.148        10.0.2.15   \n",
       "\n",
       "  dest_port source_port  \n",
       "0        53       43204  \n",
       "1     43204          53  \n",
       "2        53       43204  \n",
       "3     43204          53  \n",
       "4        53       43204  "
      ]
     },
     "execution_count": 21,
     "metadata": {},
     "output_type": "execute_result"
    }
   ],
   "source": [
    "df_data = []\n",
    "for pkt in dns:\n",
    "    if len(pkt.layers) < 3:\n",
    "        continue\n",
    "    if pkt[2].layer_name != 'udp':\n",
    "        continue\n",
    "    \n",
    "    d = {\n",
    "        'timestamp': pkt.sniff_time.timestamp(),\n",
    "        'highest_layer': pkt.highest_layer,\n",
    "        'length': pkt.length,\n",
    "        'dest_ip': pkt['ip'].dst,\n",
    "        'source_ip': pkt['ip'].src,\n",
    "        'dest_port': pkt['udp'].dstport,\n",
    "        'source_port': pkt['udp'].srcport\n",
    "    }\n",
    "    df_data.append(d)\n",
    "\n",
    "df_dns = pd.DataFrame(df_data)\n",
    "df_dns.head()"
   ]
  },
  {
   "cell_type": "markdown",
   "metadata": {},
   "source": [
    "### JSON files"
   ]
  },
  {
   "cell_type": "code",
   "execution_count": 22,
   "metadata": {},
   "outputs": [
    {
     "ename": "AttributeError",
     "evalue": "'str' object has no attribute 'values'",
     "output_type": "error",
     "traceback": [
      "\u001b[0;31m---------------------------------------------------------------------------\u001b[0m",
      "\u001b[0;31mAttributeError\u001b[0m                            Traceback (most recent call last)",
      "\u001b[0;32m<ipython-input-22-2ace0805ea38>\u001b[0m in \u001b[0;36m<module>\u001b[0;34m\u001b[0m\n\u001b[0;32m----> 1\u001b[0;31m \u001b[0mdf_oslogs\u001b[0m \u001b[0;34m=\u001b[0m \u001b[0mpd\u001b[0m\u001b[0;34m.\u001b[0m\u001b[0mjson_normalize\u001b[0m\u001b[0;34m(\u001b[0m\u001b[0;34m'Datasets/osqueryd.results.log'\u001b[0m\u001b[0;34m,\u001b[0m\u001b[0msep\u001b[0m \u001b[0;34m=\u001b[0m \u001b[0;34m'_'\u001b[0m\u001b[0;34m)\u001b[0m\u001b[0;34m\u001b[0m\u001b[0;34m\u001b[0m\u001b[0m\n\u001b[0m",
      "\u001b[0;32m~/Documents/GitHub/Factor_Graphs_in_HPC_Security_MP/GK/498ds_mp3/lib/python3.7/site-packages/pandas/io/json/_normalize.py\u001b[0m in \u001b[0;36m_json_normalize\u001b[0;34m(data, record_path, meta, meta_prefix, record_prefix, errors, sep, max_level)\u001b[0m\n\u001b[1;32m    272\u001b[0m \u001b[0;34m\u001b[0m\u001b[0m\n\u001b[1;32m    273\u001b[0m     \u001b[0;32mif\u001b[0m \u001b[0mrecord_path\u001b[0m \u001b[0;32mis\u001b[0m \u001b[0;32mNone\u001b[0m\u001b[0;34m:\u001b[0m\u001b[0;34m\u001b[0m\u001b[0;34m\u001b[0m\u001b[0m\n\u001b[0;32m--> 274\u001b[0;31m         \u001b[0;32mif\u001b[0m \u001b[0many\u001b[0m\u001b[0;34m(\u001b[0m\u001b[0;34m[\u001b[0m\u001b[0misinstance\u001b[0m\u001b[0;34m(\u001b[0m\u001b[0mx\u001b[0m\u001b[0;34m,\u001b[0m \u001b[0mdict\u001b[0m\u001b[0;34m)\u001b[0m \u001b[0;32mfor\u001b[0m \u001b[0mx\u001b[0m \u001b[0;32min\u001b[0m \u001b[0my\u001b[0m\u001b[0;34m.\u001b[0m\u001b[0mvalues\u001b[0m\u001b[0;34m(\u001b[0m\u001b[0;34m)\u001b[0m\u001b[0;34m]\u001b[0m \u001b[0;32mfor\u001b[0m \u001b[0my\u001b[0m \u001b[0;32min\u001b[0m \u001b[0mdata\u001b[0m\u001b[0;34m)\u001b[0m\u001b[0;34m:\u001b[0m\u001b[0;34m\u001b[0m\u001b[0;34m\u001b[0m\u001b[0m\n\u001b[0m\u001b[1;32m    275\u001b[0m             \u001b[0;31m# naive normalization, this is idempotent for flat records\u001b[0m\u001b[0;34m\u001b[0m\u001b[0;34m\u001b[0m\u001b[0;34m\u001b[0m\u001b[0m\n\u001b[1;32m    276\u001b[0m             \u001b[0;31m# and potentially will inflate the data considerably for\u001b[0m\u001b[0;34m\u001b[0m\u001b[0;34m\u001b[0m\u001b[0;34m\u001b[0m\u001b[0m\n",
      "\u001b[0;32m~/Documents/GitHub/Factor_Graphs_in_HPC_Security_MP/GK/498ds_mp3/lib/python3.7/site-packages/pandas/io/json/_normalize.py\u001b[0m in \u001b[0;36m<genexpr>\u001b[0;34m(.0)\u001b[0m\n\u001b[1;32m    272\u001b[0m \u001b[0;34m\u001b[0m\u001b[0m\n\u001b[1;32m    273\u001b[0m     \u001b[0;32mif\u001b[0m \u001b[0mrecord_path\u001b[0m \u001b[0;32mis\u001b[0m \u001b[0;32mNone\u001b[0m\u001b[0;34m:\u001b[0m\u001b[0;34m\u001b[0m\u001b[0;34m\u001b[0m\u001b[0m\n\u001b[0;32m--> 274\u001b[0;31m         \u001b[0;32mif\u001b[0m \u001b[0many\u001b[0m\u001b[0;34m(\u001b[0m\u001b[0;34m[\u001b[0m\u001b[0misinstance\u001b[0m\u001b[0;34m(\u001b[0m\u001b[0mx\u001b[0m\u001b[0;34m,\u001b[0m \u001b[0mdict\u001b[0m\u001b[0;34m)\u001b[0m \u001b[0;32mfor\u001b[0m \u001b[0mx\u001b[0m \u001b[0;32min\u001b[0m \u001b[0my\u001b[0m\u001b[0;34m.\u001b[0m\u001b[0mvalues\u001b[0m\u001b[0;34m(\u001b[0m\u001b[0;34m)\u001b[0m\u001b[0;34m]\u001b[0m \u001b[0;32mfor\u001b[0m \u001b[0my\u001b[0m \u001b[0;32min\u001b[0m \u001b[0mdata\u001b[0m\u001b[0;34m)\u001b[0m\u001b[0;34m:\u001b[0m\u001b[0;34m\u001b[0m\u001b[0;34m\u001b[0m\u001b[0m\n\u001b[0m\u001b[1;32m    275\u001b[0m             \u001b[0;31m# naive normalization, this is idempotent for flat records\u001b[0m\u001b[0;34m\u001b[0m\u001b[0;34m\u001b[0m\u001b[0;34m\u001b[0m\u001b[0m\n\u001b[1;32m    276\u001b[0m             \u001b[0;31m# and potentially will inflate the data considerably for\u001b[0m\u001b[0;34m\u001b[0m\u001b[0;34m\u001b[0m\u001b[0;34m\u001b[0m\u001b[0m\n",
      "\u001b[0;31mAttributeError\u001b[0m: 'str' object has no attribute 'values'"
     ]
    }
   ],
   "source": [
    "df_oslogs = pd.json_normalize('Datasets/osqueryd.results.log',sep = '_')"
   ]
  },
  {
   "cell_type": "code",
   "execution_count": null,
   "metadata": {
    "collapsed": true
   },
   "outputs": [],
   "source": []
  },
  {
   "cell_type": "markdown",
   "metadata": {},
   "source": [
    "# Task1"
   ]
  },
  {
   "cell_type": "code",
   "execution_count": null,
   "metadata": {
    "collapsed": true
   },
   "outputs": [],
   "source": []
  }
 ],
 "metadata": {
  "kernelspec": {
   "display_name": "Python 3",
   "language": "python",
   "name": "python3"
  },
  "language_info": {
   "codemirror_mode": {
    "name": "ipython",
    "version": 3
   },
   "file_extension": ".py",
   "mimetype": "text/x-python",
   "name": "python",
   "nbconvert_exporter": "python",
   "pygments_lexer": "ipython3",
   "version": "3.7.7"
  }
 },
 "nbformat": 4,
 "nbformat_minor": 4
}
